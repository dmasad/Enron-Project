{
 "metadata": {
  "name": "",
  "signature": "sha256:ff6ea35aa06d8148b54eec143c693524fac5729d0c0edcb63afd44c814a1a872"
 },
 "nbformat": 3,
 "nbformat_minor": 0,
 "worksheets": [
  {
   "cells": [
    {
     "cell_type": "code",
     "collapsed": false,
     "input": [
      "import random\n",
      "import csv\n",
      "import os\n",
      "from collections import defaultdict\n",
      "from EnronCode import *"
     ],
     "language": "python",
     "metadata": {},
     "outputs": [],
     "prompt_number": 17
    },
    {
     "cell_type": "code",
     "collapsed": false,
     "input": [
      "BASE = \"/Users/dmasad/Data/EnronCorpus/maildir/\""
     ],
     "language": "python",
     "metadata": {},
     "outputs": [],
     "prompt_number": 2
    },
    {
     "cell_type": "code",
     "collapsed": false,
     "input": [
      "f = open(\"CoreEmails.csv\", \"wb\")\n",
      "for subdir in os.listdir(BASE):\n",
      "    if subdir[0] == \".\": continue\n",
      "    try:\n",
      "        f.write(get_most_likely_email(subdir) + \"\\n\") \n",
      "    except:\n",
      "        f.write(\"NOT FOUND:\" + subdir + \"\\n\")\n",
      "f.close()"
     ],
     "language": "python",
     "metadata": {},
     "outputs": [],
     "prompt_number": 92
    },
    {
     "cell_type": "code",
     "collapsed": false,
     "input": [
      "def get_most_likely_email(subdir):\n",
      "    all_files = get_all_files(BASE + subdir)\n",
      "    candidates = defaultdict(int)\n",
      "    first_initial = subdir[-1]\n",
      "    last_name = subdir.split(\"-\")[0]\n",
      "\n",
      "    for i in range(100):\n",
      "        f = random.choice(all_files)\n",
      "        text = open(f).read()\n",
      "        header = get_header(text)\n",
      "        emails = []\n",
      "        if \"To\" in header:\n",
      "            emails += header[\"To\"]\n",
      "        if \"From\" in header:\n",
      "            emails.append(header[\"From\"])\n",
      "\n",
      "        for email in emails:\n",
      "            if \"enron.com\" not in email: continue\n",
      "            try:\n",
      "                name = email.split(\"@\")[0]\n",
      "                last = name.split(\".\")[1]\n",
      "                if last == last_name:\n",
      "                    candidates[email] += 1\n",
      "            except:\n",
      "                continue\n",
      "\n",
      "    return max(candidates, key=lambda x: candidates[x])"
     ],
     "language": "python",
     "metadata": {},
     "outputs": [],
     "prompt_number": 88
    },
    {
     "cell_type": "code",
     "collapsed": false,
     "input": [
      "()"
     ],
     "language": "python",
     "metadata": {},
     "outputs": [],
     "prompt_number": 93
    },
    {
     "cell_type": "code",
     "collapsed": false,
     "input": [],
     "language": "python",
     "metadata": {},
     "outputs": []
    }
   ],
   "metadata": {}
  }
 ]
}