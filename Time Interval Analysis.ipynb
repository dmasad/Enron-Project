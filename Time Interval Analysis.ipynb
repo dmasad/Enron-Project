{
 "metadata": {
  "name": "",
  "signature": "sha256:9b29eafae80e09ab9c7151a059eaf652569fd04145a6cbbae0686efb6dc40b28"
 },
 "nbformat": 3,
 "nbformat_minor": 0,
 "worksheets": [
  {
   "cells": [
    {
     "cell_type": "markdown",
     "metadata": {},
     "source": [
      "# Time Interval Analysis\n",
      "\n",
      "Initial analysis on the time delta between each actor's incoming emails."
     ]
    },
    {
     "cell_type": "code",
     "collapsed": false,
     "input": [
      "from collections import defaultdict\n",
      "import datetime as dt\n",
      "\n",
      "import numpy as np\n",
      "import matplotlib.pyplot as plt\n",
      "\n",
      "import networkx as nx\n",
      "import pandas\n",
      "\n",
      "from __future__ import division"
     ],
     "language": "python",
     "metadata": {},
     "outputs": [],
     "prompt_number": 1
    },
    {
     "cell_type": "code",
     "collapsed": false,
     "input": [
      "%matplotlib inline"
     ],
     "language": "python",
     "metadata": {},
     "outputs": [],
     "prompt_number": 2
    },
    {
     "cell_type": "code",
     "collapsed": false,
     "input": [
      "data = pandas.read_csv(\"AllEmails.csv\", parse_dates=[1])"
     ],
     "language": "python",
     "metadata": {},
     "outputs": [],
     "prompt_number": 3
    },
    {
     "cell_type": "code",
     "collapsed": false,
     "input": [
      "data[\"Year\"] = data.Date.apply(lambda x: x.year)\n",
      "data[\"Month\"] = data.Date.apply(lambda x: x.month)\n",
      "data[\"Day\"] = data.Date.apply(lambda x: x.day)"
     ],
     "language": "python",
     "metadata": {},
     "outputs": [],
     "prompt_number": 4
    },
    {
     "cell_type": "code",
     "collapsed": false,
     "input": [
      "# Subset on dates\n",
      "data = data[(data.Year >= 1999) & (data.Year <= 2002)]"
     ],
     "language": "python",
     "metadata": {},
     "outputs": [],
     "prompt_number": 5
    },
    {
     "cell_type": "code",
     "collapsed": false,
     "input": [
      "data.head()"
     ],
     "language": "python",
     "metadata": {},
     "outputs": [
      {
       "html": [
        "<div style=\"max-height:1000px;max-width:1500px;overflow:auto;\">\n",
        "<table border=\"1\" class=\"dataframe\">\n",
        "  <thead>\n",
        "    <tr style=\"text-align: right;\">\n",
        "      <th></th>\n",
        "      <th>MessageID</th>\n",
        "      <th>Date</th>\n",
        "      <th>From</th>\n",
        "      <th>To</th>\n",
        "      <th>Year</th>\n",
        "      <th>Month</th>\n",
        "      <th>Day</th>\n",
        "    </tr>\n",
        "  </thead>\n",
        "  <tbody>\n",
        "    <tr>\n",
        "      <th>0</th>\n",
        "      <td> &lt;18782981.1075855378110.JavaMail.evans@thyme&gt;</td>\n",
        "      <td>2001-05-14 23:39:00</td>\n",
        "      <td> phillip.allen@enron.com</td>\n",
        "      <td>    tim.belden@enron.com</td>\n",
        "      <td> 2001</td>\n",
        "      <td>  5</td>\n",
        "      <td> 14</td>\n",
        "    </tr>\n",
        "    <tr>\n",
        "      <th>1</th>\n",
        "      <td> &lt;15464986.1075855378456.JavaMail.evans@thyme&gt;</td>\n",
        "      <td>2001-05-04 20:51:00</td>\n",
        "      <td> phillip.allen@enron.com</td>\n",
        "      <td> john.lavorato@enron.com</td>\n",
        "      <td> 2001</td>\n",
        "      <td>  5</td>\n",
        "      <td>  4</td>\n",
        "    </tr>\n",
        "    <tr>\n",
        "      <th>2</th>\n",
        "      <td> &lt;24216240.1075855687451.JavaMail.evans@thyme&gt;</td>\n",
        "      <td>2000-10-18 10:00:00</td>\n",
        "      <td> phillip.allen@enron.com</td>\n",
        "      <td>  leah.arsdall@enron.com</td>\n",
        "      <td> 2000</td>\n",
        "      <td> 10</td>\n",
        "      <td> 18</td>\n",
        "    </tr>\n",
        "    <tr>\n",
        "      <th>3</th>\n",
        "      <td> &lt;13505866.1075863688222.JavaMail.evans@thyme&gt;</td>\n",
        "      <td>2000-10-23 13:13:00</td>\n",
        "      <td> phillip.allen@enron.com</td>\n",
        "      <td>   randall.gay@enron.com</td>\n",
        "      <td> 2000</td>\n",
        "      <td> 10</td>\n",
        "      <td> 23</td>\n",
        "    </tr>\n",
        "    <tr>\n",
        "      <th>4</th>\n",
        "      <td> &lt;30922949.1075863688243.JavaMail.evans@thyme&gt;</td>\n",
        "      <td>2000-08-31 12:07:00</td>\n",
        "      <td> phillip.allen@enron.com</td>\n",
        "      <td>    greg.piper@enron.com</td>\n",
        "      <td> 2000</td>\n",
        "      <td>  8</td>\n",
        "      <td> 31</td>\n",
        "    </tr>\n",
        "  </tbody>\n",
        "</table>\n",
        "</div>"
       ],
       "metadata": {},
       "output_type": "pyout",
       "prompt_number": 9,
       "text": [
        "                                       MessageID                Date  \\\n",
        "0  <18782981.1075855378110.JavaMail.evans@thyme> 2001-05-14 23:39:00   \n",
        "1  <15464986.1075855378456.JavaMail.evans@thyme> 2001-05-04 20:51:00   \n",
        "2  <24216240.1075855687451.JavaMail.evans@thyme> 2000-10-18 10:00:00   \n",
        "3  <13505866.1075863688222.JavaMail.evans@thyme> 2000-10-23 13:13:00   \n",
        "4  <30922949.1075863688243.JavaMail.evans@thyme> 2000-08-31 12:07:00   \n",
        "\n",
        "                      From                       To  Year  Month  Day  \n",
        "0  phillip.allen@enron.com     tim.belden@enron.com  2001      5   14  \n",
        "1  phillip.allen@enron.com  john.lavorato@enron.com  2001      5    4  \n",
        "2  phillip.allen@enron.com   leah.arsdall@enron.com  2000     10   18  \n",
        "3  phillip.allen@enron.com    randall.gay@enron.com  2000     10   23  \n",
        "4  phillip.allen@enron.com     greg.piper@enron.com  2000      8   31  "
       ]
      }
     ],
     "prompt_number": 9
    },
    {
     "cell_type": "code",
     "collapsed": false,
     "input": [
      "data.sort([\"To\", \"Date\"], inplace=True)\n",
      "data = data.reset_index()"
     ],
     "language": "python",
     "metadata": {},
     "outputs": [],
     "prompt_number": 10
    },
    {
     "cell_type": "code",
     "collapsed": false,
     "input": [
      "data[\"DeltaT\"] = dt.timedelta(0)"
     ],
     "language": "python",
     "metadata": {},
     "outputs": [],
     "prompt_number": 11
    },
    {
     "cell_type": "code",
     "collapsed": false,
     "input": [
      "for row in data.iterrows():\n",
      "    i = row[0]\n",
      "    if i == 0: continue\n",
      "    if row[1][\"To\"] == data.To[i-1]:\n",
      "        data.DeltaT[i] = row[1][\"Date\"] - data.Date[i-1]"
     ],
     "language": "python",
     "metadata": {},
     "outputs": [],
     "prompt_number": 12
    },
    {
     "cell_type": "code",
     "collapsed": false,
     "input": [
      "zero = dt.timedelta(0)\n",
      "deltat = data.DeltaT[data.DeltaT > zero]"
     ],
     "language": "python",
     "metadata": {},
     "outputs": [],
     "prompt_number": 13
    },
    {
     "cell_type": "code",
     "collapsed": false,
     "input": [
      "# Convert to minutes\n",
      "dmin = deltat.apply(lambda x: float(x) / (10**9 * 60) )"
     ],
     "language": "python",
     "metadata": {},
     "outputs": [],
     "prompt_number": 14
    },
    {
     "cell_type": "code",
     "collapsed": false,
     "input": [
      "# Deltas when under 24 hours\n",
      "dmin[dmin<(24*60)].hist()"
     ],
     "language": "python",
     "metadata": {},
     "outputs": [
      {
       "metadata": {},
       "output_type": "pyout",
       "prompt_number": 15,
       "text": [
        "<matplotlib.axes.AxesSubplot at 0x11603e290>"
       ]
      },
      {
       "metadata": {},
       "output_type": "display_data",
       "png": "[encoded data removed]",
       "text": [
        "<matplotlib.figure.Figure at 0x108db2450>"
       ]
      }
     ],
     "prompt_number": 15
    },
    {
     "cell_type": "code",
     "collapsed": false,
     "input": [
      "subset = data[data.DeltaT > zero]\n",
      "subset[\"DeltaMin\"] = subset.DeltaT.apply(lambda x: float(x.total_seconds() / 60.0 ))"
     ],
     "language": "python",
     "metadata": {},
     "outputs": [],
     "prompt_number": 16
    },
    {
     "cell_type": "code",
     "collapsed": false,
     "input": [
      "mean_waits = subset.groupby(\"To\").aggregate(np.mean)[\"DeltaMin\"]"
     ],
     "language": "python",
     "metadata": {},
     "outputs": [],
     "prompt_number": 17
    },
    {
     "cell_type": "code",
     "collapsed": false,
     "input": [
      "mean_waits[mean_waits < 100].hist()"
     ],
     "language": "python",
     "metadata": {},
     "outputs": [
      {
       "metadata": {},
       "output_type": "pyout",
       "prompt_number": 18,
       "text": [
        "<matplotlib.axes.AxesSubplot at 0x101ab4210>"
       ]
      },
      {
       "metadata": {},
       "output_type": "display_data",
       "png": "[encoded data removed]",
       "text": [
        "<matplotlib.figure.Figure at 0x187973950>"
       ]
      }
     ],
     "prompt_number": 18
    },
    {
     "cell_type": "markdown",
     "metadata": {},
     "source": [
      "## Sidebar - Key actors only?"
     ]
    },
    {
     "cell_type": "code",
     "collapsed": false,
     "input": [
      "sent_count = data.groupby(\"From\").aggregate(len)[\"MessageID\"]\n",
      "received_count = data.groupby(\"To\").aggregate(len)[\"MessageID\"]\n",
      "total_emails = pandas.DataFrame({\"Sent\": sent_count, \"Received\": received_count})"
     ],
     "language": "python",
     "metadata": {},
     "outputs": [],
     "prompt_number": 22
    },
    {
     "cell_type": "code",
     "collapsed": false,
     "input": [
      "total_emails.fillna(0, inplace=True)\n",
      "total_emails[\"Total\"] = total_emails.Sent + total_emails.Received"
     ],
     "language": "python",
     "metadata": {},
     "outputs": [],
     "prompt_number": 26
    },
    {
     "cell_type": "code",
     "collapsed": false,
     "input": [
      "total_emails.sort(\"Total\", ascending=False, inplace=True)"
     ],
     "language": "python",
     "metadata": {},
     "outputs": [],
     "prompt_number": 30
    },
    {
     "cell_type": "code",
     "collapsed": false,
     "input": [
      "total_emails.head(200).to_csv(\"Top200.csv\")"
     ],
     "language": "python",
     "metadata": {},
     "outputs": [],
     "prompt_number": 34
    },
    {
     "cell_type": "code",
     "collapsed": false,
     "input": [
      "len(total_emails[total_emails.Total > 1000]) / len(total_emails)"
     ],
     "language": "python",
     "metadata": {},
     "outputs": [
      {
       "metadata": {},
       "output_type": "pyout",
       "prompt_number": 41,
       "text": [
        "0.015024045359073536"
       ]
      }
     ],
     "prompt_number": 41
    },
    {
     "cell_type": "code",
     "collapsed": false,
     "input": [
      "len(total_emails[total_emails.Total > 10000]) "
     ],
     "language": "python",
     "metadata": {},
     "outputs": [
      {
       "metadata": {},
       "output_type": "pyout",
       "prompt_number": 48,
       "text": [
        "83"
       ]
      }
     ],
     "prompt_number": 48
    },
    {
     "cell_type": "code",
     "collapsed": false,
     "input": [
      "top_actors = total_emails[(total_emails.Total > 1000) &\n",
      "                          (total_emails.Sent > 0) & \n",
      "                          (total_emails.Received > 0)].index"
     ],
     "language": "python",
     "metadata": {},
     "outputs": [],
     "prompt_number": 56
    },
    {
     "cell_type": "code",
     "collapsed": false,
     "input": [
      "len(top_actors)"
     ],
     "language": "python",
     "metadata": {},
     "outputs": [
      {
       "metadata": {},
       "output_type": "pyout",
       "prompt_number": 58,
       "text": [
        "1238"
       ]
      }
     ],
     "prompt_number": 58
    },
    {
     "cell_type": "code",
     "collapsed": false,
     "input": [
      "top_actor_waits = mean_waits[top_actors]"
     ],
     "language": "python",
     "metadata": {},
     "outputs": [],
     "prompt_number": 59
    },
    {
     "cell_type": "code",
     "collapsed": false,
     "input": [
      "top_actor_waits.hist()\n",
      "plt.yscale('log')"
     ],
     "language": "python",
     "metadata": {},
     "outputs": [
      {
       "metadata": {},
       "output_type": "display_data",
       "png": "[encoded data removed]",
       "text": [
        "<matplotlib.figure.Figure at 0x1257e5510>"
       ]
      }
     ],
     "prompt_number": 69
    },
    {
     "cell_type": "code",
     "collapsed": false,
     "input": [
      "top_actor_waits[top_actor_waits<1000].hist()"
     ],
     "language": "python",
     "metadata": {},
     "outputs": [
      {
       "metadata": {},
       "output_type": "pyout",
       "prompt_number": 68,
       "text": [
        "<matplotlib.axes.AxesSubplot at 0x1257f91d0>"
       ]
      },
      {
       "metadata": {},
       "output_type": "display_data",
       "png": "[encoded data removed]",
       "text": [
        "<matplotlib.figure.Figure at 0x1257f0a50>"
       ]
      }
     ],
     "prompt_number": 68
    },
    {
     "cell_type": "code",
     "collapsed": false,
     "input": [
      "top_actor_waits.to_csv(\"TopActorWaits.csv\")"
     ],
     "language": "python",
     "metadata": {},
     "outputs": [],
     "prompt_number": 62
    },
    {
     "cell_type": "code",
     "collapsed": false,
     "input": [],
     "language": "python",
     "metadata": {},
     "outputs": []
    }
   ],
   "metadata": {}
  }
 ]
}