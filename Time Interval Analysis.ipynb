{
 "metadata": {
  "name": "",
  "signature": "sha256:17f834f6afd2b08d200574defd1b65757e4a83767c210e0e7542dcded3cdb0d9"
 },
 "nbformat": 3,
 "nbformat_minor": 0,
 "worksheets": [
  {
   "cells": [
    {
     "cell_type": "markdown",
     "metadata": {},
     "source": [
      "# Time Interval Analysis\n",
      "\n",
      "Initial analysis on the time delta between each actor's incoming emails."
     ]
    },
    {
     "cell_type": "code",
     "collapsed": false,
     "input": [
      "from collections import defaultdict\n",
      "import datetime as dt\n",
      "import random\n",
      "\n",
      "import numpy as np\n",
      "import matplotlib.pyplot as plt\n",
      "\n",
      "import networkx as nx\n",
      "import pandas\n",
      "\n",
      "from __future__ import division"
     ],
     "language": "python",
     "metadata": {},
     "outputs": [],
     "prompt_number": 34
    },
    {
     "cell_type": "code",
     "collapsed": false,
     "input": [
      "%matplotlib inline"
     ],
     "language": "python",
     "metadata": {},
     "outputs": [],
     "prompt_number": 2
    },
    {
     "cell_type": "code",
     "collapsed": false,
     "input": [
      "data = pandas.read_csv(\"AllEmails.csv\", parse_dates=[1])"
     ],
     "language": "python",
     "metadata": {},
     "outputs": [],
     "prompt_number": 3
    },
    {
     "cell_type": "code",
     "collapsed": false,
     "input": [
      "data[\"Year\"] = data.Date.apply(lambda x: x.year)\n",
      "data[\"Month\"] = data.Date.apply(lambda x: x.month)\n",
      "data[\"Day\"] = data.Date.apply(lambda x: x.day)"
     ],
     "language": "python",
     "metadata": {},
     "outputs": [],
     "prompt_number": 4
    },
    {
     "cell_type": "code",
     "collapsed": false,
     "input": [
      "# Subset on dates\n",
      "data = data[(data.Year >= 1999) & (data.Year <= 2002)]"
     ],
     "language": "python",
     "metadata": {},
     "outputs": [],
     "prompt_number": 6
    },
    {
     "cell_type": "code",
     "collapsed": false,
     "input": [
      "data.head()"
     ],
     "language": "python",
     "metadata": {},
     "outputs": [
      {
       "html": [
        "<div style=\"max-height:1000px;max-width:1500px;overflow:auto;\">\n",
        "<table border=\"1\" class=\"dataframe\">\n",
        "  <thead>\n",
        "    <tr style=\"text-align: right;\">\n",
        "      <th></th>\n",
        "      <th>MessageID</th>\n",
        "      <th>Date</th>\n",
        "      <th>From</th>\n",
        "      <th>To</th>\n",
        "      <th>Year</th>\n",
        "      <th>Month</th>\n",
        "      <th>Day</th>\n",
        "    </tr>\n",
        "  </thead>\n",
        "  <tbody>\n",
        "    <tr>\n",
        "      <th>0</th>\n",
        "      <td> &lt;18782981.1075855378110.JavaMail.evans@thyme&gt;</td>\n",
        "      <td>2001-05-14 23:39:00</td>\n",
        "      <td> phillip.allen@enron.com</td>\n",
        "      <td>    tim.belden@enron.com</td>\n",
        "      <td> 2001</td>\n",
        "      <td>  5</td>\n",
        "      <td> 14</td>\n",
        "    </tr>\n",
        "    <tr>\n",
        "      <th>1</th>\n",
        "      <td> &lt;15464986.1075855378456.JavaMail.evans@thyme&gt;</td>\n",
        "      <td>2001-05-04 20:51:00</td>\n",
        "      <td> phillip.allen@enron.com</td>\n",
        "      <td> john.lavorato@enron.com</td>\n",
        "      <td> 2001</td>\n",
        "      <td>  5</td>\n",
        "      <td>  4</td>\n",
        "    </tr>\n",
        "    <tr>\n",
        "      <th>2</th>\n",
        "      <td> &lt;24216240.1075855687451.JavaMail.evans@thyme&gt;</td>\n",
        "      <td>2000-10-18 10:00:00</td>\n",
        "      <td> phillip.allen@enron.com</td>\n",
        "      <td>  leah.arsdall@enron.com</td>\n",
        "      <td> 2000</td>\n",
        "      <td> 10</td>\n",
        "      <td> 18</td>\n",
        "    </tr>\n",
        "    <tr>\n",
        "      <th>3</th>\n",
        "      <td> &lt;13505866.1075863688222.JavaMail.evans@thyme&gt;</td>\n",
        "      <td>2000-10-23 13:13:00</td>\n",
        "      <td> phillip.allen@enron.com</td>\n",
        "      <td>   randall.gay@enron.com</td>\n",
        "      <td> 2000</td>\n",
        "      <td> 10</td>\n",
        "      <td> 23</td>\n",
        "    </tr>\n",
        "    <tr>\n",
        "      <th>4</th>\n",
        "      <td> &lt;30922949.1075863688243.JavaMail.evans@thyme&gt;</td>\n",
        "      <td>2000-08-31 12:07:00</td>\n",
        "      <td> phillip.allen@enron.com</td>\n",
        "      <td>    greg.piper@enron.com</td>\n",
        "      <td> 2000</td>\n",
        "      <td>  8</td>\n",
        "      <td> 31</td>\n",
        "    </tr>\n",
        "  </tbody>\n",
        "</table>\n",
        "</div>"
       ],
       "metadata": {},
       "output_type": "pyout",
       "prompt_number": 7,
       "text": [
        "                                       MessageID                Date  \\\n",
        "0  <18782981.1075855378110.JavaMail.evans@thyme> 2001-05-14 23:39:00   \n",
        "1  <15464986.1075855378456.JavaMail.evans@thyme> 2001-05-04 20:51:00   \n",
        "2  <24216240.1075855687451.JavaMail.evans@thyme> 2000-10-18 10:00:00   \n",
        "3  <13505866.1075863688222.JavaMail.evans@thyme> 2000-10-23 13:13:00   \n",
        "4  <30922949.1075863688243.JavaMail.evans@thyme> 2000-08-31 12:07:00   \n",
        "\n",
        "                      From                       To  Year  Month  Day  \n",
        "0  phillip.allen@enron.com     tim.belden@enron.com  2001      5   14  \n",
        "1  phillip.allen@enron.com  john.lavorato@enron.com  2001      5    4  \n",
        "2  phillip.allen@enron.com   leah.arsdall@enron.com  2000     10   18  \n",
        "3  phillip.allen@enron.com    randall.gay@enron.com  2000     10   23  \n",
        "4  phillip.allen@enron.com     greg.piper@enron.com  2000      8   31  "
       ]
      }
     ],
     "prompt_number": 7
    },
    {
     "cell_type": "code",
     "collapsed": false,
     "input": [
      "data.sort([\"To\", \"Date\"], inplace=True)\n",
      "data = data.reset_index()"
     ],
     "language": "python",
     "metadata": {},
     "outputs": [],
     "prompt_number": 8
    },
    {
     "cell_type": "code",
     "collapsed": false,
     "input": [
      "data[\"DeltaT\"] = dt.timedelta(0)"
     ],
     "language": "python",
     "metadata": {},
     "outputs": [],
     "prompt_number": 9
    },
    {
     "cell_type": "code",
     "collapsed": false,
     "input": [
      "for row in data.iterrows():\n",
      "    i = row[0]\n",
      "    if i == 0: continue\n",
      "    if row[1][\"To\"] == data.To[i-1]:\n",
      "        data.DeltaT[i] = row[1][\"Date\"] - data.Date[i-1]"
     ],
     "language": "python",
     "metadata": {},
     "outputs": [],
     "prompt_number": 10
    },
    {
     "cell_type": "code",
     "collapsed": false,
     "input": [
      "zero = dt.timedelta(0)\n",
      "deltat = data.DeltaT[data.DeltaT > zero]"
     ],
     "language": "python",
     "metadata": {},
     "outputs": [],
     "prompt_number": 11
    },
    {
     "cell_type": "code",
     "collapsed": false,
     "input": [
      "# Convert to minutes\n",
      "dmin = deltat.apply(lambda x: float(x) / (10**9 * 60) )"
     ],
     "language": "python",
     "metadata": {},
     "outputs": [],
     "prompt_number": 12
    },
    {
     "cell_type": "code",
     "collapsed": false,
     "input": [
      "# Deltas when under 24 hours\n",
      "dmin[dmin<(24*60)].hist()"
     ],
     "language": "python",
     "metadata": {},
     "outputs": [
      {
       "metadata": {},
       "output_type": "pyout",
       "prompt_number": 13,
       "text": [
        "<matplotlib.axes.AxesSubplot at 0x101ab49d0>"
       ]
      },
      {
       "metadata": {},
       "output_type": "display_data",
       "png": "[encoded data removed]",
       "text": [
        "<matplotlib.figure.Figure at 0x111e6ad10>"
       ]
      }
     ],
     "prompt_number": 13
    },
    {
     "cell_type": "code",
     "collapsed": false,
     "input": [
      "subset = data[data.DeltaT > zero]\n",
      "subset[\"DeltaMin\"] = subset.DeltaT.apply(lambda x: float(x.total_seconds() / 60.0 ))"
     ],
     "language": "python",
     "metadata": {},
     "outputs": [],
     "prompt_number": 14
    },
    {
     "cell_type": "code",
     "collapsed": false,
     "input": [
      "mean_waits = subset.groupby(\"To\").aggregate(np.mean)[\"DeltaMin\"]\n",
      "median_waits = subset.groupby(\"To\").aggregate(np.median)[\"DeltaMin\"]"
     ],
     "language": "python",
     "metadata": {},
     "outputs": [],
     "prompt_number": 15
    },
    {
     "cell_type": "code",
     "collapsed": false,
     "input": [
      "mean_waits[mean_waits < 100].hist()"
     ],
     "language": "python",
     "metadata": {},
     "outputs": [
      {
       "metadata": {},
       "output_type": "pyout",
       "prompt_number": 18,
       "text": [
        "<matplotlib.axes.AxesSubplot at 0x101ab4210>"
       ]
      },
      {
       "metadata": {},
       "output_type": "display_data",
       "png": "[encoded data removed]",
       "text": [
        "<matplotlib.figure.Figure at 0x187973950>"
       ]
      }
     ],
     "prompt_number": 18
    },
    {
     "cell_type": "code",
     "collapsed": false,
     "input": [
      "median_waits[median_waits<1000].hist()"
     ],
     "language": "python",
     "metadata": {},
     "outputs": [
      {
       "metadata": {},
       "output_type": "pyout",
       "prompt_number": 18,
       "text": [
        "<matplotlib.axes.AxesSubplot at 0x11ad32210>"
       ]
      },
      {
       "metadata": {},
       "output_type": "display_data",
       "png": "[encoded data removed]",
       "text": [
        "<matplotlib.figure.Figure at 0x11ad46210>"
       ]
      }
     ],
     "prompt_number": 18
    },
    {
     "cell_type": "markdown",
     "metadata": {},
     "source": [
      "## Sidebar - Key actors only?"
     ]
    },
    {
     "cell_type": "code",
     "collapsed": false,
     "input": [
      "sent_count = data.groupby(\"From\").aggregate(len)[\"MessageID\"]\n",
      "received_count = data.groupby(\"To\").aggregate(len)[\"MessageID\"]\n",
      "total_emails = pandas.DataFrame({\"Sent\": sent_count, \"Received\": received_count})"
     ],
     "language": "python",
     "metadata": {},
     "outputs": [],
     "prompt_number": 19
    },
    {
     "cell_type": "code",
     "collapsed": false,
     "input": [
      "total_emails.fillna(0, inplace=True)\n",
      "total_emails[\"Total\"] = total_emails.Sent + total_emails.Received"
     ],
     "language": "python",
     "metadata": {},
     "outputs": [],
     "prompt_number": 20
    },
    {
     "cell_type": "code",
     "collapsed": false,
     "input": [
      "total_emails.sort(\"Total\", ascending=False, inplace=True)"
     ],
     "language": "python",
     "metadata": {},
     "outputs": [],
     "prompt_number": 21
    },
    {
     "cell_type": "code",
     "collapsed": false,
     "input": [
      "total_emails.head(200).to_csv(\"Top200.csv\")"
     ],
     "language": "python",
     "metadata": {},
     "outputs": [],
     "prompt_number": 22
    },
    {
     "cell_type": "code",
     "collapsed": false,
     "input": [
      "len(total_emails[total_emails.Total > 1000]) / len(total_emails)"
     ],
     "language": "python",
     "metadata": {},
     "outputs": [
      {
       "metadata": {},
       "output_type": "pyout",
       "prompt_number": 23,
       "text": [
        "0.015024045359073536"
       ]
      }
     ],
     "prompt_number": 23
    },
    {
     "cell_type": "code",
     "collapsed": false,
     "input": [
      "len(total_emails[total_emails.Total > 10000]) "
     ],
     "language": "python",
     "metadata": {},
     "outputs": [
      {
       "metadata": {},
       "output_type": "pyout",
       "prompt_number": 24,
       "text": [
        "83"
       ]
      }
     ],
     "prompt_number": 24
    },
    {
     "cell_type": "code",
     "collapsed": false,
     "input": [
      "top_actors = total_emails[(total_emails.Total > 1000) &\n",
      "                          (total_emails.Sent > 0) & \n",
      "                          (total_emails.Received > 0)].index"
     ],
     "language": "python",
     "metadata": {},
     "outputs": [],
     "prompt_number": 25
    },
    {
     "cell_type": "code",
     "collapsed": false,
     "input": [
      "total_emails[(total_emails.Total > 1000) &\n",
      "                          (total_emails.Sent > 0) & \n",
      "                          (total_emails.Received > 0)][\"Received\"][\"mike.jordan@enron.com\"]"
     ],
     "language": "python",
     "metadata": {},
     "outputs": [
      {
       "metadata": {},
       "output_type": "pyout",
       "prompt_number": 51,
       "text": [
        "802.0"
       ]
      }
     ],
     "prompt_number": 51
    },
    {
     "cell_type": "code",
     "collapsed": false,
     "input": [
      "len(top_actors)"
     ],
     "language": "python",
     "metadata": {},
     "outputs": [
      {
       "metadata": {},
       "output_type": "pyout",
       "prompt_number": 26,
       "text": [
        "1238"
       ]
      }
     ],
     "prompt_number": 26
    },
    {
     "cell_type": "markdown",
     "metadata": {},
     "source": [
      "### Mean wait time"
     ]
    },
    {
     "cell_type": "code",
     "collapsed": false,
     "input": [
      "top_actor_waits = mean_waits[top_actors]"
     ],
     "language": "python",
     "metadata": {},
     "outputs": [],
     "prompt_number": 27
    },
    {
     "cell_type": "code",
     "collapsed": false,
     "input": [
      "top_actor_waits.hist()\n",
      "plt.yscale('log')"
     ],
     "language": "python",
     "metadata": {},
     "outputs": [
      {
       "metadata": {},
       "output_type": "display_data",
       "png": "[encoded data removed]",
       "text": [
        "<matplotlib.figure.Figure at 0x10992b2d0>"
       ]
      }
     ],
     "prompt_number": 28
    },
    {
     "cell_type": "code",
     "collapsed": false,
     "input": [
      "top_actor_waits[top_actor_waits<1000].hist()"
     ],
     "language": "python",
     "metadata": {},
     "outputs": [
      {
       "metadata": {},
       "output_type": "pyout",
       "prompt_number": 29,
       "text": [
        "<matplotlib.axes.AxesSubplot at 0x12fef5890>"
       ]
      },
      {
       "metadata": {},
       "output_type": "display_data",
       "png": "[encoded data removed]",
       "text": [
        "<matplotlib.figure.Figure at 0x12fefa5d0>"
       ]
      }
     ],
     "prompt_number": 29
    },
    {
     "cell_type": "markdown",
     "metadata": {},
     "source": [
      "### Median wait time"
     ]
    },
    {
     "cell_type": "code",
     "collapsed": false,
     "input": [
      "top_actor_waits = median_waits[top_actors]"
     ],
     "language": "python",
     "metadata": {},
     "outputs": [],
     "prompt_number": 30
    },
    {
     "cell_type": "code",
     "collapsed": false,
     "input": [
      "top_actor_waits.hist()\n",
      "plt.yscale('log')"
     ],
     "language": "python",
     "metadata": {},
     "outputs": [
      {
       "metadata": {},
       "output_type": "display_data",
       "png": "[encoded data removed]",
       "text": [
        "<matplotlib.figure.Figure at 0x10a1b3c10>"
       ]
      }
     ],
     "prompt_number": 31
    },
    {
     "cell_type": "code",
     "collapsed": false,
     "input": [
      "top_actor_waits[top_actor_waits<1000].hist()"
     ],
     "language": "python",
     "metadata": {},
     "outputs": [
      {
       "metadata": {},
       "output_type": "pyout",
       "prompt_number": 32,
       "text": [
        "<matplotlib.axes.AxesSubplot at 0x1097a8ad0>"
       ]
      },
      {
       "metadata": {},
       "output_type": "display_data",
       "png": "[encoded data removed]",
       "text": [
        "<matplotlib.figure.Figure at 0x1097a2810>"
       ]
      }
     ],
     "prompt_number": 32
    },
    {
     "cell_type": "markdown",
     "metadata": {},
     "source": [
      "### Get the time series of actual waits for a top actor"
     ]
    },
    {
     "cell_type": "code",
     "collapsed": false,
     "input": [
      "subset.head()"
     ],
     "language": "python",
     "metadata": {},
     "outputs": [
      {
       "html": [
        "<div style=\"max-height:1000px;max-width:1500px;overflow:auto;\">\n",
        "<table border=\"1\" class=\"dataframe\">\n",
        "  <thead>\n",
        "    <tr style=\"text-align: right;\">\n",
        "      <th></th>\n",
        "      <th>index</th>\n",
        "      <th>MessageID</th>\n",
        "      <th>Date</th>\n",
        "      <th>From</th>\n",
        "      <th>To</th>\n",
        "      <th>Year</th>\n",
        "      <th>Month</th>\n",
        "      <th>Day</th>\n",
        "      <th>DeltaT</th>\n",
        "      <th>DeltaMin</th>\n",
        "    </tr>\n",
        "  </thead>\n",
        "  <tbody>\n",
        "    <tr>\n",
        "      <th>6 </th>\n",
        "      <td>   17367</td>\n",
        "      <td> &lt;30079214.1075862803323.JavaMail.evans@thyme&gt;</td>\n",
        "      <td>2001-11-17 14:59:24</td>\n",
        "      <td>   a..roberts@enron.com</td>\n",
        "      <td>    #2.martin@enron.com</td>\n",
        "      <td> 2001</td>\n",
        "      <td> 11</td>\n",
        "      <td> 17</td>\n",
        "      <td>  37 days, 0:34:05</td>\n",
        "      <td> 53314.083333</td>\n",
        "    </tr>\n",
        "    <tr>\n",
        "      <th>20</th>\n",
        "      <td>   16092</td>\n",
        "      <td>   &lt;512561.1075861663668.JavaMail.evans@thyme&gt;</td>\n",
        "      <td>2001-11-18 14:03:52</td>\n",
        "      <td>   a..roberts@enron.com</td>\n",
        "      <td>    #2.martin@enron.com</td>\n",
        "      <td> 2001</td>\n",
        "      <td> 11</td>\n",
        "      <td> 18</td>\n",
        "      <td>          23:04:28</td>\n",
        "      <td>  1384.466667</td>\n",
        "    </tr>\n",
        "    <tr>\n",
        "      <th>34</th>\n",
        "      <td> 1622332</td>\n",
        "      <td>  &lt;7082269.1075840758952.JavaMail.evans@thyme&gt;</td>\n",
        "      <td>2002-01-18 13:21:12</td>\n",
        "      <td>   a..roberts@enron.com</td>\n",
        "      <td>    #2.martin@enron.com</td>\n",
        "      <td> 2002</td>\n",
        "      <td>  1</td>\n",
        "      <td> 18</td>\n",
        "      <td> 60 days, 23:17:20</td>\n",
        "      <td> 87797.333333</td>\n",
        "    </tr>\n",
        "    <tr>\n",
        "      <th>38</th>\n",
        "      <td> 2636783</td>\n",
        "      <td> &lt;30126122.1075852362916.JavaMail.evans@thyme&gt;</td>\n",
        "      <td>2001-10-02 19:30:52</td>\n",
        "      <td> bob.ambrocik@enron.com</td>\n",
        "      <td> #23.training@enron.com</td>\n",
        "      <td> 2001</td>\n",
        "      <td> 10</td>\n",
        "      <td>  2</td>\n",
        "      <td>  3 days, 21:27:27</td>\n",
        "      <td>  5607.450000</td>\n",
        "    </tr>\n",
        "    <tr>\n",
        "      <th>40</th>\n",
        "      <td>   12469</td>\n",
        "      <td> &lt;18557889.1075852689175.JavaMail.evans@thyme&gt;</td>\n",
        "      <td>2001-10-04 22:45:18</td>\n",
        "      <td> bob.ambrocik@enron.com</td>\n",
        "      <td> #23.training@enron.com</td>\n",
        "      <td> 2001</td>\n",
        "      <td> 10</td>\n",
        "      <td>  4</td>\n",
        "      <td>   2 days, 3:14:26</td>\n",
        "      <td>  3074.433333</td>\n",
        "    </tr>\n",
        "  </tbody>\n",
        "</table>\n",
        "</div>"
       ],
       "metadata": {},
       "output_type": "pyout",
       "prompt_number": 35,
       "text": [
        "      index                                      MessageID  \\\n",
        "6     17367  <30079214.1075862803323.JavaMail.evans@thyme>   \n",
        "20    16092    <512561.1075861663668.JavaMail.evans@thyme>   \n",
        "34  1622332   <7082269.1075840758952.JavaMail.evans@thyme>   \n",
        "38  2636783  <30126122.1075852362916.JavaMail.evans@thyme>   \n",
        "40    12469  <18557889.1075852689175.JavaMail.evans@thyme>   \n",
        "\n",
        "                  Date                    From                      To  Year  \\\n",
        "6  2001-11-17 14:59:24    a..roberts@enron.com     #2.martin@enron.com  2001   \n",
        "20 2001-11-18 14:03:52    a..roberts@enron.com     #2.martin@enron.com  2001   \n",
        "34 2002-01-18 13:21:12    a..roberts@enron.com     #2.martin@enron.com  2002   \n",
        "38 2001-10-02 19:30:52  bob.ambrocik@enron.com  #23.training@enron.com  2001   \n",
        "40 2001-10-04 22:45:18  bob.ambrocik@enron.com  #23.training@enron.com  2001   \n",
        "\n",
        "    Month  Day             DeltaT      DeltaMin  \n",
        "6      11   17   37 days, 0:34:05  53314.083333  \n",
        "20     11   18           23:04:28   1384.466667  \n",
        "34      1   18  60 days, 23:17:20  87797.333333  \n",
        "38     10    2   3 days, 21:27:27   5607.450000  \n",
        "40     10    4    2 days, 3:14:26   3074.433333  "
       ]
      }
     ],
     "prompt_number": 35
    },
    {
     "cell_type": "code",
     "collapsed": false,
     "input": [
      "receiver = random.choice(top_actors)\n",
      "print receiver"
     ],
     "language": "python",
     "metadata": {},
     "outputs": [
      {
       "output_type": "stream",
       "stream": "stdout",
       "text": [
        "craig.breslau@enron.com\n"
       ]
      }
     ],
     "prompt_number": 57
    },
    {
     "cell_type": "code",
     "collapsed": false,
     "input": [
      "receiver_emails = subset[subset.To == receiver]\n",
      "receiver_emails = receiver_emails[[\"Date\", \"DeltaMin\"]]\n",
      "receiver_emails.set_index(\"Date\", inplace=True)"
     ],
     "language": "python",
     "metadata": {},
     "outputs": [],
     "prompt_number": 58
    },
    {
     "cell_type": "code",
     "collapsed": false,
     "input": [
      "len(receiver_emails)"
     ],
     "language": "python",
     "metadata": {},
     "outputs": [
      {
       "metadata": {},
       "output_type": "pyout",
       "prompt_number": 59,
       "text": [
        "332"
       ]
      }
     ],
     "prompt_number": 59
    },
    {
     "cell_type": "code",
     "collapsed": false,
     "input": [
      "receiver_emails.DeltaMin.plot()"
     ],
     "language": "python",
     "metadata": {},
     "outputs": [
      {
       "metadata": {},
       "output_type": "pyout",
       "prompt_number": 60,
       "text": [
        "<matplotlib.axes.AxesSubplot at 0x11a176510>"
       ]
      },
      {
       "metadata": {},
       "output_type": "display_data",
       "png": "[encoded data removed]",
       "text": [
        "<matplotlib.figure.Figure at 0x1095690d0>"
       ]
      }
     ],
     "prompt_number": 60
    },
    {
     "cell_type": "code",
     "collapsed": false,
     "input": [
      "subset[subset.To == receiver].head()"
     ],
     "language": "python",
     "metadata": {},
     "outputs": [
      {
       "html": [
        "<div style=\"max-height:1000px;max-width:1500px;overflow:auto;\">\n",
        "<table border=\"1\" class=\"dataframe\">\n",
        "  <thead>\n",
        "    <tr style=\"text-align: right;\">\n",
        "      <th></th>\n",
        "      <th>index</th>\n",
        "      <th>MessageID</th>\n",
        "      <th>Date</th>\n",
        "      <th>From</th>\n",
        "      <th>To</th>\n",
        "      <th>Year</th>\n",
        "      <th>Month</th>\n",
        "      <th>Day</th>\n",
        "      <th>DeltaT</th>\n",
        "      <th>DeltaMin</th>\n",
        "    </tr>\n",
        "  </thead>\n",
        "  <tbody>\n",
        "    <tr>\n",
        "      <th>550240</th>\n",
        "      <td> 2950198</td>\n",
        "      <td> &lt;30122880.1075844315416.JavaMail.evans@thyme&gt;</td>\n",
        "      <td>1999-07-26 10:20:00</td>\n",
        "      <td> russell.diamond@enron.com</td>\n",
        "      <td> craig.breslau@enron.com</td>\n",
        "      <td> 1999</td>\n",
        "      <td> 7</td>\n",
        "      <td> 26</td>\n",
        "      <td>  61 days, 20:12:00</td>\n",
        "      <td>  89052</td>\n",
        "    </tr>\n",
        "    <tr>\n",
        "      <th>550242</th>\n",
        "      <td> 1408645</td>\n",
        "      <td>  &lt;1327397.1075846936818.JavaMail.evans@thyme&gt;</td>\n",
        "      <td>2000-04-03 09:25:00</td>\n",
        "      <td> russell.diamond@enron.com</td>\n",
        "      <td> craig.breslau@enron.com</td>\n",
        "      <td> 2000</td>\n",
        "      <td> 4</td>\n",
        "      <td>  3</td>\n",
        "      <td> 251 days, 23:05:00</td>\n",
        "      <td> 362825</td>\n",
        "    </tr>\n",
        "    <tr>\n",
        "      <th>550244</th>\n",
        "      <td> 1413512</td>\n",
        "      <td> &lt;22286188.1075846937633.JavaMail.evans@thyme&gt;</td>\n",
        "      <td>2000-04-05 10:47:00</td>\n",
        "      <td>      arfan.aziz@enron.com</td>\n",
        "      <td> craig.breslau@enron.com</td>\n",
        "      <td> 2000</td>\n",
        "      <td> 4</td>\n",
        "      <td>  5</td>\n",
        "      <td>    2 days, 1:22:00</td>\n",
        "      <td>   2962</td>\n",
        "    </tr>\n",
        "    <tr>\n",
        "      <th>550246</th>\n",
        "      <td> 2944832</td>\n",
        "      <td>  &lt;8843804.1075844353082.JavaMail.evans@thyme&gt;</td>\n",
        "      <td>2000-04-14 17:09:00</td>\n",
        "      <td> sara.shackleton@enron.com</td>\n",
        "      <td> craig.breslau@enron.com</td>\n",
        "      <td> 2000</td>\n",
        "      <td> 4</td>\n",
        "      <td> 14</td>\n",
        "      <td>    9 days, 6:22:00</td>\n",
        "      <td>  13342</td>\n",
        "    </tr>\n",
        "    <tr>\n",
        "      <th>550248</th>\n",
        "      <td> 1422428</td>\n",
        "      <td> &lt;21554632.1075846940352.JavaMail.evans@thyme&gt;</td>\n",
        "      <td>2000-04-17 09:40:00</td>\n",
        "      <td> russell.diamond@enron.com</td>\n",
        "      <td> craig.breslau@enron.com</td>\n",
        "      <td> 2000</td>\n",
        "      <td> 4</td>\n",
        "      <td> 17</td>\n",
        "      <td>   2 days, 16:31:00</td>\n",
        "      <td>   3871</td>\n",
        "    </tr>\n",
        "  </tbody>\n",
        "</table>\n",
        "</div>"
       ],
       "metadata": {},
       "output_type": "pyout",
       "prompt_number": 62,
       "text": [
        "          index                                      MessageID  \\\n",
        "550240  2950198  <30122880.1075844315416.JavaMail.evans@thyme>   \n",
        "550242  1408645   <1327397.1075846936818.JavaMail.evans@thyme>   \n",
        "550244  1413512  <22286188.1075846937633.JavaMail.evans@thyme>   \n",
        "550246  2944832   <8843804.1075844353082.JavaMail.evans@thyme>   \n",
        "550248  1422428  <21554632.1075846940352.JavaMail.evans@thyme>   \n",
        "\n",
        "                      Date                       From  \\\n",
        "550240 1999-07-26 10:20:00  russell.diamond@enron.com   \n",
        "550242 2000-04-03 09:25:00  russell.diamond@enron.com   \n",
        "550244 2000-04-05 10:47:00       arfan.aziz@enron.com   \n",
        "550246 2000-04-14 17:09:00  sara.shackleton@enron.com   \n",
        "550248 2000-04-17 09:40:00  russell.diamond@enron.com   \n",
        "\n",
        "                             To  Year  Month  Day              DeltaT  \\\n",
        "550240  craig.breslau@enron.com  1999      7   26   61 days, 20:12:00   \n",
        "550242  craig.breslau@enron.com  2000      4    3  251 days, 23:05:00   \n",
        "550244  craig.breslau@enron.com  2000      4    5     2 days, 1:22:00   \n",
        "550246  craig.breslau@enron.com  2000      4   14     9 days, 6:22:00   \n",
        "550248  craig.breslau@enron.com  2000      4   17    2 days, 16:31:00   \n",
        "\n",
        "        DeltaMin  \n",
        "550240     89052  \n",
        "550242    362825  \n",
        "550244      2962  \n",
        "550246     13342  \n",
        "550248      3871  "
       ]
      }
     ],
     "prompt_number": 62
    },
    {
     "cell_type": "markdown",
     "metadata": {},
     "source": [
      "### Load core actors"
     ]
    },
    {
     "cell_type": "code",
     "collapsed": false,
     "input": [
      "f = open(\"CoreEmails.csv\")\n",
      "text = f.read()"
     ],
     "language": "python",
     "metadata": {},
     "outputs": [],
     "prompt_number": 63
    },
    {
     "cell_type": "code",
     "collapsed": false,
     "input": [
      "core_actors = text.split(\"\\n\")"
     ],
     "language": "python",
     "metadata": {},
     "outputs": [],
     "prompt_number": 67
    },
    {
     "cell_type": "code",
     "collapsed": false,
     "input": [
      "core_actors_waits = mean_waits[core_actors]"
     ],
     "language": "python",
     "metadata": {},
     "outputs": [],
     "prompt_number": 69
    },
    {
     "cell_type": "code",
     "collapsed": false,
     "input": [
      "core_actors_waits.hist()"
     ],
     "language": "python",
     "metadata": {},
     "outputs": [
      {
       "metadata": {},
       "output_type": "pyout",
       "prompt_number": 70,
       "text": [
        "<matplotlib.axes.AxesSubplot at 0x11a586e50>"
       ]
      },
      {
       "metadata": {},
       "output_type": "display_data",
       "png": "[encoded data removed]",
       "text": [
        "<matplotlib.figure.Figure at 0x11a17a990>"
       ]
      }
     ],
     "prompt_number": 70
    },
    {
     "cell_type": "code",
     "collapsed": false,
     "input": [
      "core_actors_waits = median_waits[core_actors]"
     ],
     "language": "python",
     "metadata": {},
     "outputs": [],
     "prompt_number": 71
    },
    {
     "cell_type": "code",
     "collapsed": false,
     "input": [
      "core_actors_waits.hist()"
     ],
     "language": "python",
     "metadata": {},
     "outputs": [
      {
       "metadata": {},
       "output_type": "pyout",
       "prompt_number": 72,
       "text": [
        "<matplotlib.axes.AxesSubplot at 0x11a5a0d10>"
       ]
      },
      {
       "metadata": {},
       "output_type": "display_data",
       "png": "[encoded data removed]",
       "text": [
        "<matplotlib.figure.Figure at 0x11a58ffd0>"
       ]
      }
     ],
     "prompt_number": 72
    },
    {
     "cell_type": "code",
     "collapsed": false,
     "input": [
      "core_emails = total_emails.loc[core_actors]"
     ],
     "language": "python",
     "metadata": {},
     "outputs": [],
     "prompt_number": 85
    },
    {
     "cell_type": "code",
     "collapsed": false,
     "input": [
      "core_emails.head()"
     ],
     "language": "python",
     "metadata": {},
     "outputs": [
      {
       "html": [
        "<div style=\"max-height:1000px;max-width:1500px;overflow:auto;\">\n",
        "<table border=\"1\" class=\"dataframe\">\n",
        "  <thead>\n",
        "    <tr style=\"text-align: right;\">\n",
        "      <th></th>\n",
        "      <th>Received</th>\n",
        "      <th>Sent</th>\n",
        "      <th>Total</th>\n",
        "    </tr>\n",
        "  </thead>\n",
        "  <tbody>\n",
        "    <tr>\n",
        "      <th>phillip.allen@enron.com</th>\n",
        "      <td> 3372</td>\n",
        "      <td> 3068</td>\n",
        "      <td>  6440</td>\n",
        "    </tr>\n",
        "    <tr>\n",
        "      <th>john.arnold@enron.com</th>\n",
        "      <td> 3576</td>\n",
        "      <td> 3904</td>\n",
        "      <td>  7480</td>\n",
        "    </tr>\n",
        "    <tr>\n",
        "      <th>harry.arora@enron.com</th>\n",
        "      <td> 1792</td>\n",
        "      <td>  125</td>\n",
        "      <td>  1917</td>\n",
        "    </tr>\n",
        "    <tr>\n",
        "      <th>robert.badeer@enron.com</th>\n",
        "      <td> 3931</td>\n",
        "      <td>  199</td>\n",
        "      <td>  4130</td>\n",
        "    </tr>\n",
        "    <tr>\n",
        "      <th>susan.bailey@enron.com</th>\n",
        "      <td> 5686</td>\n",
        "      <td> 5691</td>\n",
        "      <td> 11377</td>\n",
        "    </tr>\n",
        "  </tbody>\n",
        "</table>\n",
        "</div>"
       ],
       "metadata": {},
       "output_type": "pyout",
       "prompt_number": 87,
       "text": [
        "                         Received  Sent  Total\n",
        "phillip.allen@enron.com      3372  3068   6440\n",
        "john.arnold@enron.com        3576  3904   7480\n",
        "harry.arora@enron.com        1792   125   1917\n",
        "robert.badeer@enron.com      3931   199   4130\n",
        "susan.bailey@enron.com       5686  5691  11377"
       ]
      }
     ],
     "prompt_number": 87
    },
    {
     "cell_type": "code",
     "collapsed": false,
     "input": [
      "core_emails.to_csv(\"CoreEmails.csv\")"
     ],
     "language": "python",
     "metadata": {},
     "outputs": [],
     "prompt_number": 88
    },
    {
     "cell_type": "code",
     "collapsed": false,
     "input": [
      "receiver = random.choice(core_actors)\n",
      "print receiver\n",
      "receiver_emails = subset[subset.To == receiver]\n",
      "receiver_emails = receiver_emails[[\"Date\", \"DeltaMin\"]]\n",
      "receiver_emails.set_index(\"Date\", inplace=True)\n",
      "print len(receiver_emails)\n",
      "receiver_emails.DeltaMin.plot()"
     ],
     "language": "python",
     "metadata": {},
     "outputs": [
      {
       "output_type": "stream",
       "stream": "stdout",
       "text": [
        "tana.jones@enron.com\n",
        "6408"
       ]
      },
      {
       "output_type": "stream",
       "stream": "stdout",
       "text": [
        "\n"
       ]
      },
      {
       "metadata": {},
       "output_type": "pyout",
       "prompt_number": 97,
       "text": [
        "<matplotlib.axes.AxesSubplot at 0x12af386d0>"
       ]
      },
      {
       "metadata": {},
       "output_type": "display_data",
       "png": "[encoded data removed]",
       "text": [
        "<matplotlib.figure.Figure at 0x12af24dd0>"
       ]
      }
     ],
     "prompt_number": 97
    },
    {
     "cell_type": "code",
     "collapsed": false,
     "input": [],
     "language": "python",
     "metadata": {},
     "outputs": []
    }
   ],
   "metadata": {}
  }
 ]
}