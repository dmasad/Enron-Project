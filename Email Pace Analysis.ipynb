{
 "metadata": {
  "name": "",
  "signature": "sha256:ed1ec72b9ed587538fc74794d5fdcc078e8ba3478a7cc09a1265df594c36bb7a"
 },
 "nbformat": 3,
 "nbformat_minor": 0,
 "worksheets": [
  {
   "cells": [
    {
     "cell_type": "code",
     "collapsed": false,
     "input": [
      "from collections import defaultdict\n",
      "import datetime as dt\n",
      "import random\n",
      "\n",
      "import numpy as np\n",
      "import matplotlib.pyplot as plt\n",
      "\n",
      "import networkx as nx\n",
      "import pandas\n",
      "\n",
      "from statsmodels.tsa.stattools import grangercausalitytests\n",
      "\n",
      "from sklearn.ensemble import RandomForestClassifier\n",
      "from sklearn.ensemble import RandomForestRegressor\n",
      "from sklearn.linear_model import LogisticRegression\n",
      "from sklearn.linear_model import LinearRegression\n",
      "from sklearn import cross_validation\n",
      "\n",
      "from __future__ import division"
     ],
     "language": "python",
     "metadata": {},
     "outputs": [],
     "prompt_number": 1
    },
    {
     "cell_type": "code",
     "collapsed": false,
     "input": [
      "%matplotlib inline"
     ],
     "language": "python",
     "metadata": {},
     "outputs": [],
     "prompt_number": 2
    },
    {
     "cell_type": "markdown",
     "metadata": {},
     "source": [
      "## Data Loading\n",
      "\n",
      "First, load the data and parse the dates (this step has been done, and the resulting dataframe has been pickled to speed loading times.)\n",
      "\n",
      "Filter out all dates that are probably anomalies, leaving emails timestamped between 1999 and 2002."
     ]
    },
    {
     "cell_type": "code",
     "collapsed": false,
     "input": [
      "#data = pandas.read_csv(\"AllEmails.csv\", parse_dates=[1])\n",
      "data = pandas.read_pickle(\"AllEmails.pickle\")"
     ],
     "language": "python",
     "metadata": {},
     "outputs": [],
     "prompt_number": 3
    },
    {
     "cell_type": "code",
     "collapsed": false,
     "input": [
      "data[\"Year\"] = data.Date.apply(lambda x: x.year)\n",
      "data[\"Month\"] = data.Date.apply(lambda x: x.month)\n",
      "data[\"Day\"] = data.Date.apply(lambda x: x.day)"
     ],
     "language": "python",
     "metadata": {},
     "outputs": [],
     "prompt_number": 4
    },
    {
     "cell_type": "code",
     "collapsed": false,
     "input": [
      "data = data[(data.Year >= 1999) & (data.Year <= 2002)]"
     ],
     "language": "python",
     "metadata": {},
     "outputs": [],
     "prompt_number": 5
    },
    {
     "cell_type": "code",
     "collapsed": false,
     "input": [
      "data.rename(columns={\"Date\": \"FullDate\"}, inplace=True)"
     ],
     "language": "python",
     "metadata": {},
     "outputs": [],
     "prompt_number": 6
    },
    {
     "cell_type": "code",
     "collapsed": false,
     "input": [
      "data[\"Date\"] = data.FullDate.apply(lambda x: x.date())"
     ],
     "language": "python",
     "metadata": {},
     "outputs": [],
     "prompt_number": 7
    },
    {
     "cell_type": "code",
     "collapsed": false,
     "input": [
      "data.head()"
     ],
     "language": "python",
     "metadata": {},
     "outputs": [
      {
       "output_type": "stream",
       "stream": "stderr",
       "text": [
        "/Library/Python/2.7/site-packages/pandas/core/config.py:570: DeprecationWarning: height has been deprecated.\n",
        "\n",
        "  warnings.warn(d.msg, DeprecationWarning)\n",
        "/Library/Python/2.7/site-packages/pandas/core/config.py:570: DeprecationWarning: height has been deprecated.\n",
        "\n",
        "  warnings.warn(d.msg, DeprecationWarning)\n",
        "/Library/Python/2.7/site-packages/pandas/core/config.py:570: DeprecationWarning: height has been deprecated.\n",
        "\n",
        "  warnings.warn(d.msg, DeprecationWarning)\n"
       ]
      },
      {
       "html": [
        "<div style=\"max-height:1000px;max-width:1500px;overflow:auto;\">\n",
        "<table border=\"1\" class=\"dataframe\">\n",
        "  <thead>\n",
        "    <tr style=\"text-align: right;\">\n",
        "      <th></th>\n",
        "      <th>MessageID</th>\n",
        "      <th>FullDate</th>\n",
        "      <th>From</th>\n",
        "      <th>To</th>\n",
        "      <th>Year</th>\n",
        "      <th>Month</th>\n",
        "      <th>Day</th>\n",
        "      <th>Date</th>\n",
        "    </tr>\n",
        "  </thead>\n",
        "  <tbody>\n",
        "    <tr>\n",
        "      <th>0</th>\n",
        "      <td> &lt;18782981.1075855378110.JavaMail.evans@thyme&gt;</td>\n",
        "      <td>2001-05-14 23:39:00</td>\n",
        "      <td> phillip.allen@enron.com</td>\n",
        "      <td>    tim.belden@enron.com</td>\n",
        "      <td> 2001</td>\n",
        "      <td>  5</td>\n",
        "      <td> 14</td>\n",
        "      <td> 2001-05-14</td>\n",
        "    </tr>\n",
        "    <tr>\n",
        "      <th>1</th>\n",
        "      <td> &lt;15464986.1075855378456.JavaMail.evans@thyme&gt;</td>\n",
        "      <td>2001-05-04 20:51:00</td>\n",
        "      <td> phillip.allen@enron.com</td>\n",
        "      <td> john.lavorato@enron.com</td>\n",
        "      <td> 2001</td>\n",
        "      <td>  5</td>\n",
        "      <td>  4</td>\n",
        "      <td> 2001-05-04</td>\n",
        "    </tr>\n",
        "    <tr>\n",
        "      <th>2</th>\n",
        "      <td> &lt;24216240.1075855687451.JavaMail.evans@thyme&gt;</td>\n",
        "      <td>2000-10-18 10:00:00</td>\n",
        "      <td> phillip.allen@enron.com</td>\n",
        "      <td>  leah.arsdall@enron.com</td>\n",
        "      <td> 2000</td>\n",
        "      <td> 10</td>\n",
        "      <td> 18</td>\n",
        "      <td> 2000-10-18</td>\n",
        "    </tr>\n",
        "    <tr>\n",
        "      <th>3</th>\n",
        "      <td> &lt;13505866.1075863688222.JavaMail.evans@thyme&gt;</td>\n",
        "      <td>2000-10-23 13:13:00</td>\n",
        "      <td> phillip.allen@enron.com</td>\n",
        "      <td>   randall.gay@enron.com</td>\n",
        "      <td> 2000</td>\n",
        "      <td> 10</td>\n",
        "      <td> 23</td>\n",
        "      <td> 2000-10-23</td>\n",
        "    </tr>\n",
        "    <tr>\n",
        "      <th>4</th>\n",
        "      <td> &lt;30922949.1075863688243.JavaMail.evans@thyme&gt;</td>\n",
        "      <td>2000-08-31 12:07:00</td>\n",
        "      <td> phillip.allen@enron.com</td>\n",
        "      <td>    greg.piper@enron.com</td>\n",
        "      <td> 2000</td>\n",
        "      <td>  8</td>\n",
        "      <td> 31</td>\n",
        "      <td> 2000-08-31</td>\n",
        "    </tr>\n",
        "  </tbody>\n",
        "</table>\n",
        "</div>"
       ],
       "metadata": {},
       "output_type": "pyout",
       "prompt_number": 8,
       "text": [
        "                                       MessageID            FullDate  \\\n",
        "0  <18782981.1075855378110.JavaMail.evans@thyme> 2001-05-14 23:39:00   \n",
        "1  <15464986.1075855378456.JavaMail.evans@thyme> 2001-05-04 20:51:00   \n",
        "2  <24216240.1075855687451.JavaMail.evans@thyme> 2000-10-18 10:00:00   \n",
        "3  <13505866.1075863688222.JavaMail.evans@thyme> 2000-10-23 13:13:00   \n",
        "4  <30922949.1075863688243.JavaMail.evans@thyme> 2000-08-31 12:07:00   \n",
        "\n",
        "                      From                       To  Year  Month  Day  \\\n",
        "0  phillip.allen@enron.com     tim.belden@enron.com  2001      5   14   \n",
        "1  phillip.allen@enron.com  john.lavorato@enron.com  2001      5    4   \n",
        "2  phillip.allen@enron.com   leah.arsdall@enron.com  2000     10   18   \n",
        "3  phillip.allen@enron.com    randall.gay@enron.com  2000     10   23   \n",
        "4  phillip.allen@enron.com     greg.piper@enron.com  2000      8   31   \n",
        "\n",
        "         Date  \n",
        "0  2001-05-14  \n",
        "1  2001-05-04  \n",
        "2  2000-10-18  \n",
        "3  2000-10-23  \n",
        "4  2000-08-31  "
       ]
      }
     ],
     "prompt_number": 8
    },
    {
     "cell_type": "markdown",
     "metadata": {},
     "source": [
      "## Daily email counts\n",
      "\n",
      "Use dataframe grouping to count the number of emails sent and received by each actor each day. Note that this is total count, not distinguishing number of interlocuters (i.e. total edge weights, but not in/out degree).\n",
      "\n",
      "Note that the inner join keeps only actors-days for which an actor has sent and received a single email. However, the counts include emails sent to/from actors who are **not** in this subset."
     ]
    },
    {
     "cell_type": "code",
     "collapsed": false,
     "input": [
      "sent_totals = data.groupby([\"Date\", \"From\"]).aggregate(len)[\"To\"]\n",
      "received_totals = data.groupby([\"Date\", \"To\"]).aggregate(len)[\"From\"]"
     ],
     "language": "python",
     "metadata": {},
     "outputs": [],
     "prompt_number": 9
    },
    {
     "cell_type": "code",
     "collapsed": false,
     "input": [
      "sent_totals = sent_totals.reset_index()\n",
      "received_totals = received_totals.reset_index()"
     ],
     "language": "python",
     "metadata": {},
     "outputs": [],
     "prompt_number": 10
    },
    {
     "cell_type": "code",
     "collapsed": false,
     "input": [
      "daily_totals = pandas.merge(left=sent_totals, right=received_totals, how='inner', \n",
      "                            left_on=[\"Date\", \"From\"], right_on=[\"Date\", \"To\"])"
     ],
     "language": "python",
     "metadata": {},
     "outputs": [],
     "prompt_number": 11
    },
    {
     "cell_type": "code",
     "collapsed": false,
     "input": [
      "daily_totals.rename(columns={\"From_x\": \"Actor\", \"To_x\": \"Sent\", \"From_y\": \"Received\"}, inplace=True)"
     ],
     "language": "python",
     "metadata": {},
     "outputs": [],
     "prompt_number": 12
    },
    {
     "cell_type": "code",
     "collapsed": false,
     "input": [
      "daily_totals = daily_totals[[\"Date\", \"Actor\", \"Sent\", \"Received\"]]"
     ],
     "language": "python",
     "metadata": {},
     "outputs": [],
     "prompt_number": 13
    },
    {
     "cell_type": "code",
     "collapsed": false,
     "input": [
      "daily_totals"
     ],
     "language": "python",
     "metadata": {},
     "outputs": [
      {
       "output_type": "stream",
       "stream": "stderr",
       "text": [
        "/Library/Python/2.7/site-packages/pandas/core/config.py:570: DeprecationWarning: height has been deprecated.\n",
        "\n",
        "  warnings.warn(d.msg, DeprecationWarning)\n"
       ]
      },
      {
       "html": [
        "<pre>\n",
        "&lt;class 'pandas.core.frame.DataFrame'&gt;\n",
        "Int64Index: 61492 entries, 0 to 61491\n",
        "Data columns (total 4 columns):\n",
        "Date        61492  non-null values\n",
        "Actor       61492  non-null values\n",
        "Sent        61492  non-null values\n",
        "Received    61492  non-null values\n",
        "dtypes: int64(2), object(2)\n",
        "</pre>"
       ],
       "metadata": {},
       "output_type": "pyout",
       "prompt_number": 14,
       "text": [
        "<class 'pandas.core.frame.DataFrame'>\n",
        "Int64Index: 61492 entries, 0 to 61491\n",
        "Data columns (total 4 columns):\n",
        "Date        61492  non-null values\n",
        "Actor       61492  non-null values\n",
        "Sent        61492  non-null values\n",
        "Received    61492  non-null values\n",
        "dtypes: int64(2), object(2)"
       ]
      }
     ],
     "prompt_number": 14
    },
    {
     "cell_type": "markdown",
     "metadata": {},
     "source": [
      "Pick an actor at random and plot their daily email counts"
     ]
    },
    {
     "cell_type": "code",
     "collapsed": false,
     "input": [
      "some_actor = random.choice(daily_totals.Actor.unique())\n",
      "print some_actor\n",
      "actor_subset = daily_totals[daily_totals.Actor == some_actor]\n",
      "actor_subset.set_index(\"Date\", inplace=True)\n",
      "actor_subset.plot(figsize=(12,4))"
     ],
     "language": "python",
     "metadata": {},
     "outputs": [
      {
       "output_type": "stream",
       "stream": "stdout",
       "text": [
        "eric.tipp@enron.com\n"
       ]
      },
      {
       "output_type": "stream",
       "stream": "stderr",
       "text": [
        "/Library/Python/2.7/site-packages/matplotlib-1.2.x-py2.7-macosx-10.8-intel.egg/matplotlib/axes.py:2453: UserWarning: Attempting to set identical left==right results\n",
        "in singular transformations; automatically expanding.\n",
        "left=730558.0, right=730558.0\n",
        "  + 'left=%s, right=%s') % (left, right))\n"
       ]
      },
      {
       "metadata": {},
       "output_type": "pyout",
       "prompt_number": 15,
       "text": [
        "<matplotlib.axes.AxesSubplot at 0x11c8ec1d0>"
       ]
      },
      {
       "metadata": {},
       "output_type": "display_data",
       "png": "[encoded data removed]",
       "text": [
        "<matplotlib.figure.Figure at 0x10b18a090>"
       ]
      }
     ],
     "prompt_number": 15
    },
    {
     "cell_type": "code",
     "collapsed": false,
     "input": [
      "actor_subset"
     ],
     "language": "python",
     "metadata": {},
     "outputs": [
      {
       "output_type": "stream",
       "stream": "stderr",
       "text": [
        "/Library/Python/2.7/site-packages/pandas/core/config.py:570: DeprecationWarning: height has been deprecated.\n",
        "\n",
        "  warnings.warn(d.msg, DeprecationWarning)\n",
        "/Library/Python/2.7/site-packages/pandas/core/config.py:570: DeprecationWarning: height has been deprecated.\n",
        "\n",
        "  warnings.warn(d.msg, DeprecationWarning)\n"
       ]
      },
      {
       "html": [
        "<div style=\"max-height:1000px;max-width:1500px;overflow:auto;\">\n",
        "<table border=\"1\" class=\"dataframe\">\n",
        "  <thead>\n",
        "    <tr style=\"text-align: right;\">\n",
        "      <th></th>\n",
        "      <th>Actor</th>\n",
        "      <th>Sent</th>\n",
        "      <th>Received</th>\n",
        "    </tr>\n",
        "    <tr>\n",
        "      <th>Date</th>\n",
        "      <th></th>\n",
        "      <th></th>\n",
        "      <th></th>\n",
        "    </tr>\n",
        "  </thead>\n",
        "  <tbody>\n",
        "    <tr>\n",
        "      <th>2001-03-14</th>\n",
        "      <td> eric.tipp@enron.com</td>\n",
        "      <td> 4</td>\n",
        "      <td> 2</td>\n",
        "    </tr>\n",
        "  </tbody>\n",
        "</table>\n",
        "</div>"
       ],
       "metadata": {},
       "output_type": "pyout",
       "prompt_number": 16,
       "text": [
        "                          Actor  Sent  Received\n",
        "Date                                           \n",
        "2001-03-14  eric.tipp@enron.com     4         2"
       ]
      }
     ],
     "prompt_number": 16
    },
    {
     "cell_type": "markdown",
     "metadata": {},
     "source": [
      "A lesson learned from this is that the majority of actors don't appear for very many days. They do seem to appear in a bursty way, but even then, not necessarily in consecutive days. This is likely the explanation for the much higher than expected deltas between emails found previously."
     ]
    },
    {
     "cell_type": "markdown",
     "metadata": {},
     "source": [
      "## Find actors who appear consistently.\n",
      "\n",
      "First, I find the distribution of the number of days in which each actor appears. I expect this will be some sort of long-tailed distribution, with many actors appearing in only one day, a small number throughout."
     ]
    },
    {
     "cell_type": "code",
     "collapsed": false,
     "input": [
      "days_appearing = daily_totals.groupby(\"Actor\").aggregate(len)[\"Date\"]"
     ],
     "language": "python",
     "metadata": {},
     "outputs": [],
     "prompt_number": 17
    },
    {
     "cell_type": "code",
     "collapsed": false,
     "input": [
      "print days_appearing.describe()\n",
      "days_appearing.hist()"
     ],
     "language": "python",
     "metadata": {},
     "outputs": [
      {
       "output_type": "stream",
       "stream": "stdout",
       "text": [
        "count    7392.000000\n",
        "mean        8.318723\n",
        "std        24.880412\n",
        "min         1.000000\n",
        "25%         1.000000\n",
        "50%         2.000000\n",
        "75%         5.000000\n",
        "max       529.000000\n",
        "dtype: float64\n"
       ]
      },
      {
       "metadata": {},
       "output_type": "pyout",
       "prompt_number": 18,
       "text": [
        "<matplotlib.axes.AxesSubplot at 0x11c8e7c50>"
       ]
      },
      {
       "metadata": {},
       "output_type": "display_data",
       "png": "[encoded data removed]",
       "text": [
        "<matplotlib.figure.Figure at 0x11d22e0d0>"
       ]
      }
     ],
     "prompt_number": 18
    },
    {
     "cell_type": "code",
     "collapsed": false,
     "input": [
      "# Build Inverse CDF\n",
      "# Yes, there's probably a correct way to do it.\n",
      "end = days_appearing.max()\n",
      "i = 0\n",
      "cdf = {}\n",
      "for i in range(end):\n",
      "    cdf[i] = len(days_appearing[days_appearing > i])\n",
      "cdf = pandas.Series(cdf)\n",
      "cdf.plot()\n",
      "plt.yscale('log')\n",
      "plt.xscale('log')"
     ],
     "language": "python",
     "metadata": {},
     "outputs": [
      {
       "metadata": {},
       "output_type": "display_data",
       "png": "[encoded data removed]",
       "text": [
        "<matplotlib.figure.Figure at 0x10f2355d0>"
       ]
      }
     ],
     "prompt_number": 19
    },
    {
     "cell_type": "code",
     "collapsed": false,
     "input": [
      "len(days_appearing[days_appearing>100])"
     ],
     "language": "python",
     "metadata": {},
     "outputs": [
      {
       "metadata": {},
       "output_type": "pyout",
       "prompt_number": 20,
       "text": [
        "86"
       ]
      }
     ],
     "prompt_number": 20
    },
    {
     "cell_type": "markdown",
     "metadata": {},
     "source": [
      "Next, I will select the subset of actors who appear above some threshold of consistency. These are the actors we really care about.\n",
      "\n",
      "There isn't a key breakpoint in the distribution, though is is extremely long- (though not fat-) tailed. I'm going to start with **100 days** as the cutoff, but I'll be flexible with it."
     ]
    },
    {
     "cell_type": "code",
     "collapsed": false,
     "input": [
      "cutoff = 100\n",
      "#cutoff = 50\n",
      "\n",
      "key_actors_index = days_appearing[days_appearing>cutoff].index"
     ],
     "language": "python",
     "metadata": {},
     "outputs": [],
     "prompt_number": 21
    },
    {
     "cell_type": "code",
     "collapsed": false,
     "input": [
      "key_actors = daily_totals[daily_totals.Actor.isin(key_actors_index)]"
     ],
     "language": "python",
     "metadata": {},
     "outputs": [],
     "prompt_number": 22
    },
    {
     "cell_type": "code",
     "collapsed": false,
     "input": [
      "key_actors.head()"
     ],
     "language": "python",
     "metadata": {},
     "outputs": [
      {
       "output_type": "stream",
       "stream": "stderr",
       "text": [
        "/Library/Python/2.7/site-packages/pandas/core/config.py:570: DeprecationWarning: height has been deprecated.\n",
        "\n",
        "  warnings.warn(d.msg, DeprecationWarning)\n",
        "/Library/Python/2.7/site-packages/pandas/core/config.py:570: DeprecationWarning: height has been deprecated.\n",
        "\n",
        "  warnings.warn(d.msg, DeprecationWarning)\n"
       ]
      },
      {
       "html": [
        "<div style=\"max-height:1000px;max-width:1500px;overflow:auto;\">\n",
        "<table border=\"1\" class=\"dataframe\">\n",
        "  <thead>\n",
        "    <tr style=\"text-align: right;\">\n",
        "      <th></th>\n",
        "      <th>Date</th>\n",
        "      <th>Actor</th>\n",
        "      <th>Sent</th>\n",
        "      <th>Received</th>\n",
        "    </tr>\n",
        "  </thead>\n",
        "  <tbody>\n",
        "    <tr>\n",
        "      <th>0 </th>\n",
        "      <td> 1999-01-18</td>\n",
        "      <td>    mark.taylor@enron.com</td>\n",
        "      <td> 28</td>\n",
        "      <td> 2</td>\n",
        "    </tr>\n",
        "    <tr>\n",
        "      <th>2 </th>\n",
        "      <td> 1999-02-05</td>\n",
        "      <td>    mark.taylor@enron.com</td>\n",
        "      <td> 10</td>\n",
        "      <td> 2</td>\n",
        "    </tr>\n",
        "    <tr>\n",
        "      <th>4 </th>\n",
        "      <td> 1999-02-09</td>\n",
        "      <td>    mark.taylor@enron.com</td>\n",
        "      <td>  2</td>\n",
        "      <td> 4</td>\n",
        "    </tr>\n",
        "    <tr>\n",
        "      <th>5 </th>\n",
        "      <td> 1999-03-23</td>\n",
        "      <td>    mark.taylor@enron.com</td>\n",
        "      <td>  4</td>\n",
        "      <td> 2</td>\n",
        "    </tr>\n",
        "    <tr>\n",
        "      <th>11</th>\n",
        "      <td> 1999-05-03</td>\n",
        "      <td> larry.campbell@enron.com</td>\n",
        "      <td>  6</td>\n",
        "      <td> 5</td>\n",
        "    </tr>\n",
        "  </tbody>\n",
        "</table>\n",
        "</div>"
       ],
       "metadata": {},
       "output_type": "pyout",
       "prompt_number": 23,
       "text": [
        "          Date                     Actor  Sent  Received\n",
        "0   1999-01-18     mark.taylor@enron.com    28         2\n",
        "2   1999-02-05     mark.taylor@enron.com    10         2\n",
        "4   1999-02-09     mark.taylor@enron.com     2         4\n",
        "5   1999-03-23     mark.taylor@enron.com     4         2\n",
        "11  1999-05-03  larry.campbell@enron.com     6         5"
       ]
      }
     ],
     "prompt_number": 23
    },
    {
     "cell_type": "markdown",
     "metadata": {},
     "source": [
      "With the recurring actors selected, I'll visualize a few time series, and then estimate the correlations and autocorrelations  and try to see whether there are intersting anomalies."
     ]
    },
    {
     "cell_type": "code",
     "collapsed": false,
     "input": [
      "some_actor = random.choice(key_actors_index)\n",
      "print some_actor\n",
      "actor_subset = key_actors[key_actors.Actor == some_actor]\n",
      "actor_subset.set_index(\"Date\", inplace=True)\n",
      "actor_subset.plot(figsize=(12,4))"
     ],
     "language": "python",
     "metadata": {},
     "outputs": [
      {
       "output_type": "stream",
       "stream": "stdout",
       "text": [
        "barry.tycholiz@enron.com\n"
       ]
      },
      {
       "metadata": {},
       "output_type": "pyout",
       "prompt_number": 24,
       "text": [
        "<matplotlib.axes.AxesSubplot at 0x101c5f250>"
       ]
      },
      {
       "metadata": {},
       "output_type": "display_data",
       "png": "[encoded data removed]",
       "text": [
        "<matplotlib.figure.Figure at 0x101c533d0>"
       ]
      }
     ],
     "prompt_number": 24
    },
    {
     "cell_type": "markdown",
     "metadata": {},
     "source": [
      "These results are encouraging! The graphs are long, and spiky. Many days have only a few emails, some have hundreds. \n",
      "\n",
      "Next up -- correlations! For each actor, I find the correlation between Sent and Received emails in a single day, as wel as the count of overall days (to make sure that higher correlations aren't just a function of low counts). "
     ]
    },
    {
     "cell_type": "code",
     "collapsed": false,
     "input": [
      "corrs = {}\n",
      "counts = {}\n",
      "for actor in key_actors_index:\n",
      "    actor_subset = key_actors[key_actors.Actor == actor]\n",
      "    actor_subset.set_index(\"Date\", inplace=True)\n",
      "    c = actor_subset.Sent.corr(actor_subset.Received)\n",
      "    corrs[actor] = c\n",
      "    counts[actor] = len(actor_subset)"
     ],
     "language": "python",
     "metadata": {},
     "outputs": [],
     "prompt_number": 25
    },
    {
     "cell_type": "code",
     "collapsed": false,
     "input": [
      "correlations = pandas.DataFrame({\"Correlation\": corrs, \"Counts\": counts})"
     ],
     "language": "python",
     "metadata": {},
     "outputs": [],
     "prompt_number": 26
    },
    {
     "cell_type": "code",
     "collapsed": false,
     "input": [
      "correlations.Correlation.hist()"
     ],
     "language": "python",
     "metadata": {},
     "outputs": [
      {
       "metadata": {},
       "output_type": "pyout",
       "prompt_number": 27,
       "text": [
        "<matplotlib.axes.AxesSubplot at 0x101c385d0>"
       ]
      },
      {
       "metadata": {},
       "output_type": "display_data",
       "png": "[encoded data removed]",
       "text": [
        "<matplotlib.figure.Figure at 0x101c546d0>"
       ]
      }
     ],
     "prompt_number": 27
    },
    {
     "cell_type": "code",
     "collapsed": false,
     "input": [
      "plt.scatter(correlations.Counts, correlations.Correlation)"
     ],
     "language": "python",
     "metadata": {},
     "outputs": [
      {
       "metadata": {},
       "output_type": "pyout",
       "prompt_number": 28,
       "text": [
        "<matplotlib.collections.PathCollection at 0x110187210>"
       ]
      },
      {
       "metadata": {},
       "output_type": "display_data",
       "png": "[encoded data removed]",
       "text": [
        "<matplotlib.figure.Figure at 0x11017a850>"
       ]
      }
     ],
     "prompt_number": 28
    },
    {
     "cell_type": "code",
     "collapsed": false,
     "input": [
      "s = actor_subset[[\"Sent\", \"Received\"]]"
     ],
     "language": "python",
     "metadata": {},
     "outputs": [],
     "prompt_number": 29
    },
    {
     "cell_type": "code",
     "collapsed": false,
     "input": [
      "grangercausalitytests(np.array(s), 3)"
     ],
     "language": "python",
     "metadata": {},
     "outputs": [
      {
       "output_type": "stream",
       "stream": "stdout",
       "text": [
        "\n",
        "Granger Causality\n",
        "number of lags (no zero) 1\n",
        "ssr based F test:         F=7.5856  , p=0.0063  , df_denom=274, df_num=1\n",
        "ssr based chi2 test:   chi2=7.6686  , p=0.0056  , df=1\n",
        "likelihood ratio test: chi2=7.5644  , p=0.0060  , df=1\n",
        "parameter F test:         F=7.5856  , p=0.0063  , df_denom=274, df_num=1\n",
        "\n",
        "Granger Causality\n",
        "number of lags (no zero) 2\n",
        "ssr based F test:         F=3.3381  , p=0.0370  , df_denom=271, df_num=2\n",
        "ssr based chi2 test:   chi2=6.7994  , p=0.0334  , df=2\n",
        "likelihood ratio test: chi2=6.7170  , p=0.0348  , df=2\n",
        "parameter F test:         F=3.3381  , p=0.0370  , df_denom=271, df_num=2\n",
        "\n",
        "Granger Causality\n",
        "number of lags (no zero) 3\n",
        "ssr based F test:         F=2.5491  , p=0.0562  , df_denom=268, df_num=3\n",
        "ssr based chi2 test:   chi2=7.8469  , p=0.0493  , df=3\n",
        "likelihood ratio test: chi2=7.7371  , p=0.0518  , df=3\n",
        "parameter F test:         F=2.5491  , p=0.0562  , df_denom=268, df_num=3\n"
       ]
      },
      {
       "output_type": "stream",
       "stream": "stderr",
       "text": [
        "/Library/Python/2.7/site-packages/statsmodels-0.5.0-py2.7-macosx-10.8-intel.egg/statsmodels/tools/tools.py:306: FutureWarning: The default of `prepend` will be changed to True in 0.5.0, use explicit prepend\n",
        "  FutureWarning)\n"
       ]
      },
      {
       "metadata": {},
       "output_type": "pyout",
       "prompt_number": 30,
       "text": [
        "{1: ({'lrtest': (7.5644098529228359, 0.0059532144767931693, 1),\n",
        "   'params_ftest': (7.5855883408197702, 0.0062774793494246072, 274.0, 1),\n",
        "   'ssr_chi2test': (7.6686422277629269, 0.005618872263235106, 1),\n",
        "   'ssr_ftest': (7.5855883408196458, 0.0062774793494250374, 274.0, 1)},\n",
        "  [<statsmodels.regression.linear_model.RegressionResultsWrapper at 0x110197d50>,\n",
        "   <statsmodels.regression.linear_model.RegressionResultsWrapper at 0x110197e50>,\n",
        "   array([[ 0.,  1.,  0.]])]),\n",
        " 2: ({'lrtest': (6.7169750085495252, 0.034787835626387563, 2),\n",
        "   'params_ftest': (3.3381000291378666, 0.036970117072763133, 271.0, 2),\n",
        "   'ssr_chi2test': (6.7993771811221357, 0.033383664329968171, 2),\n",
        "   'ssr_ftest': (3.3381000291378604, 0.036970117072763951, 271.0, 2)},\n",
        "  [<statsmodels.regression.linear_model.RegressionResultsWrapper at 0x10d8d5050>,\n",
        "   <statsmodels.regression.linear_model.RegressionResultsWrapper at 0x10d8d5150>,\n",
        "   array([[ 0.,  0.,  1.,  0.,  0.],\n",
        "          [ 0.,  0.,  0.,  1.,  0.]])]),\n",
        " 3: ({'lrtest': (7.7370579786547751, 0.051770289149721149, 3),\n",
        "   'params_ftest': (2.5490620377772832, 0.056183880795835604, 268.0, 3),\n",
        "   'ssr_chi2test': (7.8469260491278128, 0.049283517335389757, 3),\n",
        "   'ssr_ftest': (2.549062037777277, 0.056183880795835604, 268.0, 3)},\n",
        "  [<statsmodels.regression.linear_model.RegressionResultsWrapper at 0x10d8d5250>,\n",
        "   <statsmodels.regression.linear_model.RegressionResultsWrapper at 0x10d8d5350>,\n",
        "   array([[ 0.,  0.,  0.,  1.,  0.,  0.,  0.],\n",
        "          [ 0.,  0.,  0.,  0.,  1.,  0.,  0.],\n",
        "          [ 0.,  0.,  0.,  0.,  0.,  1.,  0.]])])}"
       ]
      }
     ],
     "prompt_number": 30
    },
    {
     "cell_type": "markdown",
     "metadata": {},
     "source": [
      "## Machine learning prep\n",
      "\n",
      "**Hypothesis** An actor's 'stress' (a function of previous-incoming emails) is a major factor in their outgoing email load.\n",
      "\n",
      "I assemble a table where each row has the emails sent this day, emails received the previous day the user has been active, and the time difference between them. Then I will run several machine learning methods and estimate how good a predictor they are."
     ]
    },
    {
     "cell_type": "code",
     "collapsed": false,
     "input": [
      "key_actors.sort([\"Actor\", \"Date\"], inplace=True)\n",
      "key_actors.reset_index(inplace=True)"
     ],
     "language": "python",
     "metadata": {},
     "outputs": [],
     "prompt_number": 31
    },
    {
     "cell_type": "code",
     "collapsed": false,
     "input": [
      "key_actors.head()"
     ],
     "language": "python",
     "metadata": {},
     "outputs": [
      {
       "output_type": "stream",
       "stream": "stderr",
       "text": [
        "/Library/Python/2.7/site-packages/pandas/core/config.py:570: DeprecationWarning: height has been deprecated.\n",
        "\n",
        "  warnings.warn(d.msg, DeprecationWarning)\n",
        "/Library/Python/2.7/site-packages/pandas/core/config.py:570: DeprecationWarning: height has been deprecated.\n",
        "\n",
        "  warnings.warn(d.msg, DeprecationWarning)\n"
       ]
      },
      {
       "html": [
        "<div style=\"max-height:1000px;max-width:1500px;overflow:auto;\">\n",
        "<table border=\"1\" class=\"dataframe\">\n",
        "  <thead>\n",
        "    <tr style=\"text-align: right;\">\n",
        "      <th></th>\n",
        "      <th>index</th>\n",
        "      <th>Date</th>\n",
        "      <th>Actor</th>\n",
        "      <th>Sent</th>\n",
        "      <th>Received</th>\n",
        "    </tr>\n",
        "  </thead>\n",
        "  <tbody>\n",
        "    <tr>\n",
        "      <th>0</th>\n",
        "      <td>   34</td>\n",
        "      <td> 1999-05-18</td>\n",
        "      <td> alan.aronowitz@enron.com</td>\n",
        "      <td>  1</td>\n",
        "      <td>  1</td>\n",
        "    </tr>\n",
        "    <tr>\n",
        "      <th>1</th>\n",
        "      <td>  380</td>\n",
        "      <td> 1999-09-30</td>\n",
        "      <td> alan.aronowitz@enron.com</td>\n",
        "      <td> 12</td>\n",
        "      <td>  2</td>\n",
        "    </tr>\n",
        "    <tr>\n",
        "      <th>2</th>\n",
        "      <td>  617</td>\n",
        "      <td> 1999-12-02</td>\n",
        "      <td> alan.aronowitz@enron.com</td>\n",
        "      <td>  8</td>\n",
        "      <td>  4</td>\n",
        "    </tr>\n",
        "    <tr>\n",
        "      <th>3</th>\n",
        "      <td>  998</td>\n",
        "      <td> 2000-01-12</td>\n",
        "      <td> alan.aronowitz@enron.com</td>\n",
        "      <td>  3</td>\n",
        "      <td> 12</td>\n",
        "    </tr>\n",
        "    <tr>\n",
        "      <th>4</th>\n",
        "      <td> 1444</td>\n",
        "      <td> 2000-02-08</td>\n",
        "      <td> alan.aronowitz@enron.com</td>\n",
        "      <td> 10</td>\n",
        "      <td>  2</td>\n",
        "    </tr>\n",
        "  </tbody>\n",
        "</table>\n",
        "</div>"
       ],
       "metadata": {},
       "output_type": "pyout",
       "prompt_number": 32,
       "text": [
        "   index        Date                     Actor  Sent  Received\n",
        "0     34  1999-05-18  alan.aronowitz@enron.com     1         1\n",
        "1    380  1999-09-30  alan.aronowitz@enron.com    12         2\n",
        "2    617  1999-12-02  alan.aronowitz@enron.com     8         4\n",
        "3    998  2000-01-12  alan.aronowitz@enron.com     3        12\n",
        "4   1444  2000-02-08  alan.aronowitz@enron.com    10         2"
       ]
      }
     ],
     "prompt_number": 32
    },
    {
     "cell_type": "code",
     "collapsed": false,
     "input": [
      "key_actors[\"Lagged_Received\"] = 0\n",
      "key_actors[\"DeltaT\"] = dt.timedelta(0)\n",
      "\n",
      "for row in key_actors.iterrows():\n",
      "    i = row[0]\n",
      "    if i == 0: continue\n",
      "    if row[1][\"Actor\"] == key_actors.Actor[i-1]:\n",
      "        key_actors.DeltaT[i] = row[1][\"Date\"] - key_actors.Date[i-1]\n",
      "        key_actors.Lagged_Received[i] = key_actors.Received[i-1]"
     ],
     "language": "python",
     "metadata": {},
     "outputs": [],
     "prompt_number": 33
    },
    {
     "cell_type": "code",
     "collapsed": false,
     "input": [
      "key_actors[\"DeltaDays\"] = key_actors.DeltaT.apply(lambda x: x.days)"
     ],
     "language": "python",
     "metadata": {},
     "outputs": [],
     "prompt_number": 34
    },
    {
     "cell_type": "code",
     "collapsed": false,
     "input": [
      "key_actors.head()"
     ],
     "language": "python",
     "metadata": {},
     "outputs": [
      {
       "output_type": "stream",
       "stream": "stderr",
       "text": [
        "/Library/Python/2.7/site-packages/pandas/core/config.py:570: DeprecationWarning: height has been deprecated.\n",
        "\n",
        "  warnings.warn(d.msg, DeprecationWarning)\n",
        "/Library/Python/2.7/site-packages/pandas/core/config.py:570: DeprecationWarning: height has been deprecated.\n",
        "\n",
        "  warnings.warn(d.msg, DeprecationWarning)\n",
        "/Library/Python/2.7/site-packages/pandas/core/config.py:570: DeprecationWarning: height has been deprecated.\n",
        "\n",
        "  warnings.warn(d.msg, DeprecationWarning)\n"
       ]
      },
      {
       "html": [
        "<div style=\"max-height:1000px;max-width:1500px;overflow:auto;\">\n",
        "<table border=\"1\" class=\"dataframe\">\n",
        "  <thead>\n",
        "    <tr style=\"text-align: right;\">\n",
        "      <th></th>\n",
        "      <th>index</th>\n",
        "      <th>Date</th>\n",
        "      <th>Actor</th>\n",
        "      <th>Sent</th>\n",
        "      <th>Received</th>\n",
        "      <th>Lagged_Received</th>\n",
        "      <th>DeltaT</th>\n",
        "      <th>DeltaDays</th>\n",
        "    </tr>\n",
        "  </thead>\n",
        "  <tbody>\n",
        "    <tr>\n",
        "      <th>0</th>\n",
        "      <td>   34</td>\n",
        "      <td> 1999-05-18</td>\n",
        "      <td> alan.aronowitz@enron.com</td>\n",
        "      <td>  1</td>\n",
        "      <td>  1</td>\n",
        "      <td>  0</td>\n",
        "      <td>           0:00:00</td>\n",
        "      <td>   0</td>\n",
        "    </tr>\n",
        "    <tr>\n",
        "      <th>1</th>\n",
        "      <td>  380</td>\n",
        "      <td> 1999-09-30</td>\n",
        "      <td> alan.aronowitz@enron.com</td>\n",
        "      <td> 12</td>\n",
        "      <td>  2</td>\n",
        "      <td>  1</td>\n",
        "      <td> 135 days, 0:00:00</td>\n",
        "      <td> 135</td>\n",
        "    </tr>\n",
        "    <tr>\n",
        "      <th>2</th>\n",
        "      <td>  617</td>\n",
        "      <td> 1999-12-02</td>\n",
        "      <td> alan.aronowitz@enron.com</td>\n",
        "      <td>  8</td>\n",
        "      <td>  4</td>\n",
        "      <td>  2</td>\n",
        "      <td>  63 days, 0:00:00</td>\n",
        "      <td>  63</td>\n",
        "    </tr>\n",
        "    <tr>\n",
        "      <th>3</th>\n",
        "      <td>  998</td>\n",
        "      <td> 2000-01-12</td>\n",
        "      <td> alan.aronowitz@enron.com</td>\n",
        "      <td>  3</td>\n",
        "      <td> 12</td>\n",
        "      <td>  4</td>\n",
        "      <td>  41 days, 0:00:00</td>\n",
        "      <td>  41</td>\n",
        "    </tr>\n",
        "    <tr>\n",
        "      <th>4</th>\n",
        "      <td> 1444</td>\n",
        "      <td> 2000-02-08</td>\n",
        "      <td> alan.aronowitz@enron.com</td>\n",
        "      <td> 10</td>\n",
        "      <td>  2</td>\n",
        "      <td> 12</td>\n",
        "      <td>  27 days, 0:00:00</td>\n",
        "      <td>  27</td>\n",
        "    </tr>\n",
        "  </tbody>\n",
        "</table>\n",
        "</div>"
       ],
       "metadata": {},
       "output_type": "pyout",
       "prompt_number": 35,
       "text": [
        "   index        Date                     Actor  Sent  Received  \\\n",
        "0     34  1999-05-18  alan.aronowitz@enron.com     1         1   \n",
        "1    380  1999-09-30  alan.aronowitz@enron.com    12         2   \n",
        "2    617  1999-12-02  alan.aronowitz@enron.com     8         4   \n",
        "3    998  2000-01-12  alan.aronowitz@enron.com     3        12   \n",
        "4   1444  2000-02-08  alan.aronowitz@enron.com    10         2   \n",
        "\n",
        "   Lagged_Received             DeltaT  DeltaDays  \n",
        "0                0            0:00:00          0  \n",
        "1                1  135 days, 0:00:00        135  \n",
        "2                2   63 days, 0:00:00         63  \n",
        "3                4   41 days, 0:00:00         41  \n",
        "4               12   27 days, 0:00:00         27  "
       ]
      }
     ],
     "prompt_number": 35
    },
    {
     "cell_type": "code",
     "collapsed": false,
     "input": [
      "features = [\"DeltaDays\", \"Lagged_Received\"]"
     ],
     "language": "python",
     "metadata": {},
     "outputs": [],
     "prompt_number": 36
    },
    {
     "cell_type": "code",
     "collapsed": false,
     "input": [
      "lr = LinearRegression()\n",
      "rf = RandomForestRegressor()"
     ],
     "language": "python",
     "metadata": {},
     "outputs": [],
     "prompt_number": 37
    },
    {
     "cell_type": "code",
     "collapsed": false,
     "input": [
      "cross_validation.cross_val_score(lr, key_actors[features], key_actors.Sent, cv=5, scoring='r2')"
     ],
     "language": "python",
     "metadata": {},
     "outputs": [
      {
       "metadata": {},
       "output_type": "pyout",
       "prompt_number": 38,
       "text": [
        "array([-0.26354899,  0.01430771, -0.49310831,  0.14405025, -0.04596799])"
       ]
      }
     ],
     "prompt_number": 38
    },
    {
     "cell_type": "code",
     "collapsed": false,
     "input": [
      "cross_validation.cross_val_score(rf, key_actors[features], key_actors.Sent, cv=5, scoring='r2')"
     ],
     "language": "python",
     "metadata": {},
     "outputs": [
      {
       "metadata": {},
       "output_type": "pyout",
       "prompt_number": 39,
       "text": [
        "array([-0.49425471, -0.01291415, -1.75102762, -0.06475011, -0.21805714])"
       ]
      }
     ],
     "prompt_number": 39
    },
    {
     "cell_type": "markdown",
     "metadata": {},
     "source": [
      "The machine learning approach to predicting *number* of emails seems not to be super accurate. Not surprising, since there isn't really enough information. So moving on to\n",
      "\n",
      "## Anomaly detection and anomaly spreading\n",
      "\n",
      "Emails seem to exhibit spikes of unusual activity. I'm going to take two approaches to studying it.\n",
      "\n",
      "First, and this is the big, data-heavy push, detect anomalies: spikes in emails sent. Then check whether anomalies spread over the network: so if an actor experiences a spike, will that spike 'infect' actors *they* email?"
     ]
    },
    {
     "cell_type": "markdown",
     "metadata": {},
     "source": [
      "### Anomaly detection\n",
      "\n",
      "Simplest approach: anomalies are some sigmas above mean emails sent per day."
     ]
    },
    {
     "cell_type": "code",
     "collapsed": false,
     "input": [
      "some_actor = random.choice(key_actors_index)\n",
      "print some_actor\n",
      "actor_subset = daily_totals[daily_totals.Actor == some_actor]\n",
      "#actor_subset = actor_subset[[\"Sent\", \"Received\"]]\n",
      "actor_subset.set_index(\"Date\", inplace=True)\n",
      "mean_sent = actor_subset.Sent.mean()\n",
      "sd_sent = actor_subset.Sent.std()\n",
      "\n",
      "actor_subset.Sent.plot(figsize=(12,4))\n",
      "plt.fill_between(actor_subset.index, 0, mean_sent+2*sd_sent, color='b', alpha=0.2)"
     ],
     "language": "python",
     "metadata": {},
     "outputs": [
      {
       "output_type": "stream",
       "stream": "stdout",
       "text": [
        "tana.jones@enron.com\n"
       ]
      },
      {
       "metadata": {},
       "output_type": "pyout",
       "prompt_number": 40,
       "text": [
        "<matplotlib.collections.PolyCollection at 0x10d8d8890>"
       ]
      },
      {
       "metadata": {},
       "output_type": "display_data",
       "png": "[encoded data removed]",
       "text": [
        "<matplotlib.figure.Figure at 0x10d8d8790>"
       ]
      }
     ],
     "prompt_number": 40
    },
    {
     "cell_type": "markdown",
     "metadata": {},
     "source": [
      "This seems to work fairly well (or at least well enough). Now I generalize to the whole thing"
     ]
    },
    {
     "cell_type": "code",
     "collapsed": false,
     "input": [
      "key_actors = daily_totals[daily_totals.Actor.isin(key_actors_index)]"
     ],
     "language": "python",
     "metadata": {},
     "outputs": [],
     "prompt_number": 41
    },
    {
     "cell_type": "code",
     "collapsed": false,
     "input": [
      "key_actors[\"Spike\"] = 0\n",
      "for actor in key_actors_index:\n",
      "    actor_sent = key_actors[key_actors.Actor == actor][\"Sent\"]\n",
      "    mean = actor_sent.mean()\n",
      "    sd = actor_sent.std()\n",
      "    n = 2\n",
      "    threshold = mean + n*sd\n",
      "    key_actors[\"Spike\"][(key_actors.Actor == actor) & (key_actors.Sent > threshold)] = 1"
     ],
     "language": "python",
     "metadata": {},
     "outputs": [],
     "prompt_number": 42
    },
    {
     "cell_type": "markdown",
     "metadata": {},
     "source": [
      "### Anomaly contagion\n",
      "\n",
      "Simplest version first. For every day, if A is spiking and sends an email to B, increment B's spikes-received counter for the nearest day after the initial spike. "
     ]
    },
    {
     "cell_type": "code",
     "collapsed": false,
     "input": [
      "key_actors_log = data[(data.From.isin(key_actors_index)) & (data.To.isin(key_actors_index))]"
     ],
     "language": "python",
     "metadata": {},
     "outputs": [],
     "prompt_number": 43
    },
    {
     "cell_type": "code",
     "collapsed": false,
     "input": [
      "daily_dyads = key_actors_log.groupby([\"Date\", \"From\", \"To\"]).aggregate(len)[\"MessageID\"]"
     ],
     "language": "python",
     "metadata": {},
     "outputs": [],
     "prompt_number": 44
    },
    {
     "cell_type": "code",
     "collapsed": false,
     "input": [
      "daily_dyads = daily_dyads.reset_index()"
     ],
     "language": "python",
     "metadata": {},
     "outputs": [],
     "prompt_number": 45
    },
    {
     "cell_type": "code",
     "collapsed": false,
     "input": [
      "daily_dyads = daily_dyads.merge(key_actors, how='left', left_on=[\"Date\", \"From\"], \n",
      "                                right_on=[\"Date\", \"Actor\"])\n",
      "daily_dyads = daily_dyads[[\"Date\", \"From\", \"To\", \"Spike\"]]\n",
      "daily_dyads.Spike.fillna(0, inplace=True)"
     ],
     "language": "python",
     "metadata": {},
     "outputs": [],
     "prompt_number": 46
    },
    {
     "cell_type": "code",
     "collapsed": false,
     "input": [
      "daily_dyads.head()"
     ],
     "language": "python",
     "metadata": {},
     "outputs": [
      {
       "output_type": "stream",
       "stream": "stderr",
       "text": [
        "/Library/Python/2.7/site-packages/pandas/core/config.py:570: DeprecationWarning: height has been deprecated.\n",
        "\n",
        "  warnings.warn(d.msg, DeprecationWarning)\n",
        "/Library/Python/2.7/site-packages/pandas/core/config.py:570: DeprecationWarning: height has been deprecated.\n",
        "\n",
        "  warnings.warn(d.msg, DeprecationWarning)\n"
       ]
      },
      {
       "html": [
        "<div style=\"max-height:1000px;max-width:1500px;overflow:auto;\">\n",
        "<table border=\"1\" class=\"dataframe\">\n",
        "  <thead>\n",
        "    <tr style=\"text-align: right;\">\n",
        "      <th></th>\n",
        "      <th>Date</th>\n",
        "      <th>From</th>\n",
        "      <th>To</th>\n",
        "      <th>Spike</th>\n",
        "    </tr>\n",
        "  </thead>\n",
        "  <tbody>\n",
        "    <tr>\n",
        "      <th>0</th>\n",
        "      <td> 1999-01-04</td>\n",
        "      <td> mark.taylor@enron.com</td>\n",
        "      <td>    tana.jones@enron.com</td>\n",
        "      <td> 0</td>\n",
        "    </tr>\n",
        "    <tr>\n",
        "      <th>1</th>\n",
        "      <td> 1999-01-07</td>\n",
        "      <td> mark.taylor@enron.com</td>\n",
        "      <td>   marie.heard@enron.com</td>\n",
        "      <td> 0</td>\n",
        "    </tr>\n",
        "    <tr>\n",
        "      <th>2</th>\n",
        "      <td> 1999-01-07</td>\n",
        "      <td> mark.taylor@enron.com</td>\n",
        "      <td> mark.haedicke@enron.com</td>\n",
        "      <td> 0</td>\n",
        "    </tr>\n",
        "    <tr>\n",
        "      <th>3</th>\n",
        "      <td> 1999-01-07</td>\n",
        "      <td> mark.taylor@enron.com</td>\n",
        "      <td>    tana.jones@enron.com</td>\n",
        "      <td> 0</td>\n",
        "    </tr>\n",
        "    <tr>\n",
        "      <th>4</th>\n",
        "      <td> 1999-01-08</td>\n",
        "      <td> mark.taylor@enron.com</td>\n",
        "      <td>   carol.clair@enron.com</td>\n",
        "      <td> 0</td>\n",
        "    </tr>\n",
        "  </tbody>\n",
        "</table>\n",
        "</div>"
       ],
       "metadata": {},
       "output_type": "pyout",
       "prompt_number": 47,
       "text": [
        "         Date                   From                       To  Spike\n",
        "0  1999-01-04  mark.taylor@enron.com     tana.jones@enron.com      0\n",
        "1  1999-01-07  mark.taylor@enron.com    marie.heard@enron.com      0\n",
        "2  1999-01-07  mark.taylor@enron.com  mark.haedicke@enron.com      0\n",
        "3  1999-01-07  mark.taylor@enron.com     tana.jones@enron.com      0\n",
        "4  1999-01-08  mark.taylor@enron.com    carol.clair@enron.com      0"
       ]
      }
     ],
     "prompt_number": 47
    },
    {
     "cell_type": "code",
     "collapsed": false,
     "input": [
      "key_actors[\"SpikesReceived\"] = 0"
     ],
     "language": "python",
     "metadata": {},
     "outputs": [],
     "prompt_number": 48
    },
    {
     "cell_type": "code",
     "collapsed": false,
     "input": [
      "key_actors.head()"
     ],
     "language": "python",
     "metadata": {},
     "outputs": [
      {
       "output_type": "stream",
       "stream": "stderr",
       "text": [
        "/Library/Python/2.7/site-packages/pandas/core/config.py:570: DeprecationWarning: height has been deprecated.\n",
        "\n",
        "  warnings.warn(d.msg, DeprecationWarning)\n",
        "/Library/Python/2.7/site-packages/pandas/core/config.py:570: DeprecationWarning: height has been deprecated.\n",
        "\n",
        "  warnings.warn(d.msg, DeprecationWarning)\n"
       ]
      },
      {
       "html": [
        "<div style=\"max-height:1000px;max-width:1500px;overflow:auto;\">\n",
        "<table border=\"1\" class=\"dataframe\">\n",
        "  <thead>\n",
        "    <tr style=\"text-align: right;\">\n",
        "      <th></th>\n",
        "      <th>Date</th>\n",
        "      <th>Actor</th>\n",
        "      <th>Sent</th>\n",
        "      <th>Received</th>\n",
        "      <th>Spike</th>\n",
        "      <th>SpikesReceived</th>\n",
        "    </tr>\n",
        "  </thead>\n",
        "  <tbody>\n",
        "    <tr>\n",
        "      <th>0 </th>\n",
        "      <td> 1999-01-18</td>\n",
        "      <td>    mark.taylor@enron.com</td>\n",
        "      <td> 28</td>\n",
        "      <td> 2</td>\n",
        "      <td> 0</td>\n",
        "      <td> 0</td>\n",
        "    </tr>\n",
        "    <tr>\n",
        "      <th>2 </th>\n",
        "      <td> 1999-02-05</td>\n",
        "      <td>    mark.taylor@enron.com</td>\n",
        "      <td> 10</td>\n",
        "      <td> 2</td>\n",
        "      <td> 0</td>\n",
        "      <td> 0</td>\n",
        "    </tr>\n",
        "    <tr>\n",
        "      <th>4 </th>\n",
        "      <td> 1999-02-09</td>\n",
        "      <td>    mark.taylor@enron.com</td>\n",
        "      <td>  2</td>\n",
        "      <td> 4</td>\n",
        "      <td> 0</td>\n",
        "      <td> 0</td>\n",
        "    </tr>\n",
        "    <tr>\n",
        "      <th>5 </th>\n",
        "      <td> 1999-03-23</td>\n",
        "      <td>    mark.taylor@enron.com</td>\n",
        "      <td>  4</td>\n",
        "      <td> 2</td>\n",
        "      <td> 0</td>\n",
        "      <td> 0</td>\n",
        "    </tr>\n",
        "    <tr>\n",
        "      <th>11</th>\n",
        "      <td> 1999-05-03</td>\n",
        "      <td> larry.campbell@enron.com</td>\n",
        "      <td>  6</td>\n",
        "      <td> 5</td>\n",
        "      <td> 0</td>\n",
        "      <td> 0</td>\n",
        "    </tr>\n",
        "  </tbody>\n",
        "</table>\n",
        "</div>"
       ],
       "metadata": {},
       "output_type": "pyout",
       "prompt_number": 49,
       "text": [
        "          Date                     Actor  Sent  Received  Spike  SpikesReceived\n",
        "0   1999-01-18     mark.taylor@enron.com    28         2      0               0\n",
        "2   1999-02-05     mark.taylor@enron.com    10         2      0               0\n",
        "4   1999-02-09     mark.taylor@enron.com     2         4      0               0\n",
        "5   1999-03-23     mark.taylor@enron.com     4         2      0               0\n",
        "11  1999-05-03  larry.campbell@enron.com     6         5      0               0"
       ]
      }
     ],
     "prompt_number": 49
    },
    {
     "cell_type": "code",
     "collapsed": false,
     "input": [
      "for row in daily_dyads.iterrows():\n",
      "    row = row[1]\n",
      "    if row[\"Spike\"] == 0: continue\n",
      "    to = row[\"To\"]\n",
      "    date = row[\"Date\"]\n",
      "    temp = key_actors[(key_actors.Actor == to) & (key_actors.Date > date)]\n",
      "    next_date = temp.Date.min()\n",
      "    key_actors[\"SpikesReceived\"][(key_actors.Actor == to) & (key_actors.Date == next_date)] += 1\n",
      "    "
     ],
     "language": "python",
     "metadata": {},
     "outputs": [],
     "prompt_number": 50
    },
    {
     "cell_type": "code",
     "collapsed": false,
     "input": [
      "key_actors.SpikesReceived.value_counts()"
     ],
     "language": "python",
     "metadata": {},
     "outputs": [
      {
       "metadata": {},
       "output_type": "pyout",
       "prompt_number": 51,
       "text": [
        "0     13772\n",
        "1      1730\n",
        "2       370\n",
        "3       107\n",
        "4        27\n",
        "6         9\n",
        "5         9\n",
        "7         3\n",
        "11        2\n",
        "9         2\n",
        "38        1\n",
        "dtype: int64"
       ]
      }
     ],
     "prompt_number": 51
    },
    {
     "cell_type": "code",
     "collapsed": false,
     "input": [
      "pandas.crosstab(key_actors.Spike, key_actors.SpikesReceived)"
     ],
     "language": "python",
     "metadata": {},
     "outputs": [
      {
       "output_type": "stream",
       "stream": "stderr",
       "text": [
        "/Library/Python/2.7/site-packages/pandas/core/config.py:570: DeprecationWarning: height has been deprecated.\n",
        "\n",
        "  warnings.warn(d.msg, DeprecationWarning)\n",
        "/Library/Python/2.7/site-packages/pandas/core/config.py:570: DeprecationWarning: height has been deprecated.\n",
        "\n",
        "  warnings.warn(d.msg, DeprecationWarning)\n"
       ]
      },
      {
       "html": [
        "<div style=\"max-height:1000px;max-width:1500px;overflow:auto;\">\n",
        "<table border=\"1\" class=\"dataframe\">\n",
        "  <thead>\n",
        "    <tr style=\"text-align: right;\">\n",
        "      <th>SpikesReceived</th>\n",
        "      <th>0</th>\n",
        "      <th>1</th>\n",
        "      <th>2</th>\n",
        "      <th>3</th>\n",
        "      <th>4</th>\n",
        "      <th>5</th>\n",
        "      <th>6</th>\n",
        "      <th>7</th>\n",
        "      <th>9</th>\n",
        "      <th>11</th>\n",
        "      <th>38</th>\n",
        "    </tr>\n",
        "    <tr>\n",
        "      <th>Spike</th>\n",
        "      <th></th>\n",
        "      <th></th>\n",
        "      <th></th>\n",
        "      <th></th>\n",
        "      <th></th>\n",
        "      <th></th>\n",
        "      <th></th>\n",
        "      <th></th>\n",
        "      <th></th>\n",
        "      <th></th>\n",
        "      <th></th>\n",
        "    </tr>\n",
        "  </thead>\n",
        "  <tbody>\n",
        "    <tr>\n",
        "      <th>0</th>\n",
        "      <td> 13257</td>\n",
        "      <td> 1621</td>\n",
        "      <td> 353</td>\n",
        "      <td> 99</td>\n",
        "      <td> 25</td>\n",
        "      <td> 7</td>\n",
        "      <td> 9</td>\n",
        "      <td> 3</td>\n",
        "      <td> 2</td>\n",
        "      <td> 1</td>\n",
        "      <td> 1</td>\n",
        "    </tr>\n",
        "    <tr>\n",
        "      <th>1</th>\n",
        "      <td>   515</td>\n",
        "      <td>  109</td>\n",
        "      <td>  17</td>\n",
        "      <td>  8</td>\n",
        "      <td>  2</td>\n",
        "      <td> 2</td>\n",
        "      <td> 0</td>\n",
        "      <td> 0</td>\n",
        "      <td> 0</td>\n",
        "      <td> 1</td>\n",
        "      <td> 0</td>\n",
        "    </tr>\n",
        "  </tbody>\n",
        "</table>\n",
        "</div>"
       ],
       "metadata": {},
       "output_type": "pyout",
       "prompt_number": 58,
       "text": [
        "SpikesReceived     0     1    2   3   4   5   6   7   9   11  38\n",
        "Spike                                                           \n",
        "0               13257  1621  353  99  25   7   9   3   2   1   1\n",
        "1                 515   109   17   8   2   2   0   0   0   1   0"
       ]
      }
     ],
     "prompt_number": 58
    },
    {
     "cell_type": "code",
     "collapsed": false,
     "input": [
      "features = [\"Received\", \"SpikesReceived\"]"
     ],
     "language": "python",
     "metadata": {},
     "outputs": [],
     "prompt_number": 53
    },
    {
     "cell_type": "code",
     "collapsed": false,
     "input": [
      "rf = RandomForestClassifier()\n",
      "cross_validation.cross_val_score(rf, key_actors[features], key_actors.Spike, cv=5)"
     ],
     "language": "python",
     "metadata": {},
     "outputs": [
      {
       "metadata": {},
       "output_type": "pyout",
       "prompt_number": 54,
       "text": [
        "array([ 0.95852822,  0.95665731,  0.95820337,  0.95695571,  0.95757954])"
       ]
      }
     ],
     "prompt_number": 54
    },
    {
     "cell_type": "code",
     "collapsed": false,
     "input": [
      "logit = LogisticRegression()\n",
      "cross_validation.cross_val_score(logit, key_actors[features], key_actors.Spike, cv=5)"
     ],
     "language": "python",
     "metadata": {},
     "outputs": [
      {
       "metadata": {},
       "output_type": "pyout",
       "prompt_number": 55,
       "text": [
        "array([ 0.95977549,  0.95915186,  0.96007486,  0.96038677,  0.95945103])"
       ]
      }
     ],
     "prompt_number": 55
    },
    {
     "cell_type": "code",
     "collapsed": false,
     "input": [
      "fit = logit.fit(key_actors[features], key_actors.Spike)"
     ],
     "language": "python",
     "metadata": {},
     "outputs": [],
     "prompt_number": 56
    },
    {
     "cell_type": "code",
     "collapsed": false,
     "input": [
      "key_actors[\"Predicted_Spike\"] = fit.predict(key_actors[features])"
     ],
     "language": "python",
     "metadata": {},
     "outputs": [],
     "prompt_number": 57
    },
    {
     "cell_type": "code",
     "collapsed": false,
     "input": [
      "pandas.crosstab(key_actors.Spike, key_actors.Predicted_Spike)"
     ],
     "language": "python",
     "metadata": {},
     "outputs": [
      {
       "output_type": "stream",
       "stream": "stderr",
       "text": [
        "/Library/Python/2.7/site-packages/pandas/core/config.py:570: DeprecationWarning: height has been deprecated.\n",
        "\n",
        "  warnings.warn(d.msg, DeprecationWarning)\n",
        "/Library/Python/2.7/site-packages/pandas/core/config.py:570: DeprecationWarning: height has been deprecated.\n",
        "\n",
        "  warnings.warn(d.msg, DeprecationWarning)\n"
       ]
      },
      {
       "html": [
        "<div style=\"max-height:1000px;max-width:1500px;overflow:auto;\">\n",
        "<table border=\"1\" class=\"dataframe\">\n",
        "  <thead>\n",
        "    <tr style=\"text-align: right;\">\n",
        "      <th>Predicted_Spike</th>\n",
        "      <th>0</th>\n",
        "      <th>1</th>\n",
        "    </tr>\n",
        "    <tr>\n",
        "      <th>Spike</th>\n",
        "      <th></th>\n",
        "      <th></th>\n",
        "    </tr>\n",
        "  </thead>\n",
        "  <tbody>\n",
        "    <tr>\n",
        "      <th>0</th>\n",
        "      <td> 15373</td>\n",
        "      <td>  5</td>\n",
        "    </tr>\n",
        "    <tr>\n",
        "      <th>1</th>\n",
        "      <td>   640</td>\n",
        "      <td> 14</td>\n",
        "    </tr>\n",
        "  </tbody>\n",
        "</table>\n",
        "</div>"
       ],
       "metadata": {},
       "output_type": "pyout",
       "prompt_number": 59,
       "text": [
        "Predicted_Spike      0   1\n",
        "Spike                     \n",
        "0                15373   5\n",
        "1                  640  14"
       ]
      }
     ],
     "prompt_number": 59
    },
    {
     "cell_type": "markdown",
     "metadata": {},
     "source": [
      "Unfortunately rhere does not seem to be a correlation between incoming spikes and outgoing ones. This remains true with several email-count cutoffs, and sigmas to threshold."
     ]
    },
    {
     "cell_type": "markdown",
     "metadata": {},
     "source": [
      "However, most emails from a spiking agent probably won't trigger other spikes, simply because there are more of them. How many spiking agents send at least one email to a spiking agent?"
     ]
    },
    {
     "cell_type": "code",
     "collapsed": false,
     "input": [
      "key_actors[\"SentToSpiking\"] = 0\n",
      "\n",
      "\n",
      "for row in daily_dyads.iterrows():\n",
      "    row = row[1]\n",
      "    #if row[\"Spike\"] == 0: continue\n",
      "    to = row[\"To\"]\n",
      "    date = row[\"Date\"]\n",
      "    temp = key_actors[(key_actors.Actor == to) & (key_actors.Date > date)]\n",
      "    next_date = temp.Date.min()\n",
      "    if key_actors[\"Spike\"][(key_actors.Actor == to) & (key_actors.Date == next_date)] == 1:\n",
      "        key_actors[\"SentToSpiking\"][(key_actors.Actor == row[\"From\"]) & (key_actors.Date == date)] += 1"
     ],
     "language": "python",
     "metadata": {},
     "outputs": [],
     "prompt_number": 64
    },
    {
     "cell_type": "code",
     "collapsed": false,
     "input": [
      "pandas.crosstab(key_actors.Spike, key_actors.SentToSpiking)"
     ],
     "language": "python",
     "metadata": {},
     "outputs": [
      {
       "output_type": "stream",
       "stream": "stderr",
       "text": [
        "/Library/Python/2.7/site-packages/pandas/core/config.py:570: DeprecationWarning: height has been deprecated.\n",
        "\n",
        "  warnings.warn(d.msg, DeprecationWarning)\n",
        "/Library/Python/2.7/site-packages/pandas/core/config.py:570: DeprecationWarning: height has been deprecated.\n",
        "\n",
        "  warnings.warn(d.msg, DeprecationWarning)\n"
       ]
      },
      {
       "html": [
        "<div style=\"max-height:1000px;max-width:1500px;overflow:auto;\">\n",
        "<table border=\"1\" class=\"dataframe\">\n",
        "  <thead>\n",
        "    <tr style=\"text-align: right;\">\n",
        "      <th>SentToSpiking</th>\n",
        "      <th>0</th>\n",
        "      <th>1</th>\n",
        "      <th>2</th>\n",
        "      <th>3</th>\n",
        "      <th>4</th>\n",
        "      <th>5</th>\n",
        "    </tr>\n",
        "    <tr>\n",
        "      <th>Spike</th>\n",
        "      <th></th>\n",
        "      <th></th>\n",
        "      <th></th>\n",
        "      <th></th>\n",
        "      <th></th>\n",
        "      <th></th>\n",
        "    </tr>\n",
        "  </thead>\n",
        "  <tbody>\n",
        "    <tr>\n",
        "      <th>0</th>\n",
        "      <td> 14440</td>\n",
        "      <td> 834</td>\n",
        "      <td> 87</td>\n",
        "      <td> 12</td>\n",
        "      <td> 4</td>\n",
        "      <td> 1</td>\n",
        "    </tr>\n",
        "    <tr>\n",
        "      <th>1</th>\n",
        "      <td>   502</td>\n",
        "      <td> 115</td>\n",
        "      <td> 30</td>\n",
        "      <td>  7</td>\n",
        "      <td> 0</td>\n",
        "      <td> 0</td>\n",
        "    </tr>\n",
        "  </tbody>\n",
        "</table>\n",
        "</div>"
       ],
       "metadata": {},
       "output_type": "pyout",
       "prompt_number": 65,
       "text": [
        "SentToSpiking      0    1   2   3  4  5\n",
        "Spike                                  \n",
        "0              14440  834  87  12  4  1\n",
        "1                502  115  30   7  0  0"
       ]
      }
     ],
     "prompt_number": 65
    },
    {
     "cell_type": "markdown",
     "metadata": {},
     "source": [
      "Answer: Doesn't look like very many."
     ]
    },
    {
     "cell_type": "markdown",
     "metadata": {},
     "source": [
      "#### Degree analysis?\n",
      "What if the anomaly is in the degree, not the number of emails? That means we need to do the analysis above all over again, with degree instead of count. *Le sigh.* First, let's see to what extent they correlate, to see if it's worth the effort."
     ]
    },
    {
     "cell_type": "code",
     "collapsed": false,
     "input": [
      "out_deg = data.groupby([\"Date\", \"From\"]).To.nunique()\n",
      "in_deg = data.groupby([\"Date\", \"To\"]).From.nunique()\n",
      "\n",
      "out_deg = out_deg.reset_index()\n",
      "in_deg  = in_deg.reset_index()\n",
      "\n",
      "out_deg.rename(columns={0: \"To\"}, inplace=True)\n",
      "in_deg.rename(columns={0: \"From\"}, inplace=True)\n",
      "\n",
      "daily_deg = pandas.merge(left=in_deg, right=out_deg, how='inner', \n",
      "                            left_on=[\"Date\", \"To\"], right_on=[\"Date\", \"From\"])\n",
      "\n",
      "daily_deg.rename(columns={\"To_x\": \"Actor\", \"To_y\": \"OutDeg\", \"From_x\": \"InDeg\"}, inplace=True)\n",
      "daily_deg = daily_deg[[\"Date\", \"Actor\", \"InDeg\", \"OutDeg\"]]"
     ],
     "language": "python",
     "metadata": {},
     "outputs": [],
     "prompt_number": 59
    },
    {
     "cell_type": "code",
     "collapsed": false,
     "input": [
      "daily_merged = pandas.merge(left=daily_totals, right=daily_deg, how='inner',\n",
      "                            on=[\"Date\", \"Actor\"])"
     ],
     "language": "python",
     "metadata": {},
     "outputs": [],
     "prompt_number": 60
    },
    {
     "cell_type": "code",
     "collapsed": false,
     "input": [
      "daily_merged.corr(method='spearman')"
     ],
     "language": "python",
     "metadata": {},
     "outputs": [
      {
       "output_type": "stream",
       "stream": "stderr",
       "text": [
        "/Library/Python/2.7/site-packages/pandas/core/config.py:570: DeprecationWarning: height has been deprecated.\n",
        "\n",
        "  warnings.warn(d.msg, DeprecationWarning)\n",
        "/Library/Python/2.7/site-packages/pandas/core/config.py:570: DeprecationWarning: height has been deprecated.\n",
        "\n",
        "  warnings.warn(d.msg, DeprecationWarning)\n"
       ]
      },
      {
       "html": [
        "<div style=\"max-height:1000px;max-width:1500px;overflow:auto;\">\n",
        "<table border=\"1\" class=\"dataframe\">\n",
        "  <thead>\n",
        "    <tr style=\"text-align: right;\">\n",
        "      <th></th>\n",
        "      <th>Sent</th>\n",
        "      <th>Received</th>\n",
        "      <th>InDeg</th>\n",
        "      <th>OutDeg</th>\n",
        "    </tr>\n",
        "  </thead>\n",
        "  <tbody>\n",
        "    <tr>\n",
        "      <th>Sent</th>\n",
        "      <td> 1.000000</td>\n",
        "      <td> 0.296627</td>\n",
        "      <td> 0.191231</td>\n",
        "      <td> 0.902161</td>\n",
        "    </tr>\n",
        "    <tr>\n",
        "      <th>Received</th>\n",
        "      <td> 0.296627</td>\n",
        "      <td> 1.000000</td>\n",
        "      <td> 0.772124</td>\n",
        "      <td> 0.179760</td>\n",
        "    </tr>\n",
        "    <tr>\n",
        "      <th>InDeg</th>\n",
        "      <td> 0.191231</td>\n",
        "      <td> 0.772124</td>\n",
        "      <td> 1.000000</td>\n",
        "      <td> 0.217793</td>\n",
        "    </tr>\n",
        "    <tr>\n",
        "      <th>OutDeg</th>\n",
        "      <td> 0.902161</td>\n",
        "      <td> 0.179760</td>\n",
        "      <td> 0.217793</td>\n",
        "      <td> 1.000000</td>\n",
        "    </tr>\n",
        "  </tbody>\n",
        "</table>\n",
        "</div>"
       ],
       "metadata": {},
       "output_type": "pyout",
       "prompt_number": 61,
       "text": [
        "              Sent  Received     InDeg    OutDeg\n",
        "Sent      1.000000  0.296627  0.191231  0.902161\n",
        "Received  0.296627  1.000000  0.772124  0.179760\n",
        "InDeg     0.191231  0.772124  1.000000  0.217793\n",
        "OutDeg    0.902161  0.179760  0.217793  1.000000"
       ]
      }
     ],
     "prompt_number": 61
    },
    {
     "cell_type": "code",
     "collapsed": false,
     "input": [
      "some_actor = random.choice(key_actors_index)\n",
      "print some_actor\n",
      "actor_subset = daily_deg[daily_deg.Actor == some_actor]\n",
      "#actor_subset = actor_subset[[\"Sent\", \"Received\"]]\n",
      "actor_subset.set_index(\"Date\", inplace=True)\n",
      "mean_sent = actor_subset.OutDeg.mean()\n",
      "sd_sent = actor_subset.InDeg.std()\n",
      "\n",
      "actor_subset.OutDeg.plot(figsize=(12,4))\n",
      "plt.fill_between(actor_subset.index, 0, mean_sent+2*sd_sent, color='b', alpha=0.2)"
     ],
     "language": "python",
     "metadata": {},
     "outputs": [
      {
       "output_type": "stream",
       "stream": "stdout",
       "text": [
        "gerald.nemec@enron.com\n"
       ]
      },
      {
       "metadata": {},
       "output_type": "pyout",
       "prompt_number": 62,
       "text": [
        "<matplotlib.collections.PolyCollection at 0x10d0d6310>"
       ]
      },
      {
       "metadata": {},
       "output_type": "display_data",
       "png": "[encoded data removed]",
       "text": [
        "<matplotlib.figure.Figure at 0x10d0d6950>"
       ]
      }
     ],
     "prompt_number": 62
    },
    {
     "cell_type": "markdown",
     "metadata": {},
     "source": [
      "If anything, these time series are spikier and noisier."
     ]
    },
    {
     "cell_type": "markdown",
     "metadata": {},
     "source": [
      "### Time-series correlation vs social network?\n",
      "\n",
      "Does the social network correlate with the time series? Or are they orthogonal -- i.e. do central actors correlate (but not necessarily communicate) with each other?"
     ]
    },
    {
     "cell_type": "code",
     "collapsed": false,
     "input": [
      "key_actors.head()"
     ],
     "language": "python",
     "metadata": {},
     "outputs": [
      {
       "output_type": "stream",
       "stream": "stderr",
       "text": [
        "/Library/Python/2.7/site-packages/pandas/core/config.py:570: DeprecationWarning: height has been deprecated.\n",
        "\n",
        "  warnings.warn(d.msg, DeprecationWarning)\n",
        "/Library/Python/2.7/site-packages/pandas/core/config.py:570: DeprecationWarning: height has been deprecated.\n",
        "\n",
        "  warnings.warn(d.msg, DeprecationWarning)\n",
        "/Library/Python/2.7/site-packages/pandas/core/config.py:570: DeprecationWarning: height has been deprecated.\n",
        "\n",
        "  warnings.warn(d.msg, DeprecationWarning)\n"
       ]
      },
      {
       "html": [
        "<div style=\"max-height:1000px;max-width:1500px;overflow:auto;\">\n",
        "<table border=\"1\" class=\"dataframe\">\n",
        "  <thead>\n",
        "    <tr style=\"text-align: right;\">\n",
        "      <th></th>\n",
        "      <th>Date</th>\n",
        "      <th>Actor</th>\n",
        "      <th>Sent</th>\n",
        "      <th>Received</th>\n",
        "      <th>Spike</th>\n",
        "      <th>SpikesReceived</th>\n",
        "      <th>Predicted_Spike</th>\n",
        "    </tr>\n",
        "  </thead>\n",
        "  <tbody>\n",
        "    <tr>\n",
        "      <th>0 </th>\n",
        "      <td> 1999-01-18</td>\n",
        "      <td>    mark.taylor@enron.com</td>\n",
        "      <td> 28</td>\n",
        "      <td> 2</td>\n",
        "      <td> 0</td>\n",
        "      <td> 0</td>\n",
        "      <td> 0</td>\n",
        "    </tr>\n",
        "    <tr>\n",
        "      <th>2 </th>\n",
        "      <td> 1999-02-05</td>\n",
        "      <td>    mark.taylor@enron.com</td>\n",
        "      <td> 10</td>\n",
        "      <td> 2</td>\n",
        "      <td> 0</td>\n",
        "      <td> 0</td>\n",
        "      <td> 0</td>\n",
        "    </tr>\n",
        "    <tr>\n",
        "      <th>4 </th>\n",
        "      <td> 1999-02-09</td>\n",
        "      <td>    mark.taylor@enron.com</td>\n",
        "      <td>  2</td>\n",
        "      <td> 4</td>\n",
        "      <td> 0</td>\n",
        "      <td> 0</td>\n",
        "      <td> 0</td>\n",
        "    </tr>\n",
        "    <tr>\n",
        "      <th>5 </th>\n",
        "      <td> 1999-03-23</td>\n",
        "      <td>    mark.taylor@enron.com</td>\n",
        "      <td>  4</td>\n",
        "      <td> 2</td>\n",
        "      <td> 0</td>\n",
        "      <td> 0</td>\n",
        "      <td> 0</td>\n",
        "    </tr>\n",
        "    <tr>\n",
        "      <th>11</th>\n",
        "      <td> 1999-05-03</td>\n",
        "      <td> larry.campbell@enron.com</td>\n",
        "      <td>  6</td>\n",
        "      <td> 5</td>\n",
        "      <td> 0</td>\n",
        "      <td> 0</td>\n",
        "      <td> 0</td>\n",
        "    </tr>\n",
        "  </tbody>\n",
        "</table>\n",
        "</div>"
       ],
       "metadata": {},
       "output_type": "pyout",
       "prompt_number": 63,
       "text": [
        "          Date                     Actor  Sent  Received  Spike  \\\n",
        "0   1999-01-18     mark.taylor@enron.com    28         2      0   \n",
        "2   1999-02-05     mark.taylor@enron.com    10         2      0   \n",
        "4   1999-02-09     mark.taylor@enron.com     2         4      0   \n",
        "5   1999-03-23     mark.taylor@enron.com     4         2      0   \n",
        "11  1999-05-03  larry.campbell@enron.com     6         5      0   \n",
        "\n",
        "    SpikesReceived  Predicted_Spike  \n",
        "0                0                0  \n",
        "2                0                0  \n",
        "4                0                0  \n",
        "5                0                0  \n",
        "11               0                0  "
       ]
      }
     ],
     "prompt_number": 63
    },
    {
     "cell_type": "code",
     "collapsed": false,
     "input": [
      "correls = {}\n",
      "for actor1 in key_actors_index:\n",
      "    actor1_series = key_actors[key_actors.Actor == actor1]\n",
      "    actor1_series = actor1_series[[\"Date\", \"Sent\"]]\n",
      "    actor1_series.set_index(\"Date\", inplace=True)\n",
      "    actor1_series = actor1_series.Sent\n",
      "    for actor2 in key_actors_index:\n",
      "        if actor1 == actor2: continue\n",
      "        actor2_series = key_actors[key_actors.Actor == actor2]\n",
      "        actor2_series = actor2_series[[\"Date\", \"Sent\"]]\n",
      "        actor2_series.set_index(\"Date\", inplace=True)\n",
      "        actor2_series = actor2_series.Sent\n",
      "        correls[(actor1, actor2)] = actor1_series.corr(actor2_series)        "
     ],
     "language": "python",
     "metadata": {},
     "outputs": [],
     "prompt_number": 64
    },
    {
     "cell_type": "code",
     "collapsed": false,
     "input": [
      "correls = pandas.Series(correls)"
     ],
     "language": "python",
     "metadata": {},
     "outputs": [],
     "prompt_number": 65
    },
    {
     "cell_type": "code",
     "collapsed": false,
     "input": [
      "correls.hist()"
     ],
     "language": "python",
     "metadata": {},
     "outputs": [
      {
       "metadata": {},
       "output_type": "pyout",
       "prompt_number": 66,
       "text": [
        "<matplotlib.axes.AxesSubplot at 0x10d679ad0>"
       ]
      },
      {
       "metadata": {},
       "output_type": "display_data",
       "png": "[encoded data removed]",
       "text": [
        "<matplotlib.figure.Figure at 0x10d675f10>"
       ]
      }
     ],
     "prompt_number": 66
    },
    {
     "cell_type": "code",
     "collapsed": false,
     "input": [
      "print correls.mean()\n",
      "print correls.std()"
     ],
     "language": "python",
     "metadata": {},
     "outputs": [
      {
       "output_type": "stream",
       "stream": "stdout",
       "text": [
        "0.0178885948968\n",
        "0.181151744073\n"
       ]
      }
     ],
     "prompt_number": 67
    },
    {
     "cell_type": "code",
     "collapsed": false,
     "input": [
      "len(correls[correls < (correls.mean() - 2*correls.std())])/len(correls)"
     ],
     "language": "python",
     "metadata": {},
     "outputs": [
      {
       "metadata": {},
       "output_type": "pyout",
       "prompt_number": 68,
       "text": [
        "0.01094391244870041"
       ]
      }
     ],
     "prompt_number": 68
    },
    {
     "cell_type": "code",
     "collapsed": false,
     "input": [
      "G = nx.Graph()\n",
      "threshold = correls.mean() + 2*correls.std()\n",
      "\n",
      "for dyad, c in correls.iteritems():\n",
      "    if c > threshold:\n",
      "        G.add_edge(dyad[0], dyad[1])"
     ],
     "language": "python",
     "metadata": {},
     "outputs": [
      {
       "output_type": "stream",
       "stream": "stdout",
       "text": [
        "\n"
       ]
      }
     ],
     "prompt_number": 111
    },
    {
     "cell_type": "code",
     "collapsed": false,
     "input": [
      "nx.draw(G, labels={})"
     ],
     "language": "python",
     "metadata": {},
     "outputs": [
      {
       "metadata": {},
       "output_type": "display_data",
       "png": "[encoded data removed]",
       "text": [
        "<matplotlib.figure.Figure at 0x10e794c90>"
       ]
      }
     ],
     "prompt_number": 70
    },
    {
     "cell_type": "code",
     "collapsed": false,
     "input": [
      "len(G)"
     ],
     "language": "python",
     "metadata": {},
     "outputs": [
      {
       "metadata": {},
       "output_type": "pyout",
       "prompt_number": 71,
       "text": [
        "73"
       ]
      }
     ],
     "prompt_number": 71
    },
    {
     "cell_type": "code",
     "collapsed": false,
     "input": [
      "plt.hist(G.degree().values())"
     ],
     "language": "python",
     "metadata": {},
     "outputs": [
      {
       "metadata": {},
       "output_type": "pyout",
       "prompt_number": 72,
       "text": [
        "(array([22, 21, 10,  6,  4,  4,  4,  1,  0,  1]),\n",
        " array([  1. ,   2.2,   3.4,   4.6,   5.8,   7. ,   8.2,   9.4,  10.6,\n",
        "         11.8,  13. ]),\n",
        " <a list of 10 Patch objects>)"
       ]
      },
      {
       "metadata": {},
       "output_type": "display_data",
       "png": "[encoded data removed]",
       "text": [
        "<matplotlib.figure.Figure at 0x115627e50>"
       ]
      }
     ],
     "prompt_number": 72
    },
    {
     "cell_type": "markdown",
     "metadata": {},
     "source": [
      "### Make a social network out of dyads"
     ]
    },
    {
     "cell_type": "code",
     "collapsed": false,
     "input": [
      "daily_dyads.head()"
     ],
     "language": "python",
     "metadata": {},
     "outputs": [
      {
       "output_type": "stream",
       "stream": "stderr",
       "text": [
        "/Library/Python/2.7/site-packages/pandas/core/config.py:570: DeprecationWarning: height has been deprecated.\n",
        "\n",
        "  warnings.warn(d.msg, DeprecationWarning)\n",
        "/Library/Python/2.7/site-packages/pandas/core/config.py:570: DeprecationWarning: height has been deprecated.\n",
        "\n",
        "  warnings.warn(d.msg, DeprecationWarning)\n"
       ]
      },
      {
       "html": [
        "<div style=\"max-height:1000px;max-width:1500px;overflow:auto;\">\n",
        "<table border=\"1\" class=\"dataframe\">\n",
        "  <thead>\n",
        "    <tr style=\"text-align: right;\">\n",
        "      <th></th>\n",
        "      <th>Date</th>\n",
        "      <th>From</th>\n",
        "      <th>To</th>\n",
        "      <th>Spike</th>\n",
        "    </tr>\n",
        "  </thead>\n",
        "  <tbody>\n",
        "    <tr>\n",
        "      <th>0</th>\n",
        "      <td> 1999-01-04</td>\n",
        "      <td> mark.taylor@enron.com</td>\n",
        "      <td>    tana.jones@enron.com</td>\n",
        "      <td> 0</td>\n",
        "    </tr>\n",
        "    <tr>\n",
        "      <th>1</th>\n",
        "      <td> 1999-01-07</td>\n",
        "      <td> mark.taylor@enron.com</td>\n",
        "      <td>   marie.heard@enron.com</td>\n",
        "      <td> 0</td>\n",
        "    </tr>\n",
        "    <tr>\n",
        "      <th>2</th>\n",
        "      <td> 1999-01-07</td>\n",
        "      <td> mark.taylor@enron.com</td>\n",
        "      <td> mark.haedicke@enron.com</td>\n",
        "      <td> 0</td>\n",
        "    </tr>\n",
        "    <tr>\n",
        "      <th>3</th>\n",
        "      <td> 1999-01-07</td>\n",
        "      <td> mark.taylor@enron.com</td>\n",
        "      <td>    tana.jones@enron.com</td>\n",
        "      <td> 0</td>\n",
        "    </tr>\n",
        "    <tr>\n",
        "      <th>4</th>\n",
        "      <td> 1999-01-08</td>\n",
        "      <td> mark.taylor@enron.com</td>\n",
        "      <td>   carol.clair@enron.com</td>\n",
        "      <td> 0</td>\n",
        "    </tr>\n",
        "  </tbody>\n",
        "</table>\n",
        "</div>"
       ],
       "metadata": {},
       "output_type": "pyout",
       "prompt_number": 73,
       "text": [
        "         Date                   From                       To  Spike\n",
        "0  1999-01-04  mark.taylor@enron.com     tana.jones@enron.com      0\n",
        "1  1999-01-07  mark.taylor@enron.com    marie.heard@enron.com      0\n",
        "2  1999-01-07  mark.taylor@enron.com  mark.haedicke@enron.com      0\n",
        "3  1999-01-07  mark.taylor@enron.com     tana.jones@enron.com      0\n",
        "4  1999-01-08  mark.taylor@enron.com    carol.clair@enron.com      0"
       ]
      }
     ],
     "prompt_number": 73
    },
    {
     "cell_type": "code",
     "collapsed": false,
     "input": [
      "summed_dyads = daily_dyads.groupby([\"From\", \"To\"]).aggregate(len)[\"Spike\"]"
     ],
     "language": "python",
     "metadata": {},
     "outputs": [],
     "prompt_number": 74
    },
    {
     "cell_type": "code",
     "collapsed": false,
     "input": [
      "for k in summed_dyads.iteritems():\n",
      "    print k\n",
      "    break"
     ],
     "language": "python",
     "metadata": {},
     "outputs": [
      {
       "output_type": "stream",
       "stream": "stdout",
       "text": [
        "(('alan.aronowitz@enron.com', 'alan.aronowitz@enron.com'), 1.0)\n"
       ]
      }
     ],
     "prompt_number": 75
    },
    {
     "cell_type": "code",
     "collapsed": false,
     "input": [
      "summed_dyads"
     ],
     "language": "python",
     "metadata": {},
     "outputs": [
      {
       "metadata": {},
       "output_type": "pyout",
       "prompt_number": 76,
       "text": [
        "From                      To                        \n",
        "alan.aronowitz@enron.com  alan.aronowitz@enron.com       1\n",
        "                          andy.zipper@enron.com          1\n",
        "                          brent.hendry@enron.com         7\n",
        "                          carol.clair@enron.com          1\n",
        "                          dan.hyvl@enron.com             1\n",
        "                          david.forster@enron.com        2\n",
        "                          elizabeth.sager@enron.com     10\n",
        "                          gerald.nemec@enron.com         1\n",
        "                          jeffrey.shankman@enron.com     4\n",
        "                          kay.mann@enron.com             1\n",
        "                          legal <.taylor@enron.com>      5\n",
        "                          leslie.hansen@enron.com        3\n",
        "                          marie.heard@enron.com          4\n",
        "                          mark.greenberg@enron.com       2\n",
        "                          mark.haedicke@enron.com       22\n",
        "...\n",
        "vince.kaminski@enron.com  james.steffes@enron.com         2\n",
        "                          jeffrey.shankman@enron.com     33\n",
        "                          john.arnold@enron.com           3\n",
        "                          john.lavorato@enron.com        15\n",
        "                          kimberly.watson@enron.com      10\n",
        "                          louise.kitchen@enron.com       12\n",
        "                          mark.haedicke@enron.com         4\n",
        "                          richard.shapiro@enron.com       1\n",
        "                          rick.buy@enron.com             13\n",
        "                          sally.beck@enron.com            5\n",
        "                          shelley.corman@enron.com        1\n",
        "                          shirley.crenshaw@enron.com    222\n",
        "                          steven.kean@enron.com           4\n",
        "                          tim.belden@enron.com            1\n",
        "                          vince.kaminski@enron.com      266\n",
        "Name: Spike, Length: 1607, dtype: float64"
       ]
      }
     ],
     "prompt_number": 76
    },
    {
     "cell_type": "code",
     "collapsed": false,
     "input": [
      "full_net = nx.DiGraph()\n",
      "for key, val in summed_dyads.iteritems():\n",
      "    full_net.add_edge(key[0], key[1], weight=val)\n",
      "print len(full_net)"
     ],
     "language": "python",
     "metadata": {},
     "outputs": [
      {
       "output_type": "stream",
       "stream": "stdout",
       "text": [
        "86\n"
       ]
      }
     ],
     "prompt_number": 77
    },
    {
     "cell_type": "code",
     "collapsed": false,
     "input": [
      "full_undirected = {}\n",
      "for key, val in summed_dyads.iteritems():\n",
      "    if key[0] == key[1]: continue\n",
      "    full_undirected[key] = val\n",
      "    if (key[1], key[0]) in summed_dyads:\n",
      "        full_undirected[key] += summed_dyads[(key[1], key[0])]\n",
      "full_undirected = pandas.Series(full_undirected)"
     ],
     "language": "python",
     "metadata": {},
     "outputs": [],
     "prompt_number": 78
    },
    {
     "cell_type": "code",
     "collapsed": false,
     "input": [
      "df = pandas.DataFrame({\"Correlation\": correls, \"Messages\": full_undirected})"
     ],
     "language": "python",
     "metadata": {},
     "outputs": [],
     "prompt_number": 79
    },
    {
     "cell_type": "code",
     "collapsed": false,
     "input": [
      "df.fillna(0, inplace=True)"
     ],
     "language": "python",
     "metadata": {},
     "outputs": [],
     "prompt_number": 80
    },
    {
     "cell_type": "code",
     "collapsed": false,
     "input": [
      "df.head()"
     ],
     "language": "python",
     "metadata": {},
     "outputs": [
      {
       "output_type": "stream",
       "stream": "stderr",
       "text": [
        "/Library/Python/2.7/site-packages/pandas/core/config.py:570: DeprecationWarning: height has been deprecated.\n",
        "\n",
        "  warnings.warn(d.msg, DeprecationWarning)\n",
        "/Library/Python/2.7/site-packages/pandas/core/config.py:570: DeprecationWarning: height has been deprecated.\n",
        "\n",
        "  warnings.warn(d.msg, DeprecationWarning)\n"
       ]
      },
      {
       "html": [
        "<div style=\"max-height:1000px;max-width:1500px;overflow:auto;\">\n",
        "<table border=\"1\" class=\"dataframe\">\n",
        "  <thead>\n",
        "    <tr style=\"text-align: right;\">\n",
        "      <th></th>\n",
        "      <th>Correlation</th>\n",
        "      <th>Messages</th>\n",
        "    </tr>\n",
        "  </thead>\n",
        "  <tbody>\n",
        "    <tr>\n",
        "      <th>(alan.aronowitz@enron.com, alan.comnes@enron.com)</th>\n",
        "      <td>-0.055408</td>\n",
        "      <td> 0</td>\n",
        "    </tr>\n",
        "    <tr>\n",
        "      <th>(alan.aronowitz@enron.com, andy.zipper@enron.com)</th>\n",
        "      <td>-0.071721</td>\n",
        "      <td> 1</td>\n",
        "    </tr>\n",
        "    <tr>\n",
        "      <th>(alan.aronowitz@enron.com, audrey.robertson@enron.com)</th>\n",
        "      <td>-0.131898</td>\n",
        "      <td> 0</td>\n",
        "    </tr>\n",
        "    <tr>\n",
        "      <th>(alan.aronowitz@enron.com, barry.tycholiz@enron.com)</th>\n",
        "      <td> 0.172684</td>\n",
        "      <td> 0</td>\n",
        "    </tr>\n",
        "    <tr>\n",
        "      <th>(alan.aronowitz@enron.com, ben.jacoby@enron.com)</th>\n",
        "      <td>-0.179037</td>\n",
        "      <td> 0</td>\n",
        "    </tr>\n",
        "  </tbody>\n",
        "</table>\n",
        "</div>"
       ],
       "metadata": {},
       "output_type": "pyout",
       "prompt_number": 81,
       "text": [
        "                                                        Correlation  Messages\n",
        "(alan.aronowitz@enron.com, alan.comnes@enron.com)         -0.055408         0\n",
        "(alan.aronowitz@enron.com, andy.zipper@enron.com)         -0.071721         1\n",
        "(alan.aronowitz@enron.com, audrey.robertson@enron.com)    -0.131898         0\n",
        "(alan.aronowitz@enron.com, barry.tycholiz@enron.com)       0.172684         0\n",
        "(alan.aronowitz@enron.com, ben.jacoby@enron.com)          -0.179037         0"
       ]
      }
     ],
     "prompt_number": 81
    },
    {
     "cell_type": "code",
     "collapsed": false,
     "input": [
      "df.corr(method='spearman')"
     ],
     "language": "python",
     "metadata": {},
     "outputs": [
      {
       "output_type": "stream",
       "stream": "stderr",
       "text": [
        "/Library/Python/2.7/site-packages/pandas/core/config.py:570: DeprecationWarning: height has been deprecated.\n",
        "\n",
        "  warnings.warn(d.msg, DeprecationWarning)\n",
        "/Library/Python/2.7/site-packages/pandas/core/config.py:570: DeprecationWarning: height has been deprecated.\n",
        "\n",
        "  warnings.warn(d.msg, DeprecationWarning)\n"
       ]
      },
      {
       "html": [
        "<div style=\"max-height:1000px;max-width:1500px;overflow:auto;\">\n",
        "<table border=\"1\" class=\"dataframe\">\n",
        "  <thead>\n",
        "    <tr style=\"text-align: right;\">\n",
        "      <th></th>\n",
        "      <th>Correlation</th>\n",
        "      <th>Messages</th>\n",
        "    </tr>\n",
        "  </thead>\n",
        "  <tbody>\n",
        "    <tr>\n",
        "      <th>Correlation</th>\n",
        "      <td> 1.000000</td>\n",
        "      <td> 0.018591</td>\n",
        "    </tr>\n",
        "    <tr>\n",
        "      <th>Messages</th>\n",
        "      <td> 0.018591</td>\n",
        "      <td> 1.000000</td>\n",
        "    </tr>\n",
        "  </tbody>\n",
        "</table>\n",
        "</div>"
       ],
       "metadata": {},
       "output_type": "pyout",
       "prompt_number": 82,
       "text": [
        "             Correlation  Messages\n",
        "Correlation     1.000000  0.018591\n",
        "Messages        0.018591  1.000000"
       ]
      }
     ],
     "prompt_number": 82
    },
    {
     "cell_type": "code",
     "collapsed": false,
     "input": [
      "plt.scatter(df.Correlation, df.Messages)"
     ],
     "language": "python",
     "metadata": {},
     "outputs": [
      {
       "metadata": {},
       "output_type": "pyout",
       "prompt_number": 83,
       "text": [
        "<matplotlib.collections.PathCollection at 0x10dc2ffd0>"
       ]
      },
      {
       "metadata": {},
       "output_type": "display_data",
       "png": "[encoded data removed]",
       "text": [
        "<matplotlib.figure.Figure at 0x10d7a9110>"
       ]
      }
     ],
     "prompt_number": 83
    },
    {
     "cell_type": "markdown",
     "metadata": {},
     "source": [
      "### What about node similarity?"
     ]
    },
    {
     "cell_type": "code",
     "collapsed": false,
     "input": [
      "dyads = summed_dyads.reset_index()"
     ],
     "language": "python",
     "metadata": {},
     "outputs": [],
     "prompt_number": 84
    },
    {
     "cell_type": "code",
     "collapsed": false,
     "input": [
      "dyads.head()"
     ],
     "language": "python",
     "metadata": {},
     "outputs": [
      {
       "output_type": "stream",
       "stream": "stderr",
       "text": [
        "/Library/Python/2.7/site-packages/pandas/core/config.py:570: DeprecationWarning: height has been deprecated.\n",
        "\n",
        "  warnings.warn(d.msg, DeprecationWarning)\n",
        "/Library/Python/2.7/site-packages/pandas/core/config.py:570: DeprecationWarning: height has been deprecated.\n",
        "\n",
        "  warnings.warn(d.msg, DeprecationWarning)\n"
       ]
      },
      {
       "html": [
        "<div style=\"max-height:1000px;max-width:1500px;overflow:auto;\">\n",
        "<table border=\"1\" class=\"dataframe\">\n",
        "  <thead>\n",
        "    <tr style=\"text-align: right;\">\n",
        "      <th></th>\n",
        "      <th>From</th>\n",
        "      <th>To</th>\n",
        "      <th>Spike</th>\n",
        "    </tr>\n",
        "  </thead>\n",
        "  <tbody>\n",
        "    <tr>\n",
        "      <th>0</th>\n",
        "      <td> alan.aronowitz@enron.com</td>\n",
        "      <td> alan.aronowitz@enron.com</td>\n",
        "      <td> 1</td>\n",
        "    </tr>\n",
        "    <tr>\n",
        "      <th>1</th>\n",
        "      <td> alan.aronowitz@enron.com</td>\n",
        "      <td>    andy.zipper@enron.com</td>\n",
        "      <td> 1</td>\n",
        "    </tr>\n",
        "    <tr>\n",
        "      <th>2</th>\n",
        "      <td> alan.aronowitz@enron.com</td>\n",
        "      <td>   brent.hendry@enron.com</td>\n",
        "      <td> 7</td>\n",
        "    </tr>\n",
        "    <tr>\n",
        "      <th>3</th>\n",
        "      <td> alan.aronowitz@enron.com</td>\n",
        "      <td>    carol.clair@enron.com</td>\n",
        "      <td> 1</td>\n",
        "    </tr>\n",
        "    <tr>\n",
        "      <th>4</th>\n",
        "      <td> alan.aronowitz@enron.com</td>\n",
        "      <td>       dan.hyvl@enron.com</td>\n",
        "      <td> 1</td>\n",
        "    </tr>\n",
        "  </tbody>\n",
        "</table>\n",
        "</div>"
       ],
       "metadata": {},
       "output_type": "pyout",
       "prompt_number": 85,
       "text": [
        "                       From                        To  Spike\n",
        "0  alan.aronowitz@enron.com  alan.aronowitz@enron.com      1\n",
        "1  alan.aronowitz@enron.com     andy.zipper@enron.com      1\n",
        "2  alan.aronowitz@enron.com    brent.hendry@enron.com      7\n",
        "3  alan.aronowitz@enron.com     carol.clair@enron.com      1\n",
        "4  alan.aronowitz@enron.com        dan.hyvl@enron.com      1"
       ]
      }
     ],
     "prompt_number": 85
    },
    {
     "cell_type": "code",
     "collapsed": false,
     "input": [
      "net_similarity = {}\n",
      "for node1 in key_actors_index:\n",
      "    node1_sent = dyads[dyads.From == node1]\n",
      "    node1_received = dyads[dyads.To == node1]\n",
      "    \n",
      "    for node2 in key_actors_index:\n",
      "        if node1 == node2: continue\n",
      "        dist = 0\n",
      "        node2_sent = dyads[dyads.From == node2]\n",
      "        node2_received = dyads[dyads.To == node2]\n",
      "        \n",
      "        all_to = set(list(node1_sent.To.unique()) + \n",
      "                     list(node2_sent.To.unique()))\n",
      "        for to in all_to:\n",
      "            if to in node1_sent.To.unique():\n",
      "                a = node1_sent[node1_sent.To == to][\"Spike\"].values[0]\n",
      "            else:\n",
      "                a = 0\n",
      "            if to in node2_sent.To.unique():\n",
      "                b = node2_sent[node2_sent.To == to][\"Spike\"].values[0]\n",
      "            else:\n",
      "                b = 0\n",
      "            dist += (a - b)**2\n",
      "        all_from = set(list(node1_sent.From.unique()) + \n",
      "                     list(node2_sent.From.unique()))\n",
      "        for frm in all_from:\n",
      "            if frm in node1_sent.From.unique():\n",
      "                a = node1_sent[node1_sent.From == frm][\"Spike\"].values[0]\n",
      "            else:\n",
      "                a = 0\n",
      "            if frm in node2_sent.From.unique():\n",
      "                b = node2_sent[node2_sent.From == frm][\"Spike\"].values[0]\n",
      "            else:\n",
      "                b = 0\n",
      "            dist += (a - b)**2\n",
      "        dist = np.sqrt(dist)\n",
      "        net_similarity[(node1, node2)] = dist"
     ],
     "language": "python",
     "metadata": {},
     "outputs": [],
     "prompt_number": 86
    },
    {
     "cell_type": "code",
     "collapsed": false,
     "input": [
      "distances = pandas.Series(net_similarity)"
     ],
     "language": "python",
     "metadata": {},
     "outputs": [],
     "prompt_number": 87
    },
    {
     "cell_type": "code",
     "collapsed": false,
     "input": [
      "distances.corr(correls)"
     ],
     "language": "python",
     "metadata": {},
     "outputs": [
      {
       "metadata": {},
       "output_type": "pyout",
       "prompt_number": 88,
       "text": [
        "0.010942403601988769"
       ]
      }
     ],
     "prompt_number": 88
    },
    {
     "cell_type": "code",
     "collapsed": false,
     "input": [
      "df = pandas.DataFrame({\"PatternSim\": correls, \"NetworkSim\": distances})"
     ],
     "language": "python",
     "metadata": {},
     "outputs": [],
     "prompt_number": 89
    },
    {
     "cell_type": "code",
     "collapsed": false,
     "input": [
      "df.head()"
     ],
     "language": "python",
     "metadata": {},
     "outputs": [
      {
       "output_type": "stream",
       "stream": "stderr",
       "text": [
        "/Library/Python/2.7/site-packages/pandas/core/config.py:570: DeprecationWarning: height has been deprecated.\n",
        "\n",
        "  warnings.warn(d.msg, DeprecationWarning)\n",
        "/Library/Python/2.7/site-packages/pandas/core/config.py:570: DeprecationWarning: height has been deprecated.\n",
        "\n",
        "  warnings.warn(d.msg, DeprecationWarning)\n"
       ]
      },
      {
       "html": [
        "<div style=\"max-height:1000px;max-width:1500px;overflow:auto;\">\n",
        "<table border=\"1\" class=\"dataframe\">\n",
        "  <thead>\n",
        "    <tr style=\"text-align: right;\">\n",
        "      <th></th>\n",
        "      <th>NetworkSim</th>\n",
        "      <th>PatternSim</th>\n",
        "    </tr>\n",
        "  </thead>\n",
        "  <tbody>\n",
        "    <tr>\n",
        "      <th>(alan.aronowitz@enron.com, alan.comnes@enron.com)</th>\n",
        "      <td> 268.497672</td>\n",
        "      <td>-0.055408</td>\n",
        "    </tr>\n",
        "    <tr>\n",
        "      <th>(alan.aronowitz@enron.com, andy.zipper@enron.com)</th>\n",
        "      <td>  73.443856</td>\n",
        "      <td>-0.071721</td>\n",
        "    </tr>\n",
        "    <tr>\n",
        "      <th>(alan.aronowitz@enron.com, audrey.robertson@enron.com)</th>\n",
        "      <td> 232.004310</td>\n",
        "      <td>-0.131898</td>\n",
        "    </tr>\n",
        "    <tr>\n",
        "      <th>(alan.aronowitz@enron.com, barry.tycholiz@enron.com)</th>\n",
        "      <td>  86.677563</td>\n",
        "      <td> 0.172684</td>\n",
        "    </tr>\n",
        "    <tr>\n",
        "      <th>(alan.aronowitz@enron.com, ben.jacoby@enron.com)</th>\n",
        "      <td> 116.940156</td>\n",
        "      <td>-0.179037</td>\n",
        "    </tr>\n",
        "  </tbody>\n",
        "</table>\n",
        "</div>"
       ],
       "metadata": {},
       "output_type": "pyout",
       "prompt_number": 90,
       "text": [
        "                                                        NetworkSim  PatternSim\n",
        "(alan.aronowitz@enron.com, alan.comnes@enron.com)       268.497672   -0.055408\n",
        "(alan.aronowitz@enron.com, andy.zipper@enron.com)        73.443856   -0.071721\n",
        "(alan.aronowitz@enron.com, audrey.robertson@enron.com)  232.004310   -0.131898\n",
        "(alan.aronowitz@enron.com, barry.tycholiz@enron.com)     86.677563    0.172684\n",
        "(alan.aronowitz@enron.com, ben.jacoby@enron.com)        116.940156   -0.179037"
       ]
      }
     ],
     "prompt_number": 90
    },
    {
     "cell_type": "code",
     "collapsed": false,
     "input": [
      "plt.scatter(df.NetworkSim, df.PatternSim)"
     ],
     "language": "python",
     "metadata": {},
     "outputs": [
      {
       "metadata": {},
       "output_type": "pyout",
       "prompt_number": 91,
       "text": [
        "<matplotlib.collections.PathCollection at 0x10e306250>"
       ]
      },
      {
       "metadata": {},
       "output_type": "display_data",
       "png": "[encoded data removed]",
       "text": [
        "<matplotlib.figure.Figure at 0x10d7b1490>"
       ]
      }
     ],
     "prompt_number": 91
    },
    {
     "cell_type": "markdown",
     "metadata": {},
     "source": [
      "## Incorporating Key Actor Roles"
     ]
    },
    {
     "cell_type": "code",
     "collapsed": false,
     "input": [
      "key_actor_roles = pandas.read_csv(\"keyactors2.csv\", names=[\"Email\", \"Role\"])"
     ],
     "language": "python",
     "metadata": {},
     "outputs": [],
     "prompt_number": 94
    },
    {
     "cell_type": "code",
     "collapsed": false,
     "input": [
      "key_actor_roles.set_index(\"Email\", inplace=True)\n",
      "key_actor_roles = key_actor_roles.Role"
     ],
     "language": "python",
     "metadata": {},
     "outputs": [
      {
       "output_type": "stream",
       "stream": "stderr",
       "text": [
        "/Library/Python/2.7/site-packages/pandas/core/config.py:570: DeprecationWarning: height has been deprecated.\n",
        "\n",
        "  warnings.warn(d.msg, DeprecationWarning)\n"
       ]
      }
     ],
     "prompt_number": 98
    },
    {
     "cell_type": "code",
     "collapsed": false,
     "input": [
      "key_actor_roles.head()"
     ],
     "language": "python",
     "metadata": {},
     "outputs": [
      {
       "metadata": {},
       "output_type": "pyout",
       "prompt_number": 101,
       "text": [
        "Email\n",
        "alan.aronowitz@enron.com                #N/A\n",
        "alan.comnes@enron.com                   #N/A\n",
        "andy.zipper@enron.com         Vice President\n",
        "audrey.robertson@enron.com              #N/A\n",
        "barry.tycholiz@enron.com      Vice President\n",
        "Name: Role, dtype: object"
       ]
      }
     ],
     "prompt_number": 101
    },
    {
     "cell_type": "code",
     "collapsed": false,
     "input": [
      "for node in G.nodes():\n",
      "    G.node[node][\"Role\"] =  key_actor_roles[node]"
     ],
     "language": "python",
     "metadata": {},
     "outputs": [],
     "prompt_number": 113
    },
    {
     "cell_type": "code",
     "collapsed": false,
     "input": [
      "nx.write_gml(G, \"KeyActorCorrelations.gml\")"
     ],
     "language": "python",
     "metadata": {},
     "outputs": [],
     "prompt_number": 115
    },
    {
     "cell_type": "code",
     "collapsed": false,
     "input": [],
     "language": "python",
     "metadata": {},
     "outputs": []
    }
   ],
   "metadata": {}
  }
 ]
}