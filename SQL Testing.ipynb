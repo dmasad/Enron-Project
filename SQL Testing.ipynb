{
 "metadata": {
  "name": ""
 },
 "nbformat": 3,
 "nbformat_minor": 0,
 "worksheets": [
  {
   "cells": [
    {
     "cell_type": "code",
     "collapsed": false,
     "input": [
      "import pandas\n",
      "import sqlite3"
     ],
     "language": "python",
     "metadata": {},
     "outputs": [],
     "prompt_number": 1
    },
    {
     "cell_type": "code",
     "collapsed": false,
     "input": [
      "all_emails = pandas.read_csv(\"AllEmails.csv\", parse_dates=[1])"
     ],
     "language": "python",
     "metadata": {},
     "outputs": [],
     "prompt_number": 2
    },
    {
     "cell_type": "markdown",
     "metadata": {},
     "source": [
      "## Write to SQL"
     ]
    },
    {
     "cell_type": "code",
     "collapsed": false,
     "input": [
      "con = sqlite3.connect(\"AllEmails.sqlite\")\n",
      "con.text_factory = str"
     ],
     "language": "python",
     "metadata": {},
     "outputs": [],
     "prompt_number": 4
    },
    {
     "cell_type": "code",
     "collapsed": false,
     "input": [
      "pandas.io.sql.write_frame(all_emails, \"AllEmails\", con)"
     ],
     "language": "python",
     "metadata": {},
     "outputs": [],
     "prompt_number": 6
    },
    {
     "cell_type": "code",
     "collapsed": false,
     "input": [
      "con.close()"
     ],
     "language": "python",
     "metadata": {},
     "outputs": [],
     "prompt_number": 7
    },
    {
     "cell_type": "markdown",
     "metadata": {},
     "source": [
      "## Read from SQL"
     ]
    },
    {
     "cell_type": "code",
     "collapsed": false,
     "input": [
      "con = sqlite3.connect(\"AllEmails.sqlite\")\n",
      "con.text_factory = str"
     ],
     "language": "python",
     "metadata": {},
     "outputs": [],
     "prompt_number": 31
    },
    {
     "cell_type": "code",
     "collapsed": false,
     "input": [
      "pandas.io.sql.read_sql?"
     ],
     "language": "python",
     "metadata": {},
     "outputs": [],
     "prompt_number": 22
    },
    {
     "cell_type": "code",
     "collapsed": false,
     "input": [
      "data = pandas.io.sql.read_frame(\"SELECT * FROM AllEmails\", con=con)"
     ],
     "language": "python",
     "metadata": {},
     "outputs": [],
     "prompt_number": 32
    },
    {
     "cell_type": "code",
     "collapsed": false,
     "input": [
      "data.head()"
     ],
     "language": "python",
     "metadata": {},
     "outputs": [
      {
       "html": [
        "<div style=\"max-height:1000px;max-width:1500px;overflow:auto;\">\n",
        "<table border=\"1\" class=\"dataframe\">\n",
        "  <thead>\n",
        "    <tr style=\"text-align: right;\">\n",
        "      <th></th>\n",
        "      <th>MessageID</th>\n",
        "      <th>Date</th>\n",
        "      <th>From</th>\n",
        "      <th>To</th>\n",
        "    </tr>\n",
        "  </thead>\n",
        "  <tbody>\n",
        "    <tr>\n",
        "      <th>0</th>\n",
        "      <td> &lt;18782981.1075855378110.JavaMail.evans@thyme&gt;</td>\n",
        "      <td> 2001-05-14 23:39:00</td>\n",
        "      <td> phillip.allen@enron.com</td>\n",
        "      <td>    tim.belden@enron.com</td>\n",
        "    </tr>\n",
        "    <tr>\n",
        "      <th>1</th>\n",
        "      <td> &lt;15464986.1075855378456.JavaMail.evans@thyme&gt;</td>\n",
        "      <td> 2001-05-04 20:51:00</td>\n",
        "      <td> phillip.allen@enron.com</td>\n",
        "      <td> john.lavorato@enron.com</td>\n",
        "    </tr>\n",
        "    <tr>\n",
        "      <th>2</th>\n",
        "      <td> &lt;24216240.1075855687451.JavaMail.evans@thyme&gt;</td>\n",
        "      <td> 2000-10-18 10:00:00</td>\n",
        "      <td> phillip.allen@enron.com</td>\n",
        "      <td>  leah.arsdall@enron.com</td>\n",
        "    </tr>\n",
        "    <tr>\n",
        "      <th>3</th>\n",
        "      <td> &lt;13505866.1075863688222.JavaMail.evans@thyme&gt;</td>\n",
        "      <td> 2000-10-23 13:13:00</td>\n",
        "      <td> phillip.allen@enron.com</td>\n",
        "      <td>   randall.gay@enron.com</td>\n",
        "    </tr>\n",
        "    <tr>\n",
        "      <th>4</th>\n",
        "      <td> &lt;30922949.1075863688243.JavaMail.evans@thyme&gt;</td>\n",
        "      <td> 2000-08-31 12:07:00</td>\n",
        "      <td> phillip.allen@enron.com</td>\n",
        "      <td>    greg.piper@enron.com</td>\n",
        "    </tr>\n",
        "  </tbody>\n",
        "</table>\n",
        "</div>"
       ],
       "metadata": {},
       "output_type": "pyout",
       "prompt_number": 33,
       "text": [
        "                                       MessageID                 Date  \\\n",
        "0  <18782981.1075855378110.JavaMail.evans@thyme>  2001-05-14 23:39:00   \n",
        "1  <15464986.1075855378456.JavaMail.evans@thyme>  2001-05-04 20:51:00   \n",
        "2  <24216240.1075855687451.JavaMail.evans@thyme>  2000-10-18 10:00:00   \n",
        "3  <13505866.1075863688222.JavaMail.evans@thyme>  2000-10-23 13:13:00   \n",
        "4  <30922949.1075863688243.JavaMail.evans@thyme>  2000-08-31 12:07:00   \n",
        "\n",
        "                      From                       To  \n",
        "0  phillip.allen@enron.com     tim.belden@enron.com  \n",
        "1  phillip.allen@enron.com  john.lavorato@enron.com  \n",
        "2  phillip.allen@enron.com   leah.arsdall@enron.com  \n",
        "3  phillip.allen@enron.com    randall.gay@enron.com  \n",
        "4  phillip.allen@enron.com     greg.piper@enron.com  "
       ]
      }
     ],
     "prompt_number": 33
    },
    {
     "cell_type": "code",
     "collapsed": false,
     "input": [
      "data.dtypes"
     ],
     "language": "python",
     "metadata": {},
     "outputs": [
      {
       "metadata": {},
       "output_type": "pyout",
       "prompt_number": 34,
       "text": [
        "MessageID    object\n",
        "Date         object\n",
        "From         object\n",
        "To           object\n",
        "dtype: object"
       ]
      }
     ],
     "prompt_number": 34
    },
    {
     "cell_type": "code",
     "collapsed": false,
     "input": [
      "data.Date = data.Date.apply(pandas.lib.Timestamp)"
     ],
     "language": "python",
     "metadata": {},
     "outputs": [],
     "prompt_number": 35
    },
    {
     "cell_type": "code",
     "collapsed": false,
     "input": [],
     "language": "python",
     "metadata": {},
     "outputs": []
    }
   ],
   "metadata": {}
  }
 ]
}