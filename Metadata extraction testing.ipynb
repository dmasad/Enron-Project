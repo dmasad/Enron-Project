{
 "metadata": {
  "name": ""
 },
 "nbformat": 3,
 "nbformat_minor": 0,
 "worksheets": [
  {
   "cells": [
    {
     "cell_type": "code",
     "collapsed": false,
     "input": [
      "import os\n",
      "import random\n",
      "import re"
     ],
     "language": "python",
     "metadata": {},
     "outputs": [],
     "prompt_number": 131
    },
    {
     "cell_type": "code",
     "collapsed": false,
     "input": [
      "BASE = \"/Users/dmasad/Data/EnronCorpus/maildir/\""
     ],
     "language": "python",
     "metadata": {},
     "outputs": [],
     "prompt_number": 132
    },
    {
     "cell_type": "code",
     "collapsed": false,
     "input": [
      "def get_all_emails(path):\n",
      "    '''\n",
      "    Recursively find all files below the given path.\n",
      "    \n",
      "    Iterate over all objects in path. Open all sub-directories and call self, and\n",
      "    return a list of all non-directory file paths.\n",
      "    '''\n",
      "    paths = []\n",
      "    subdirs = [] \n",
      "    for name in os.listdir(path):\n",
      "        name = os.path.join(path, name)\n",
      "        if os.path.isdir(name):\n",
      "            subdirs.append(name)\n",
      "        else:\n",
      "            paths.append(name)\n",
      "            \n",
      "    for subdir in subdirs:\n",
      "        paths += get_all_emails(subdir)\n",
      "    return paths"
     ],
     "language": "python",
     "metadata": {},
     "outputs": [],
     "prompt_number": 133
    },
    {
     "cell_type": "code",
     "collapsed": false,
     "input": [
      "all_emails = get_all_emails(BASE)"
     ],
     "language": "python",
     "metadata": {},
     "outputs": [],
     "prompt_number": 134
    },
    {
     "cell_type": "code",
     "collapsed": false,
     "input": [
      "len(all_emails)"
     ],
     "language": "python",
     "metadata": {},
     "outputs": []
    },
    {
     "cell_type": "markdown",
     "metadata": {},
     "source": [
      "## Test regexes on randomly-selected emails."
     ]
    },
    {
     "cell_type": "code",
     "collapsed": false,
     "input": [
      "from_re = re.compile(r'From: ([^\\r]+)')\n",
      "to_re = re.compile(r'To: ([^\\r]+)')"
     ],
     "language": "python",
     "metadata": {},
     "outputs": [],
     "prompt_number": 22
    },
    {
     "cell_type": "code",
     "collapsed": false,
     "input": [
      "random_path = random.choice(all_emails)\n",
      "text = open(random_path).read()\n",
      "print random_path + \"\\n\\n\"\n",
      "print text"
     ],
     "language": "python",
     "metadata": {},
     "outputs": [
      {
       "output_type": "stream",
       "stream": "stdout",
       "text": [
        "/Users/dmasad/Data/EnronCorpus/maildir/kitchen-l/_americas/restructuring/34.\n",
        "\n",
        "\n",
        "Message-ID: <23922458.1075840905412.JavaMail.evans@thyme>\r\n",
        "Date: Thu, 29 Mar 2001 19:51:00 -0800 (PST)\r\n",
        "From: richard.lydecker@enron.com\r\n",
        "To: louise.kitchen@enron.com, brian.redmond@enron.com, wes.colwell@enron.com\r\n",
        "Subject: Internal Ownership of Enron Americas Assets\r\n",
        "Mime-Version: 1.0\r\n",
        "Content-Type: text/plain; charset=us-ascii\r\n",
        "Content-Transfer-Encoding: 7bit\r\n",
        "X-From: Richard Lydecker <Richard Lydecker/Corp/Enron@ENRON>\r\n",
        "X-To: Louise Kitchen <Louise Kitchen/HOU/ECT@ECT>, Brian Redmond <Brian Redmond/HOU/ECT@ECT>, Wes Colwell <Wes Colwell/HOU/ECT@ECT>\r\n",
        "X-cc: \r\n",
        "X-bcc: \r\n",
        "X-Folder: \\ExMerge - Kitchen, Louise\\'Americas\\Restructuring\r\n",
        "X-Origin: KITCHEN-L\r\n",
        "X-FileName: louise kitchen 2-7-02.pst\r\n",
        "\r\n",
        "I have suggested a slightly edited version of the draft policy.   I think classifying assets qualifying for transfer as \"Problem\" and/or \"Orphan\" may clarify the criteria.  Also, I am assuming that the intent is to except Energy Capital Resources assets from the policy and have so indicated.  On the other hand, as written, the policy would apply to Principal Investing assets.\n",
        "\n",
        " \n"
       ]
      }
     ],
     "prompt_number": 47
    },
    {
     "cell_type": "code",
     "collapsed": false,
     "input": [
      "print from_re.findall(text)"
     ],
     "language": "python",
     "metadata": {},
     "outputs": [
      {
       "output_type": "stream",
       "stream": "stdout",
       "text": [
        "['judy.hernandez@enron.com', 'Judy Hernandez', ' Maria Sandoval                           05/08/2000 04:17 PM\\n\\t\\n\\nTo: Andrea R Guillen/HOU/ECT@ECT, Phenicia Olivier/HOU/ECT@ECT, Bernice \\nRodriguez/HOU/ECT@ECT, Melissa Rodriguez/HOU/ECT@ECT, Cassandra S \\nDutton/HOU/ECT@ECT, Lorraine Becker/HOU/ECT@ECT, Angela Henn/HOU/ECT@ECT, \\nMelba Lozano/HOU/ECT@ECT, Chantelle Villanueva/HOU/ECT@ECT, \\npatty.soria@halliburton.com, elizabeth.gutierrez@eott.com, Judy \\nHernandez/HOU/ECT@ECT, Elizabeth Soto/HOU/ECT@ECT, amolina@unifirst.com, \\napena26@hotmail.com, Pamela Sonnier/HOU/ECT@ECT, Brenda \\nBarreda/ENRON_DEVELOPMENT@ENRON_DEVELOPMENT, Yolanda Pena/Corp/Enron@Enron\\ncc:  \\nSubject: Fwd: Tidbits\\n\\n\\n---------------------- Forwarded by Maria Sandoval/HOU/ECT on 05/08/2000 \\n04:17 PM ---------------------------\\n\\n\\nCassandra S Dutton\\n05/08/2000 02:38 PM\\nTo: Maria Sandoval/HOU/ECT@ECT, Kathleen Speer/HOU/ECT@ECT, Cynthia \\nShoup/HOU/ECT@ECT, Lisa Shoemake/HOU/ECT@ECT, Lorraine Becker/HOU/ECT@ECT, \\nLisa Berg Carver/HOU/ECT@ECT, Andrea R Guillen/HOU/ECT@ECT, Willie \\nHarrell/HOU/ECT@ECT, Gerri Gosnell/HOU/ECT@ECT, Regina Perkins/HOU/ECT@ECT, \\nLinda Adels/HR/Corp/Enron@ENRON, Pamela Sonnier/HOU/ECT@ECT, Georgia \\nFogo/HR/Corp/Enron@ENRON, Felicia Doan/HOU/ECT@ECT, Chaun Roberts/Enron \\nCommunications@Enron Communications, Dana Davis/HOU/ECT@ECT, Elizabeth \\nSoto/HOU/ECT@ECT, iharrison@tmh.tmc.edu, vevans@tmh.tmc.edu, twest@tmh.tmc.edu\\ncc:  \\nSubject: Fwd: Tidbits\\n\\n\\n---------------------- Forwarded by Cassandra S Dutton/HOU/ECT on 05/08/2000 \\n02:38 PM ---------------------------\\n\\n\\n\\tLisa Berg Carver\\n\\t05/08/2000 11:41 AM\\n\\t\\nTo: lberg@fempartners.com, John.Carver@AGNA.Zeneca.com, Christy \\nSweeney/HOU/ECT@ECT, Rebecca Cowart/HOU/ECT@ECT, Becky Caudle/HOU/ECT@ECT, \\nGerri Gosnell/HOU/ECT@ECT, Cassandra S Dutton/HOU/ECT@ECT, Willie \\nHarrell/HOU/ECT@ECT, Ana Correa/HOU/ECT@ECT\\ncc:  \\nSubject: Fwd: Tidbits\\n\\nThis is really great, it was through my mother\\'s death that I was blessed \\nwith meeting Tim. The Lord is faithful and so good to us !!\\n\\n\\nMOM\\'S LAST LAUGH.....\\n\\nConsumed by my loss, I didn\\'t notice the hardness of the\\npew where I sat.  I was at the funeral of my dearest friend - my mother.\\n\\nShe finally had lost her long battle with cancer. The hurt\\nwas so intense, I found it hard to breathe at times.\\n\\nAlways supportive, Mother clapped loudest at my school\\nplays, held a box of tissues while listening to my first heartbreak, \\ncomforted me at my father\\'s death, encouraged me in college,\\nand prayed for me my entire life.\\n\\nWhen Mother\\'s illness was diagnosed, my sister had a new\\nbaby and my brother had recently married his childhood sweetheart, so it fell \\non me, the 27-year-old middle child without entanglements, to take care of \\nher. I counted it an honor.\\n\\n\"What now, Lord?\" I asked sitting in church. My life\\nstretched out before me as an empty abyss. My brother sat stoically with his \\nface toward the cross while clutching his wife\\'s hand. My sister sat slumped \\nagainst her husband\\'s shoulder,\\nhis arms around her as she cradled their child.\\n\\nAll so deeply grieving, no one noticed I sat alone.\\n\\nMy place had been with our mother, preparing her meals,\\nhelping her walk, taking her to the doctor, seeing to her medication, reading \\nthe Bible together. Now she was with the Lord.\\n\\nMy work was finished, and I was alone.\\n\\nI heard a door open and slam shut at the back of the\\nchurch. Quick footsteps hurried along the carpeted floor. An exasperated \\nyoung man looked around briefly and then sat\\nnext to me. He folded his hands and placed them on his\\nlap. His eyes were brimming with tears. He began to sniffle.\\n\\n\"I\\'m late,\" he explained, though no explanation was\\nnecessary.  After several eulogies, he leaned over and commented, \"Why do \\nthey keep calling Mary by the name of \\'Margaret\\'?\\n\\n\"0h\" \"Because that was her name, Margaret. Never Mary. No\\none called her \\'Mary,\\'\" I whispered. I wondered why this person couldn\\'t have \\nsat on the other side of the church. He interrupted my grieving with his \\ntears and fidgeting.\\n\\nWho was this stranger anyway?\\n\\n\"No, that isn\\'t correct,\" he insisted, as several people\\nglanced over at us whispering, \"Her name is Mary, Mary Peters.\"\\n\\n\"That isn\\'t who this is.\"\\n\\n\"Isn\\'t this the Lutheran church?\"\\n\\n\"No, the Lutheran church is across the street.\"   \"Oh.\"\\n\\n\"I believe you\\'re at the wrong funeral, Sir.\"\\n\\nThe solemnness of the occasion mixed with the realization\\nof the man\\'s mistake bubbled up inside me and came out as laughter. I cupped \\nmy hands over my face, hoping it would be interpreted as sobs.  The creaking \\npew gave me away. Sharp looks from other mourners only made the situation \\nseem more hilarious. I peeked at the bewildered, misguided man seated beside \\nme. He was laughing, too, as he glanced around,\\ndeciding it was too late for an uneventful exit.  I imagined\\nMother laughing.\\n\\nAt the final \"Amen,\" we darted out a door and into the\\nparking lot. \"I do believe we\\'ll be the talk of the town,\" he smiled. He said \\nhis name was Rick and since he had missed his aunt\\'s funeral, asked me out \\nfor a cup of coffee.\\n\\nThat afternoon began a lifelong journey for me with this\\nman who attended the wrong funeral, but was in the right place.\\n\\nA year after our meeting, we were married at a country church where he was \\nthe assistant pastor. This time we both arrived at the same church, right on \\ntime.\\n\\nIn my time of sorrow, God gave me laughter. In place of\\nloneliness, God gave me love. This past June we celebrated\\nour twenty-second wedding anniversary.\\n\\nWhenever anyone asks us how we met, Rick tells them, \"Her\\nmother and my Aunt Mary introduced us, and it\\'s truly a match made in heaven.\"\\n\\n                       ------------------------\\n\\nJesus said, \"if you are ashamed of me,\" I will be ashamed\\nof you before my  Father.\"\\n\\nNot ashamed Pass this on . . . only if you mean it.\\n\\nYes, I do Love God.\\n\\n He is my source of existence and Savior. He keeps me\\nfunctioning each and everyday. Without Him, I would be nothing. Without him, \\nI am nothing, but with Him I can do all things, through Christ that \\nstrengthens me.  Phil 4:13\\n\\nIf you Love God, and are not ashamed of all the marvelous\\nthings he has done for you. Send this to ten people and the person who sent \\nit to you!\\n \\n\\n\\n\\n\\n\\n\\n']\n"
       ]
      }
     ],
     "prompt_number": 42
    },
    {
     "cell_type": "code",
     "collapsed": false,
     "input": [
      "to_re.findall(text)"
     ],
     "language": "python",
     "metadata": {},
     "outputs": [
      {
       "metadata": {},
       "output_type": "pyout",
       "prompt_number": 43,
       "text": [
        "['leslie.smith@enron.com, regina.blackshear@enron.com, eve.puckett@enron.com, ',\n",
        " 'Leslie Smith, Regina Blackshear, Eve Puckett, Sandra R McNichols, Judy Walters, Lisa Shoemake, Suhernan@llgm.com, Dora_thurmond@uniteddc.com, Sandy_hernandez@uniteddc.com, Amber Ebow, Rose Botello, Maria Sandoval',\n",
        " 'Andrea R Guillen/HOU/ECT@ECT, Phenicia Olivier/HOU/ECT@ECT, Bernice \\nRodriguez/HOU/ECT@ECT, Melissa Rodriguez/HOU/ECT@ECT, Cassandra S \\nDutton/HOU/ECT@ECT, Lorraine Becker/HOU/ECT@ECT, Angela Henn/HOU/ECT@ECT, \\nMelba Lozano/HOU/ECT@ECT, Chantelle Villanueva/HOU/ECT@ECT, \\npatty.soria@halliburton.com, elizabeth.gutierrez@eott.com, Judy \\nHernandez/HOU/ECT@ECT, Elizabeth Soto/HOU/ECT@ECT, amolina@unifirst.com, \\napena26@hotmail.com, Pamela Sonnier/HOU/ECT@ECT, Brenda \\nBarreda/ENRON_DEVELOPMENT@ENRON_DEVELOPMENT, Yolanda Pena/Corp/Enron@Enron\\ncc:  \\nSubject: Fwd: Tidbits\\n\\n\\n---------------------- Forwarded by Maria Sandoval/HOU/ECT on 05/08/2000 \\n04:17 PM ---------------------------\\n\\n\\nCassandra S Dutton\\n05/08/2000 02:38 PM\\nTo: Maria Sandoval/HOU/ECT@ECT, Kathleen Speer/HOU/ECT@ECT, Cynthia \\nShoup/HOU/ECT@ECT, Lisa Shoemake/HOU/ECT@ECT, Lorraine Becker/HOU/ECT@ECT, \\nLisa Berg Carver/HOU/ECT@ECT, Andrea R Guillen/HOU/ECT@ECT, Willie \\nHarrell/HOU/ECT@ECT, Gerri Gosnell/HOU/ECT@ECT, Regina Perkins/HOU/ECT@ECT, \\nLinda Adels/HR/Corp/Enron@ENRON, Pamela Sonnier/HOU/ECT@ECT, Georgia \\nFogo/HR/Corp/Enron@ENRON, Felicia Doan/HOU/ECT@ECT, Chaun Roberts/Enron \\nCommunications@Enron Communications, Dana Davis/HOU/ECT@ECT, Elizabeth \\nSoto/HOU/ECT@ECT, iharrison@tmh.tmc.edu, vevans@tmh.tmc.edu, twest@tmh.tmc.edu\\ncc:  \\nSubject: Fwd: Tidbits\\n\\n\\n---------------------- Forwarded by Cassandra S Dutton/HOU/ECT on 05/08/2000 \\n02:38 PM ---------------------------\\n\\n\\n\\tLisa Berg Carver\\n\\t05/08/2000 11:41 AM\\n\\t\\nTo: lberg@fempartners.com, John.Carver@AGNA.Zeneca.com, Christy \\nSweeney/HOU/ECT@ECT, Rebecca Cowart/HOU/ECT@ECT, Becky Caudle/HOU/ECT@ECT, \\nGerri Gosnell/HOU/ECT@ECT, Cassandra S Dutton/HOU/ECT@ECT, Willie \\nHarrell/HOU/ECT@ECT, Ana Correa/HOU/ECT@ECT\\ncc:  \\nSubject: Fwd: Tidbits\\n\\nThis is really great, it was through my mother\\'s death that I was blessed \\nwith meeting Tim. The Lord is faithful and so good to us !!\\n\\n\\nMOM\\'S LAST LAUGH.....\\n\\nConsumed by my loss, I didn\\'t notice the hardness of the\\npew where I sat.  I was at the funeral of my dearest friend - my mother.\\n\\nShe finally had lost her long battle with cancer. The hurt\\nwas so intense, I found it hard to breathe at times.\\n\\nAlways supportive, Mother clapped loudest at my school\\nplays, held a box of tissues while listening to my first heartbreak, \\ncomforted me at my father\\'s death, encouraged me in college,\\nand prayed for me my entire life.\\n\\nWhen Mother\\'s illness was diagnosed, my sister had a new\\nbaby and my brother had recently married his childhood sweetheart, so it fell \\non me, the 27-year-old middle child without entanglements, to take care of \\nher. I counted it an honor.\\n\\n\"What now, Lord?\" I asked sitting in church. My life\\nstretched out before me as an empty abyss. My brother sat stoically with his \\nface toward the cross while clutching his wife\\'s hand. My sister sat slumped \\nagainst her husband\\'s shoulder,\\nhis arms around her as she cradled their child.\\n\\nAll so deeply grieving, no one noticed I sat alone.\\n\\nMy place had been with our mother, preparing her meals,\\nhelping her walk, taking her to the doctor, seeing to her medication, reading \\nthe Bible together. Now she was with the Lord.\\n\\nMy work was finished, and I was alone.\\n\\nI heard a door open and slam shut at the back of the\\nchurch. Quick footsteps hurried along the carpeted floor. An exasperated \\nyoung man looked around briefly and then sat\\nnext to me. He folded his hands and placed them on his\\nlap. His eyes were brimming with tears. He began to sniffle.\\n\\n\"I\\'m late,\" he explained, though no explanation was\\nnecessary.  After several eulogies, he leaned over and commented, \"Why do \\nthey keep calling Mary by the name of \\'Margaret\\'?\\n\\n\"0h\" \"Because that was her name, Margaret. Never Mary. No\\none called her \\'Mary,\\'\" I whispered. I wondered why this person couldn\\'t have \\nsat on the other side of the church. He interrupted my grieving with his \\ntears and fidgeting.\\n\\nWho was this stranger anyway?\\n\\n\"No, that isn\\'t correct,\" he insisted, as several people\\nglanced over at us whispering, \"Her name is Mary, Mary Peters.\"\\n\\n\"That isn\\'t who this is.\"\\n\\n\"Isn\\'t this the Lutheran church?\"\\n\\n\"No, the Lutheran church is across the street.\"   \"Oh.\"\\n\\n\"I believe you\\'re at the wrong funeral, Sir.\"\\n\\nThe solemnness of the occasion mixed with the realization\\nof the man\\'s mistake bubbled up inside me and came out as laughter. I cupped \\nmy hands over my face, hoping it would be interpreted as sobs.  The creaking \\npew gave me away. Sharp looks from other mourners only made the situation \\nseem more hilarious. I peeked at the bewildered, misguided man seated beside \\nme. He was laughing, too, as he glanced around,\\ndeciding it was too late for an uneventful exit.  I imagined\\nMother laughing.\\n\\nAt the final \"Amen,\" we darted out a door and into the\\nparking lot. \"I do believe we\\'ll be the talk of the town,\" he smiled. He said \\nhis name was Rick and since he had missed his aunt\\'s funeral, asked me out \\nfor a cup of coffee.\\n\\nThat afternoon began a lifelong journey for me with this\\nman who attended the wrong funeral, but was in the right place.\\n\\nA year after our meeting, we were married at a country church where he was \\nthe assistant pastor. This time we both arrived at the same church, right on \\ntime.\\n\\nIn my time of sorrow, God gave me laughter. In place of\\nloneliness, God gave me love. This past June we celebrated\\nour twenty-second wedding anniversary.\\n\\nWhenever anyone asks us how we met, Rick tells them, \"Her\\nmother and my Aunt Mary introduced us, and it\\'s truly a match made in heaven.\"\\n\\n                       ------------------------\\n\\nJesus said, \"if you are ashamed of me,\" I will be ashamed\\nof you before my  Father.\"\\n\\nNot ashamed Pass this on . . . only if you mean it.\\n\\nYes, I do Love God.\\n\\n He is my source of existence and Savior. He keeps me\\nfunctioning each and everyday. Without Him, I would be nothing. Without him, \\nI am nothing, but with Him I can do all things, through Christ that \\nstrengthens me.  Phil 4:13\\n\\nIf you Love God, and are not ashamed of all the marvelous\\nthings he has done for you. Send this to ten people and the person who sent \\nit to you!\\n \\n\\n\\n\\n\\n\\n\\n']"
       ]
      }
     ],
     "prompt_number": 43
    },
    {
     "cell_type": "code",
     "collapsed": false,
     "input": [
      "text.split(\"\\n\")[1].split(\":\", 1)"
     ],
     "language": "python",
     "metadata": {},
     "outputs": [
      {
       "metadata": {},
       "output_type": "pyout",
       "prompt_number": 53,
       "text": [
        "['Date', ' Thu, 29 Mar 2001 19:51:00 -0800 (PST)\\r']"
       ]
      }
     ],
     "prompt_number": 53
    },
    {
     "cell_type": "code",
     "collapsed": false,
     "input": [
      "len(\"X-From:\")"
     ],
     "language": "python",
     "metadata": {},
     "outputs": [
      {
       "metadata": {},
       "output_type": "pyout",
       "prompt_number": 110,
       "text": [
        "7"
       ]
      }
     ],
     "prompt_number": 110
    },
    {
     "cell_type": "markdown",
     "metadata": {},
     "source": [
      "## Test Metadata extractor on randomly-selected emails"
     ]
    },
    {
     "cell_type": "code",
     "collapsed": false,
     "input": [
      "def starts_with(line, text):\n",
      "    '''\n",
      "    Check to see whether the line starts with the given text.\n",
      "    '''\n",
      "    n = len(text)\n",
      "    if len(line) >= n and line[:n] == text:\n",
      "        return True\n",
      "    else:\n",
      "        return False"
     ],
     "language": "python",
     "metadata": {},
     "outputs": [],
     "prompt_number": 112
    },
    {
     "cell_type": "code",
     "collapsed": false,
     "input": [
      "def get_header(text):\n",
      "    lines = text.split(\"\\n\")\n",
      "    state = \"START\"\n",
      "    message = {}\n",
      "    for line in lines:\n",
      "        #if line[:5] == \"Date:\":\n",
      "        if starts_with(line, \"Date:\"):\n",
      "            message[\"Date\"] = line.split(\":\", 1)[1] # String to right of date\n",
      "        elif starts_with(line, \"From:\"):\n",
      "            message[\"From\"] = line.split(\":\", 1)[1] \n",
      "        elif starts_with(line, \"To:\"):\n",
      "            state = \"To\"\n",
      "            message[\"To\"] = line.split(\":\", 1)[1]\n",
      "        elif starts_with(line, \"Cc:\"):\n",
      "            state = \"Cc\"\n",
      "            message[\"Cc\"] = line.split(\":\", 1)[1]\n",
      "        elif starts_with(line, \"Bcc:\"):\n",
      "            state = \"Bcc\"\n",
      "            message[\"Bcc\"] = line.split(\":\", 1)[1]\n",
      "        # State terminators:\n",
      "        elif starts_with(line, \"Subject:\"):\n",
      "            state = \"Subject\"\n",
      "        elif starts_with(line, \"X-From:\"):\n",
      "            break\n",
      "        elif starts_with(line, \"Mime-Version:\"):\n",
      "            state=\"Mime-Version\"\n",
      "        # Begin instructions for multi-line field handling:\n",
      "        elif state in [\"To\", \"Cc\", \"Bcc\"]:\n",
      "            message[state] += line\n",
      "    return message"
     ],
     "language": "python",
     "metadata": {},
     "outputs": [],
     "prompt_number": 122
    },
    {
     "cell_type": "code",
     "collapsed": false,
     "input": [
      "#random_path = random.choice(all_emails)\n",
      "random_path = BASE + \"shackleton-s/deleted_items/206.\"\n",
      "text = open(random_path).read()\n",
      "print random_path + \"\\n\\n\"\n",
      "print text"
     ],
     "language": "python",
     "metadata": {},
     "outputs": [
      {
       "output_type": "stream",
       "stream": "stdout",
       "text": [
        "/Users/dmasad/Data/EnronCorpus/maildir/shackleton-s/deleted_items/206.\n",
        "\n",
        "\n",
        "Message-ID: <624018.1075858806654.JavaMail.evans@thyme>\r\n",
        "Date: Wed, 24 Oct 2001 10:39:58 -0700 (PDT)\r\n",
        "From: simon.hemsley@enron.com\r\n",
        "To: tom.doukas@enron.com, sara.shackleton@enron.com\r\n",
        "Subject: RE: Investment companies\r\n",
        "Cc: rachel.drew@enron.com, rajen.shah@enron.com, d.jordan@enron.com, \r\n",
        "\tdavid.wall@enron.com\r\n",
        "Mime-Version: 1.0\r\n",
        "Content-Type: text/plain; charset=ANSI_X3.4-1968\r\n",
        "Content-Transfer-Encoding: 7bit\r\n",
        "Bcc: rachel.drew@enron.com, rajen.shah@enron.com, d.jordan@enron.com, \r\n",
        "\tdavid.wall@enron.com\r\n",
        "X-From: Hemsley, Simon </O=ENRON/OU=NA/CN=RECIPIENTS/CN=EU/CN=RECIPIENTS/CN=SHEMSLEY>\r\n",
        "X-To: Doukas, Tom </O=ENRON/OU=NA/CN=RECIPIENTS/CN=TDOUKAS>, Shackleton, Sara </O=ENRON/OU=NA/CN=RECIPIENTS/CN=SSHACKL>\r\n",
        "X-cc: Drew, Rachel </O=ENRON/OU=NA/CN=RECIPIENTS/CN=EU/CN=RECIPIENTS/CN=RDREW>, Shah, Rajen </O=ENRON/OU=NA/CN=RECIPIENTS/CN=EU/CN=RECIPIENTS/CN=RSHAH>, Jordan, Kevin D </O=ENRON/OU=NA/CN=RECIPIENTS/CN=EU/CN=RECIPIENTS/CN=KJORDAN2>, Wall, David </O=ENRON/OU=NA/CN=RECIPIENTS/CN=EU/CN=RECIPIENTS/CN=DWALL5>\r\n",
        "X-bcc: \r\n",
        "X-Folder: \\SSHACKL (Non-Privileged)\\Shackleton, Sara\\Deleted Items\r\n",
        "X-Origin: Shackleton-S\r\n",
        "X-FileName: SSHACKL (Non-Privileged).pst\r\n",
        "\r\n",
        "Tom - I will try and get a USD accounting entity set up in SAP that rolls up to \n",
        "ECTEF Inc for legal purposes \n",
        "\n",
        "I'm fairly sure we can do this as 54R (ECTRL Global Divisions) is a $ accounting entity of \n",
        "138 (ECTRL), a ? entity\n",
        "\n",
        "Raj - do you have a problem from a tax perspective of having this set up?\n",
        "\n",
        " -----Original Message-----\n",
        "From: \tDoukas, Tom  \n",
        "Sent:\t24 October 2001 18:31\n",
        "To:\tHemsley, Simon; Shackleton, Sara\n",
        "Cc:\tDrew, Rachel; Shah, Rajen; Jordan, Kevin D; Wall, David\n",
        "Subject:\tRE: Investment companies\n",
        "Importance:\tHigh\n",
        "\n",
        "It will mean doing the paperwork all over again and closing the old account assuming ECTEF does not want an account.  This is not a name change but actually a transfer from one entity to another.  It will likely require resolutions to open brokerage accounts for ECTMI if they don't already have them in place.\n",
        "\n",
        "Aside from looking foolish to Bear I anticipate no hassles from them.  As far as our side it would be wise to have legal give their estimation of the effort and time frame needed to duplicate the effort that was made for ECTMI.\n",
        "\n",
        "Sara how feasible would it be to prepare account paperwork for the ECTMI company to obtain a Bear account?\n",
        "\n",
        "Thanks,\n",
        "\n",
        "Tom\n",
        "\n",
        " -----Original Message-----\n",
        "From: \tHemsley, Simon  \n",
        "Sent:\tWednesday, October 24, 2001 12:04 PM\n",
        "To:\tShah, Rajen; Jordan, Kevin D; Doukas, Tom; Wall, David\n",
        "Cc:\tDrew, Rachel\n",
        "Subject:\tFW: Investment companies\n",
        "\n",
        "I will investigate getting an accounting entity set up for ECTMI - does anyone know the number?\n",
        "\n",
        "in the meantime (and don't shout at me Tom) how easy would it be to change the ECTEF\n",
        "broker account to have a new name - see company below\n",
        "\n",
        " -----Original Message-----\n",
        "From: \tWall, David  \n",
        "Sent:\t26 September 2001 15:45\n",
        "To:\tHemsley, Simon\n",
        "Subject:\tFW: Investment companies\n",
        "\n",
        "We must move Anker as a matter of urgency.  Let's discuss.\n",
        "\n",
        "Thanks\n",
        "\n",
        " -----Original Message-----\n",
        "From: \tJordan, Kevin D  \n",
        "Sent:\t26 September 2001 15:42\n",
        "To:\tWall, David; Seyfried, Bryan\n",
        "Cc:\tAiken, Buddy; Allen, Melissa\n",
        "Subject:\tInvestment companies\n",
        "\n",
        "After speaking with David Wall about which entity the Anker debt and equity should be moved to, I placed a few quick phone calls.  I understand that there may be some confusion about what is an investment company, and which ones are available.\n",
        "\n",
        "The ENA transaction support team suggested ECTMI (Enron Capital Trade Merchant Investments) as one possibility.  There may be another US investment company and an investment company set up in the Netherlands.  The people to follow up with would be Faith Killen and/or Elaine Shields who work in ECT accounting.\n",
        "\n",
        "I hope this helps you identify where to move the investments.  Please keep me updated on the completion of that move.  AA will be sensitive to us making that transfer into the investment company in the quarter that we have booked earnings on the investment(s) as merchant investments.  As discussed with David Wall, that is consistent with Enron's corporate policy on merchant investments and with the Investment Company Audit Guide which governs our merchant investment accounting.\n",
        "\n",
        "If you have any further questions or if I can be of further assistance, please contact me at ext. 35882.\n",
        "\n",
        "Regards,\n",
        "\n",
        "Kevin\n"
       ]
      }
     ],
     "prompt_number": 123
    },
    {
     "cell_type": "code",
     "collapsed": false,
     "input": [
      "header = get_header(text)"
     ],
     "language": "python",
     "metadata": {},
     "outputs": [],
     "prompt_number": 125
    },
    {
     "cell_type": "code",
     "collapsed": false,
     "input": [
      "header"
     ],
     "language": "python",
     "metadata": {},
     "outputs": [
      {
       "metadata": {},
       "output_type": "pyout",
       "prompt_number": 130,
       "text": [
        "{'Bcc': ' rachel.drew@enron.com, rajen.shah@enron.com, d.jordan@enron.com, \\r\\tdavid.wall@enron.com\\r',\n",
        " 'Cc': ' rachel.drew@enron.com, rajen.shah@enron.com, d.jordan@enron.com, \\r\\tdavid.wall@enron.com\\r',\n",
        " 'Date': ' Wed, 24 Oct 2001 10:39:58 -0700 (PDT)\\r',\n",
        " 'From': ' simon.hemsley@enron.com\\r',\n",
        " 'To': ' tom.doukas@enron.com, sara.shackleton@enron.com\\r'}"
       ]
      }
     ],
     "prompt_number": 130
    },
    {
     "cell_type": "code",
     "collapsed": false,
     "input": [],
     "language": "python",
     "metadata": {},
     "outputs": []
    }
   ],
   "metadata": {}
  }
 ]
}