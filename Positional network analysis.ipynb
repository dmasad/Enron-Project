{
 "metadata": {
  "name": "",
  "signature": "sha256:cc269f9ad8a4c5deace454328113dc6ffb561e064a2ce1556ee3d1c5cca2fa6f"
 },
 "nbformat": 3,
 "nbformat_minor": 0,
 "worksheets": [
  {
   "cells": [
    {
     "cell_type": "code",
     "collapsed": false,
     "input": [
      "from collections import defaultdict\n",
      "import datetime as dt\n",
      "\n",
      "import numpy as np\n",
      "import matplotlib.pyplot as plt\n",
      "\n",
      "import networkx as nx\n",
      "import pandas\n",
      "\n",
      "from __future__ import division"
     ],
     "language": "python",
     "metadata": {},
     "outputs": [],
     "prompt_number": 1
    },
    {
     "cell_type": "code",
     "collapsed": false,
     "input": [
      "%matplotlib inline"
     ],
     "language": "python",
     "metadata": {},
     "outputs": [],
     "prompt_number": 2
    },
    {
     "cell_type": "markdown",
     "metadata": {},
     "source": [
      "## Load and clean Enron Data"
     ]
    },
    {
     "cell_type": "code",
     "collapsed": false,
     "input": [
      "data = pandas.read_pickle(\"AllEmails.pickle\")"
     ],
     "language": "python",
     "metadata": {},
     "outputs": [],
     "prompt_number": 3
    },
    {
     "cell_type": "code",
     "collapsed": false,
     "input": [
      "data[\"Year\"] = data.Date.apply(lambda x: x.year)\n",
      "data[\"Month\"] = data.Date.apply(lambda x: x.month)\n",
      "data[\"Day\"] = data.Date.apply(lambda x: x.day)\n",
      "\n",
      "# Subset on dates\n",
      "data = data[(data.Year >= 1999) & (data.Year <= 2002)]\n",
      "\n",
      "# Refactor columns\n",
      "data.rename(columns={\"Date\": \"FullDate\"}, inplace=True)\n",
      "data[\"Date\"] = data.FullDate.apply(lambda x: pandas.Timestamp(x.date()))"
     ],
     "language": "python",
     "metadata": {},
     "outputs": [],
     "prompt_number": 4
    },
    {
     "cell_type": "markdown",
     "metadata": {},
     "source": [
      "## Load email-to-position mapping"
     ]
    },
    {
     "cell_type": "code",
     "collapsed": false,
     "input": [
      "positions = pandas.read_csv(\"Enron_Positions.csv\")\n",
      "positions.fillna(\"N/A\", inplace=True)"
     ],
     "language": "python",
     "metadata": {},
     "outputs": [],
     "prompt_number": 5
    },
    {
     "cell_type": "code",
     "collapsed": false,
     "input": [
      "positions = positions.set_index(\"Email\")[\"Position\"]"
     ],
     "language": "python",
     "metadata": {},
     "outputs": [],
     "prompt_number": 6
    },
    {
     "cell_type": "code",
     "collapsed": false,
     "input": [
      "positions.head()"
     ],
     "language": "python",
     "metadata": {},
     "outputs": [
      {
       "metadata": {},
       "output_type": "pyout",
       "prompt_number": 7,
       "text": [
        "Email\n",
        "marie.heard@enron.com           N/A\n",
        "mark.e.taylor@enron.com    Employee\n",
        "lindy.donoho@enron.com     Employee\n",
        "lisa.gang@enron.com             N/A\n",
        "jeff.skilling@enron.com         CEO\n",
        "Name: Position, dtype: object"
       ]
      }
     ],
     "prompt_number": 7
    },
    {
     "cell_type": "markdown",
     "metadata": {},
     "source": [
      "## Some helper functions"
     ]
    },
    {
     "cell_type": "code",
     "collapsed": false,
     "input": [
      "def create_network(df, weight_cutoff=0):\n",
      "    '''\n",
      "    Reshape an Enron DataFrame into a DiGraph\n",
      "    \n",
      "    Args:\n",
      "        data: A pandas DataFrame where each row is a message, \n",
      "                and which has \"To\" and \"From\" columns\n",
      "        weight_cutoff: Only include edges with this number of emails\n",
      "    \n",
      "    Returns:\n",
      "        A NetworkX DiGraph between email addresses, where the weight on \n",
      "            each edge is the number of emails sent across it.\n",
      "    '''\n",
      "    dyad_count = df.groupby([\"From\", \"To\"]).aggregate(len)\n",
      "    dyad_count = dyad_count[\"MessageID\"] # Get only one col; doesn't really matter which\n",
      "    G = nx.DiGraph()\n",
      "    for dyad, count in dyad_count.iteritems():\n",
      "        if count < weight_cutoff: continue\n",
      "        src = dyad[0]\n",
      "        target = dyad[1]\n",
      "        G.add_edge(src, target, weight=int(count))\n",
      "    return G\n",
      "\n",
      "def create_network_subset(df, start_date, end_date, cutoff=5):\n",
      "    '''\n",
      "    Wrapper to create a network between a start date and end date\n",
      "    '''\n",
      "    subset = df[(df.Date >= start_date) & (df.Date < end_date)]\n",
      "    return create_network(subset, cutoff)"
     ],
     "language": "python",
     "metadata": {},
     "outputs": [],
     "prompt_number": 8
    },
    {
     "cell_type": "code",
     "collapsed": false,
     "input": [
      "def get_position(email):\n",
      "    '''\n",
      "    Get an actor's position from the global Positions series.\n",
      "    If absent, return \"N/A\".\n",
      "    '''\n",
      "    if email in positions.index:\n",
      "        return positions[email]\n",
      "    else:\n",
      "        return \"N/A\""
     ],
     "language": "python",
     "metadata": {},
     "outputs": [],
     "prompt_number": 9
    },
    {
     "cell_type": "code",
     "collapsed": false,
     "input": [
      "def count_edge_types(G, normalized=False):\n",
      "    type_counts = defaultdict(int)\n",
      "\n",
      "    for node in G.nodes():\n",
      "        G.node[node][\"position\"] = get_position(node)\n",
      "    for source, target in G.edges():\n",
      "        s_type = G.node[source][\"position\"]\n",
      "        t_type = G.node[target][\"position\"]\n",
      "        edge_type = s_type + \"->\" + t_type\n",
      "        type_counts[edge_type] += 1\n",
      "    \n",
      "    if normalized:\n",
      "        total = len(G.edges())\n",
      "        for t in type_counts:\n",
      "            type_counts[t] /= total\n",
      "    return type_counts"
     ],
     "language": "python",
     "metadata": {},
     "outputs": [],
     "prompt_number": 10
    },
    {
     "cell_type": "markdown",
     "metadata": {},
     "source": [
      "## Position to position counts, total"
     ]
    },
    {
     "cell_type": "code",
     "collapsed": false,
     "input": [
      "full_network = create_network_subset(data, data.Date.min(), data.Date.max(), 0)"
     ],
     "language": "python",
     "metadata": {},
     "outputs": [],
     "prompt_number": 11
    },
    {
     "cell_type": "code",
     "collapsed": false,
     "input": [
      "position_to_position = defaultdict(lambda: defaultdict(int))\n",
      "\n",
      "for edge in full_network.edges_iter(data=True):\n",
      "    source = edge[0]\n",
      "    target = edge[1]\n",
      "    weight = edge[2][\"weight\"]\n",
      "    s_type = get_position(source)\n",
      "    t_type = get_position(target)\n",
      "    position_to_position[s_type][t_type] += weight"
     ],
     "language": "python",
     "metadata": {},
     "outputs": [],
     "prompt_number": 12
    },
    {
     "cell_type": "code",
     "collapsed": false,
     "input": [
      "position_to_position_df = pandas.DataFrame.from_dict(position_to_position, orient='index')"
     ],
     "language": "python",
     "metadata": {},
     "outputs": [],
     "prompt_number": 13
    },
    {
     "cell_type": "code",
     "collapsed": false,
     "input": [
      "position_to_position_df"
     ],
     "language": "python",
     "metadata": {},
     "outputs": [
      {
       "html": [
        "<div style=\"max-height:1000px;max-width:1500px;overflow:auto;\">\n",
        "<table border=\"1\" class=\"dataframe\">\n",
        "  <thead>\n",
        "    <tr style=\"text-align: right;\">\n",
        "      <th></th>\n",
        "      <th>In House Lawyer</th>\n",
        "      <th>CEO</th>\n",
        "      <th>Vice President</th>\n",
        "      <th>N/A</th>\n",
        "      <th>Managing Director</th>\n",
        "      <th>Employee</th>\n",
        "      <th>President</th>\n",
        "      <th>Trader</th>\n",
        "      <th>Director</th>\n",
        "      <th>Manager</th>\n",
        "    </tr>\n",
        "  </thead>\n",
        "  <tbody>\n",
        "    <tr>\n",
        "      <th>CEO</th>\n",
        "      <td>   22</td>\n",
        "      <td>   165</td>\n",
        "      <td>    851</td>\n",
        "      <td>   19530</td>\n",
        "      <td>   204</td>\n",
        "      <td>    263</td>\n",
        "      <td>   315</td>\n",
        "      <td>    72</td>\n",
        "      <td>    49</td>\n",
        "      <td>   335</td>\n",
        "    </tr>\n",
        "    <tr>\n",
        "      <th>Director</th>\n",
        "      <td>  NaN</td>\n",
        "      <td>     7</td>\n",
        "      <td>    408</td>\n",
        "      <td>    9489</td>\n",
        "      <td>     1</td>\n",
        "      <td>    349</td>\n",
        "      <td>    63</td>\n",
        "      <td>    50</td>\n",
        "      <td>   530</td>\n",
        "      <td>   194</td>\n",
        "    </tr>\n",
        "    <tr>\n",
        "      <th>Employee</th>\n",
        "      <td>    9</td>\n",
        "      <td>   398</td>\n",
        "      <td>  13772</td>\n",
        "      <td>  285710</td>\n",
        "      <td>   452</td>\n",
        "      <td>   6614</td>\n",
        "      <td>   734</td>\n",
        "      <td>  1305</td>\n",
        "      <td>  1855</td>\n",
        "      <td>  1114</td>\n",
        "    </tr>\n",
        "    <tr>\n",
        "      <th>In House Lawyer</th>\n",
        "      <td>    1</td>\n",
        "      <td>    16</td>\n",
        "      <td>     43</td>\n",
        "      <td>     975</td>\n",
        "      <td>    28</td>\n",
        "      <td>      7</td>\n",
        "      <td>     6</td>\n",
        "      <td>   NaN</td>\n",
        "      <td>   NaN</td>\n",
        "      <td>   NaN</td>\n",
        "    </tr>\n",
        "    <tr>\n",
        "      <th>Manager</th>\n",
        "      <td>    6</td>\n",
        "      <td>   126</td>\n",
        "      <td>   1410</td>\n",
        "      <td>   44276</td>\n",
        "      <td>    37</td>\n",
        "      <td>   1580</td>\n",
        "      <td>   562</td>\n",
        "      <td>   874</td>\n",
        "      <td>  1532</td>\n",
        "      <td>  6345</td>\n",
        "    </tr>\n",
        "    <tr>\n",
        "      <th>Managing Director</th>\n",
        "      <td>   20</td>\n",
        "      <td>    43</td>\n",
        "      <td>    145</td>\n",
        "      <td>    4864</td>\n",
        "      <td>    23</td>\n",
        "      <td>    454</td>\n",
        "      <td>    64</td>\n",
        "      <td>     9</td>\n",
        "      <td>     3</td>\n",
        "      <td>    40</td>\n",
        "    </tr>\n",
        "    <tr>\n",
        "      <th>N/A</th>\n",
        "      <td> 2308</td>\n",
        "      <td> 11222</td>\n",
        "      <td> 102991</td>\n",
        "      <td> 2675859</td>\n",
        "      <td> 18751</td>\n",
        "      <td> 156600</td>\n",
        "      <td> 21300</td>\n",
        "      <td> 41642</td>\n",
        "      <td> 33200</td>\n",
        "      <td> 45988</td>\n",
        "    </tr>\n",
        "    <tr>\n",
        "      <th>President</th>\n",
        "      <td>    6</td>\n",
        "      <td>    88</td>\n",
        "      <td>   1215</td>\n",
        "      <td>   12363</td>\n",
        "      <td>   120</td>\n",
        "      <td>    467</td>\n",
        "      <td>   438</td>\n",
        "      <td>    33</td>\n",
        "      <td>   106</td>\n",
        "      <td>   541</td>\n",
        "    </tr>\n",
        "    <tr>\n",
        "      <th>Trader</th>\n",
        "      <td>  NaN</td>\n",
        "      <td>    11</td>\n",
        "      <td>    264</td>\n",
        "      <td>   18446</td>\n",
        "      <td>    13</td>\n",
        "      <td>   1362</td>\n",
        "      <td>    10</td>\n",
        "      <td>   211</td>\n",
        "      <td>   141</td>\n",
        "      <td>   247</td>\n",
        "    </tr>\n",
        "    <tr>\n",
        "      <th>Vice President</th>\n",
        "      <td>  102</td>\n",
        "      <td>   589</td>\n",
        "      <td>   8158</td>\n",
        "      <td>   74990</td>\n",
        "      <td>   344</td>\n",
        "      <td>   4724</td>\n",
        "      <td>  1015</td>\n",
        "      <td>   188</td>\n",
        "      <td>  1111</td>\n",
        "      <td>  1008</td>\n",
        "    </tr>\n",
        "  </tbody>\n",
        "</table>\n",
        "</div>"
       ],
       "metadata": {},
       "output_type": "pyout",
       "prompt_number": 14,
       "text": [
        "                   In House Lawyer    CEO  Vice President      N/A  \\\n",
        "CEO                             22    165             851    19530   \n",
        "Director                       NaN      7             408     9489   \n",
        "Employee                         9    398           13772   285710   \n",
        "In House Lawyer                  1     16              43      975   \n",
        "Manager                          6    126            1410    44276   \n",
        "Managing Director               20     43             145     4864   \n",
        "N/A                           2308  11222          102991  2675859   \n",
        "President                        6     88            1215    12363   \n",
        "Trader                         NaN     11             264    18446   \n",
        "Vice President                 102    589            8158    74990   \n",
        "\n",
        "                   Managing Director  Employee  President  Trader  Director  \\\n",
        "CEO                              204       263        315      72        49   \n",
        "Director                           1       349         63      50       530   \n",
        "Employee                         452      6614        734    1305      1855   \n",
        "In House Lawyer                   28         7          6     NaN       NaN   \n",
        "Manager                           37      1580        562     874      1532   \n",
        "Managing Director                 23       454         64       9         3   \n",
        "N/A                            18751    156600      21300   41642     33200   \n",
        "President                        120       467        438      33       106   \n",
        "Trader                            13      1362         10     211       141   \n",
        "Vice President                   344      4724       1015     188      1111   \n",
        "\n",
        "                   Manager  \n",
        "CEO                    335  \n",
        "Director               194  \n",
        "Employee              1114  \n",
        "In House Lawyer        NaN  \n",
        "Manager               6345  \n",
        "Managing Director       40  \n",
        "N/A                  45988  \n",
        "President              541  \n",
        "Trader                 247  \n",
        "Vice President        1008  "
       ]
      }
     ],
     "prompt_number": 14
    },
    {
     "cell_type": "markdown",
     "metadata": {},
     "source": [
      "## Position to position ratios over time"
     ]
    },
    {
     "cell_type": "code",
     "collapsed": false,
     "input": [
      "start_date = data.Date.min()\n",
      "end_date = data.Date.max()\n",
      "delta = dt.timedelta(days=20)\n",
      "\n",
      "edge_types = defaultdict(dict)\n",
      "\n",
      "print dt.datetime.now()\n",
      "while start_date < end_date:\n",
      "    next_date = start_date + delta\n",
      "    try:\n",
      "        G = create_network_subset(data, start_date, next_date, 5)\n",
      "        type_counts = count_edge_types(G, normalized=True)\n",
      "        for t, c in type_counts.items():\n",
      "            edge_types[t][start_date] = c\n",
      "    except:\n",
      "        print \"Error on:\", start_date\n",
      "    start_date = next_date\n",
      "\n",
      "edge_types_df = pandas.DataFrame(edge_types)"
     ],
     "language": "python",
     "metadata": {},
     "outputs": [
      {
       "output_type": "stream",
       "stream": "stdout",
       "text": [
        "2014-04-26 13:31:00.375946\n",
        "Error on:"
       ]
      },
      {
       "output_type": "stream",
       "stream": "stdout",
       "text": [
        " 2002-07-27 00:00:00\n",
        "Error on: 2002-08-16 00:00:00\n",
        "Error on:"
       ]
      },
      {
       "output_type": "stream",
       "stream": "stdout",
       "text": [
        " 2002-09-05 00:00:00\n",
        "Error on:"
       ]
      },
      {
       "output_type": "stream",
       "stream": "stdout",
       "text": [
        " 2002-10-15 00:00:00\n",
        "Error on: 2002-11-04 00:00:00\n",
        "Error on:"
       ]
      },
      {
       "output_type": "stream",
       "stream": "stdout",
       "text": [
        " 2002-11-24 00:00:00\n"
       ]
      }
     ],
     "prompt_number": 15
    },
    {
     "cell_type": "markdown",
     "metadata": {},
     "source": [
      "## Removing N/As"
     ]
    },
    {
     "cell_type": "code",
     "collapsed": false,
     "input": [
      "position_df = positions.reset_index()"
     ],
     "language": "python",
     "metadata": {},
     "outputs": [],
     "prompt_number": 16
    },
    {
     "cell_type": "code",
     "collapsed": false,
     "input": [
      "position_df.head()"
     ],
     "language": "python",
     "metadata": {},
     "outputs": [
      {
       "html": [
        "<div style=\"max-height:1000px;max-width:1500px;overflow:auto;\">\n",
        "<table border=\"1\" class=\"dataframe\">\n",
        "  <thead>\n",
        "    <tr style=\"text-align: right;\">\n",
        "      <th></th>\n",
        "      <th>Email</th>\n",
        "      <th>Position</th>\n",
        "    </tr>\n",
        "  </thead>\n",
        "  <tbody>\n",
        "    <tr>\n",
        "      <th>0</th>\n",
        "      <td>   marie.heard@enron.com</td>\n",
        "      <td>      N/A</td>\n",
        "    </tr>\n",
        "    <tr>\n",
        "      <th>1</th>\n",
        "      <td> mark.e.taylor@enron.com</td>\n",
        "      <td> Employee</td>\n",
        "    </tr>\n",
        "    <tr>\n",
        "      <th>2</th>\n",
        "      <td>  lindy.donoho@enron.com</td>\n",
        "      <td> Employee</td>\n",
        "    </tr>\n",
        "    <tr>\n",
        "      <th>3</th>\n",
        "      <td>     lisa.gang@enron.com</td>\n",
        "      <td>      N/A</td>\n",
        "    </tr>\n",
        "    <tr>\n",
        "      <th>4</th>\n",
        "      <td> jeff.skilling@enron.com</td>\n",
        "      <td>      CEO</td>\n",
        "    </tr>\n",
        "  </tbody>\n",
        "</table>\n",
        "</div>"
       ],
       "metadata": {},
       "output_type": "pyout",
       "prompt_number": 17,
       "text": [
        "                     Email  Position\n",
        "0    marie.heard@enron.com       N/A\n",
        "1  mark.e.taylor@enron.com  Employee\n",
        "2   lindy.donoho@enron.com  Employee\n",
        "3      lisa.gang@enron.com       N/A\n",
        "4  jeff.skilling@enron.com       CEO"
       ]
      }
     ],
     "prompt_number": 17
    },
    {
     "cell_type": "code",
     "collapsed": false,
     "input": [
      "data = data.merge(position_df, how='left', left_on=\"From\", right_on=\"Email\")\n",
      "data.rename(columns={\"Position\": \"From_Position\"}, inplace=True)"
     ],
     "language": "python",
     "metadata": {},
     "outputs": [],
     "prompt_number": 18
    },
    {
     "cell_type": "code",
     "collapsed": false,
     "input": [
      "data = data.merge(position_df, how='left', left_on=\"To\", right_on=\"Email\")\n",
      "data.rename(columns={\"Position\": \"To_Position\"}, inplace=True)"
     ],
     "language": "python",
     "metadata": {},
     "outputs": [],
     "prompt_number": 19
    },
    {
     "cell_type": "code",
     "collapsed": false,
     "input": [
      "data.From_Position.fillna(\"N/A\", inplace=True)\n",
      "data.To_Position.fillna(\"N/A\", inplace=True)"
     ],
     "language": "python",
     "metadata": {},
     "outputs": [],
     "prompt_number": 21
    },
    {
     "cell_type": "code",
     "collapsed": false,
     "input": [
      "subset = data[(data.From_Position != \"N/A\") & (data.To_Position != \"N/A\")]"
     ],
     "language": "python",
     "metadata": {},
     "outputs": [],
     "prompt_number": 23
    },
    {
     "cell_type": "code",
     "collapsed": false,
     "input": [
      "pandas.crosstab(subset.From_Position, subset.To_Position)"
     ],
     "language": "python",
     "metadata": {},
     "outputs": [
      {
       "html": [
        "<div style=\"max-height:1000px;max-width:1500px;overflow:auto;\">\n",
        "<table border=\"1\" class=\"dataframe\">\n",
        "  <thead>\n",
        "    <tr style=\"text-align: right;\">\n",
        "      <th>To_Position</th>\n",
        "      <th>CEO</th>\n",
        "      <th>Director</th>\n",
        "      <th>Employee</th>\n",
        "      <th>In House Lawyer</th>\n",
        "      <th>Manager</th>\n",
        "      <th>Managing Director</th>\n",
        "      <th>President</th>\n",
        "      <th>Trader</th>\n",
        "      <th>Vice President</th>\n",
        "    </tr>\n",
        "    <tr>\n",
        "      <th>From_Position</th>\n",
        "      <th></th>\n",
        "      <th></th>\n",
        "      <th></th>\n",
        "      <th></th>\n",
        "      <th></th>\n",
        "      <th></th>\n",
        "      <th></th>\n",
        "      <th></th>\n",
        "      <th></th>\n",
        "    </tr>\n",
        "  </thead>\n",
        "  <tbody>\n",
        "    <tr>\n",
        "      <th>CEO</th>\n",
        "      <td> 165</td>\n",
        "      <td>   49</td>\n",
        "      <td>  263</td>\n",
        "      <td>  22</td>\n",
        "      <td>  335</td>\n",
        "      <td> 204</td>\n",
        "      <td>  315</td>\n",
        "      <td>   72</td>\n",
        "      <td>   851</td>\n",
        "    </tr>\n",
        "    <tr>\n",
        "      <th>Director</th>\n",
        "      <td>   7</td>\n",
        "      <td>  530</td>\n",
        "      <td>  349</td>\n",
        "      <td>   0</td>\n",
        "      <td>  194</td>\n",
        "      <td>   1</td>\n",
        "      <td>   63</td>\n",
        "      <td>   50</td>\n",
        "      <td>   408</td>\n",
        "    </tr>\n",
        "    <tr>\n",
        "      <th>Employee</th>\n",
        "      <td> 398</td>\n",
        "      <td> 1855</td>\n",
        "      <td> 6614</td>\n",
        "      <td>   9</td>\n",
        "      <td> 1114</td>\n",
        "      <td> 452</td>\n",
        "      <td>  734</td>\n",
        "      <td> 1305</td>\n",
        "      <td> 13772</td>\n",
        "    </tr>\n",
        "    <tr>\n",
        "      <th>In House Lawyer</th>\n",
        "      <td>  16</td>\n",
        "      <td>    0</td>\n",
        "      <td>    7</td>\n",
        "      <td>   1</td>\n",
        "      <td>    0</td>\n",
        "      <td>  28</td>\n",
        "      <td>    6</td>\n",
        "      <td>    0</td>\n",
        "      <td>    43</td>\n",
        "    </tr>\n",
        "    <tr>\n",
        "      <th>Manager</th>\n",
        "      <td> 126</td>\n",
        "      <td> 1532</td>\n",
        "      <td> 1580</td>\n",
        "      <td>   6</td>\n",
        "      <td> 6345</td>\n",
        "      <td>  37</td>\n",
        "      <td>  562</td>\n",
        "      <td>  874</td>\n",
        "      <td>  1410</td>\n",
        "    </tr>\n",
        "    <tr>\n",
        "      <th>Managing Director</th>\n",
        "      <td>  43</td>\n",
        "      <td>    3</td>\n",
        "      <td>  454</td>\n",
        "      <td>  20</td>\n",
        "      <td>   40</td>\n",
        "      <td>  23</td>\n",
        "      <td>   64</td>\n",
        "      <td>    9</td>\n",
        "      <td>   145</td>\n",
        "    </tr>\n",
        "    <tr>\n",
        "      <th>President</th>\n",
        "      <td>  88</td>\n",
        "      <td>  106</td>\n",
        "      <td>  467</td>\n",
        "      <td>   6</td>\n",
        "      <td>  541</td>\n",
        "      <td> 120</td>\n",
        "      <td>  438</td>\n",
        "      <td>   33</td>\n",
        "      <td>  1215</td>\n",
        "    </tr>\n",
        "    <tr>\n",
        "      <th>Trader</th>\n",
        "      <td>  11</td>\n",
        "      <td>  141</td>\n",
        "      <td> 1362</td>\n",
        "      <td>   0</td>\n",
        "      <td>  247</td>\n",
        "      <td>  13</td>\n",
        "      <td>   10</td>\n",
        "      <td>  211</td>\n",
        "      <td>   264</td>\n",
        "    </tr>\n",
        "    <tr>\n",
        "      <th>Vice President</th>\n",
        "      <td> 589</td>\n",
        "      <td> 1111</td>\n",
        "      <td> 4724</td>\n",
        "      <td> 102</td>\n",
        "      <td> 1008</td>\n",
        "      <td> 344</td>\n",
        "      <td> 1015</td>\n",
        "      <td>  188</td>\n",
        "      <td>  8158</td>\n",
        "    </tr>\n",
        "  </tbody>\n",
        "</table>\n",
        "</div>"
       ],
       "metadata": {},
       "output_type": "pyout",
       "prompt_number": 27,
       "text": [
        "To_Position        CEO  Director  Employee  In House Lawyer  Manager  \\\n",
        "From_Position                                                          \n",
        "CEO                165        49       263               22      335   \n",
        "Director             7       530       349                0      194   \n",
        "Employee           398      1855      6614                9     1114   \n",
        "In House Lawyer     16         0         7                1        0   \n",
        "Manager            126      1532      1580                6     6345   \n",
        "Managing Director   43         3       454               20       40   \n",
        "President           88       106       467                6      541   \n",
        "Trader              11       141      1362                0      247   \n",
        "Vice President     589      1111      4724              102     1008   \n",
        "\n",
        "To_Position        Managing Director  President  Trader  Vice President  \n",
        "From_Position                                                            \n",
        "CEO                              204        315      72             851  \n",
        "Director                           1         63      50             408  \n",
        "Employee                         452        734    1305           13772  \n",
        "In House Lawyer                   28          6       0              43  \n",
        "Manager                           37        562     874            1410  \n",
        "Managing Director                 23         64       9             145  \n",
        "President                        120        438      33            1215  \n",
        "Trader                            13         10     211             264  \n",
        "Vice President                   344       1015     188            8158  "
       ]
      }
     ],
     "prompt_number": 27
    },
    {
     "cell_type": "code",
     "collapsed": false,
     "input": [],
     "language": "python",
     "metadata": {},
     "outputs": []
    }
   ],
   "metadata": {}
  }
 ]
}